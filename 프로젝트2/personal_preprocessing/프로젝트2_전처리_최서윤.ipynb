{
 "cells": [
  {
   "cell_type": "markdown",
   "id": "25aadd27",
   "metadata": {},
   "source": [
    "## 1. import"
   ]
  },
  {
   "cell_type": "code",
   "execution_count": 1,
   "id": "db5ee69b",
   "metadata": {},
   "outputs": [],
   "source": [
    "import pandas as pd\n",
    "import numpy as np\n",
    "import seaborn as sns\n",
    "import matplotlib.pyplot as plt\n",
    "%matplotlib inline\n",
    "\n",
    "from sklearn.preprocessing import LabelEncoder\n",
    "from sklearn.preprocessing import OneHotEncoder\n",
    "\n",
    "import warnings\n",
    "warnings.filterwarnings('ignore')"
   ]
  },
  {
   "cell_type": "markdown",
   "id": "e1d44f9d",
   "metadata": {},
   "source": [
    "## 2. train data 살펴보기"
   ]
  },
  {
   "cell_type": "code",
   "execution_count": 2,
   "id": "04d154d7",
   "metadata": {},
   "outputs": [
    {
     "data": {
      "text/html": [
       "<div>\n",
       "<style scoped>\n",
       "    .dataframe tbody tr th:only-of-type {\n",
       "        vertical-align: middle;\n",
       "    }\n",
       "\n",
       "    .dataframe tbody tr th {\n",
       "        vertical-align: top;\n",
       "    }\n",
       "\n",
       "    .dataframe thead th {\n",
       "        text-align: right;\n",
       "    }\n",
       "</style>\n",
       "<table border=\"1\" class=\"dataframe\">\n",
       "  <thead>\n",
       "    <tr style=\"text-align: right;\">\n",
       "      <th></th>\n",
       "      <th>index</th>\n",
       "      <th>QaA</th>\n",
       "      <th>QaE</th>\n",
       "      <th>QbA</th>\n",
       "      <th>QbE</th>\n",
       "      <th>QcA</th>\n",
       "      <th>QcE</th>\n",
       "      <th>QdA</th>\n",
       "      <th>QdE</th>\n",
       "      <th>QeA</th>\n",
       "      <th>...</th>\n",
       "      <th>wr_04</th>\n",
       "      <th>wr_05</th>\n",
       "      <th>wr_06</th>\n",
       "      <th>wr_07</th>\n",
       "      <th>wr_08</th>\n",
       "      <th>wr_09</th>\n",
       "      <th>wr_10</th>\n",
       "      <th>wr_11</th>\n",
       "      <th>wr_12</th>\n",
       "      <th>wr_13</th>\n",
       "    </tr>\n",
       "  </thead>\n",
       "  <tbody>\n",
       "    <tr>\n",
       "      <th>0</th>\n",
       "      <td>43375</td>\n",
       "      <td>1.0</td>\n",
       "      <td>324</td>\n",
       "      <td>5.0</td>\n",
       "      <td>1067</td>\n",
       "      <td>5.0</td>\n",
       "      <td>359</td>\n",
       "      <td>1.0</td>\n",
       "      <td>709</td>\n",
       "      <td>1.0</td>\n",
       "      <td>...</td>\n",
       "      <td>1</td>\n",
       "      <td>1</td>\n",
       "      <td>1</td>\n",
       "      <td>1</td>\n",
       "      <td>1</td>\n",
       "      <td>0</td>\n",
       "      <td>1</td>\n",
       "      <td>0</td>\n",
       "      <td>1</td>\n",
       "      <td>1</td>\n",
       "    </tr>\n",
       "    <tr>\n",
       "      <th>1</th>\n",
       "      <td>4486</td>\n",
       "      <td>1.0</td>\n",
       "      <td>534</td>\n",
       "      <td>5.0</td>\n",
       "      <td>1555</td>\n",
       "      <td>5.0</td>\n",
       "      <td>2024</td>\n",
       "      <td>1.0</td>\n",
       "      <td>1097</td>\n",
       "      <td>1.0</td>\n",
       "      <td>...</td>\n",
       "      <td>1</td>\n",
       "      <td>1</td>\n",
       "      <td>1</td>\n",
       "      <td>1</td>\n",
       "      <td>1</td>\n",
       "      <td>0</td>\n",
       "      <td>1</td>\n",
       "      <td>0</td>\n",
       "      <td>1</td>\n",
       "      <td>1</td>\n",
       "    </tr>\n",
       "    <tr>\n",
       "      <th>2</th>\n",
       "      <td>10262</td>\n",
       "      <td>5.0</td>\n",
       "      <td>609</td>\n",
       "      <td>1.0</td>\n",
       "      <td>749</td>\n",
       "      <td>2.0</td>\n",
       "      <td>624</td>\n",
       "      <td>1.0</td>\n",
       "      <td>1833</td>\n",
       "      <td>3.0</td>\n",
       "      <td>...</td>\n",
       "      <td>1</td>\n",
       "      <td>1</td>\n",
       "      <td>0</td>\n",
       "      <td>1</td>\n",
       "      <td>1</td>\n",
       "      <td>0</td>\n",
       "      <td>1</td>\n",
       "      <td>0</td>\n",
       "      <td>1</td>\n",
       "      <td>0</td>\n",
       "    </tr>\n",
       "  </tbody>\n",
       "</table>\n",
       "<p>3 rows × 78 columns</p>\n",
       "</div>"
      ],
      "text/plain": [
       "   index  QaA  QaE  QbA   QbE  QcA   QcE  QdA   QdE  QeA  ...  wr_04  wr_05  \\\n",
       "0  43375  1.0  324  5.0  1067  5.0   359  1.0   709  1.0  ...      1      1   \n",
       "1   4486  1.0  534  5.0  1555  5.0  2024  1.0  1097  1.0  ...      1      1   \n",
       "2  10262  5.0  609  1.0   749  2.0   624  1.0  1833  3.0  ...      1      1   \n",
       "\n",
       "   wr_06  wr_07  wr_08  wr_09  wr_10  wr_11  wr_12  wr_13  \n",
       "0      1      1      1      0      1      0      1      1  \n",
       "1      1      1      1      0      1      0      1      1  \n",
       "2      0      1      1      0      1      0      1      0  \n",
       "\n",
       "[3 rows x 78 columns]"
      ]
     },
     "execution_count": 2,
     "metadata": {},
     "output_type": "execute_result"
    }
   ],
   "source": [
    "vote_df = pd.read_csv('./train.csv')\n",
    "vote_df.head(3)"
   ]
  },
  {
   "cell_type": "markdown",
   "id": "dcf8f0ec",
   "metadata": {},
   "source": [
    "아래의 코드로 **null값이 없음**을 알 수 있다."
   ]
  },
  {
   "cell_type": "code",
   "execution_count": 3,
   "id": "ad6e107e",
   "metadata": {},
   "outputs": [
    {
     "data": {
      "text/plain": [
       "0"
      ]
     },
     "execution_count": 3,
     "metadata": {},
     "output_type": "execute_result"
    }
   ],
   "source": [
    "vote_df.isnull().sum().sum()"
   ]
  },
  {
   "cell_type": "code",
   "execution_count": 4,
   "id": "ede1d114",
   "metadata": {},
   "outputs": [
    {
     "name": "stdout",
     "output_type": "stream",
     "text": [
      "<class 'pandas.core.frame.DataFrame'>\n",
      "RangeIndex: 36425 entries, 0 to 36424\n",
      "Data columns (total 78 columns):\n",
      "index         36425 non-null int64\n",
      "QaA           36425 non-null float64\n",
      "QaE           36425 non-null int64\n",
      "QbA           36425 non-null float64\n",
      "QbE           36425 non-null int64\n",
      "QcA           36425 non-null float64\n",
      "QcE           36425 non-null int64\n",
      "QdA           36425 non-null float64\n",
      "QdE           36425 non-null int64\n",
      "QeA           36425 non-null float64\n",
      "QeE           36425 non-null int64\n",
      "QfA           36425 non-null float64\n",
      "QfE           36425 non-null int64\n",
      "QgA           36425 non-null float64\n",
      "QgE           36425 non-null int64\n",
      "QhA           36425 non-null float64\n",
      "QhE           36425 non-null int64\n",
      "QiA           36425 non-null float64\n",
      "QiE           36425 non-null int64\n",
      "QjA           36425 non-null float64\n",
      "QjE           36425 non-null int64\n",
      "QkA           36425 non-null float64\n",
      "QkE           36425 non-null int64\n",
      "QlA           36425 non-null float64\n",
      "QlE           36425 non-null int64\n",
      "QmA           36425 non-null float64\n",
      "QmE           36425 non-null int64\n",
      "QnA           36425 non-null float64\n",
      "QnE           36425 non-null int64\n",
      "QoA           36425 non-null float64\n",
      "QoE           36425 non-null int64\n",
      "QpA           36425 non-null float64\n",
      "QpE           36425 non-null int64\n",
      "QqA           36425 non-null float64\n",
      "QqE           36425 non-null int64\n",
      "QrA           36425 non-null float64\n",
      "QrE           36425 non-null int64\n",
      "QsA           36425 non-null float64\n",
      "QsE           36425 non-null int64\n",
      "QtA           36425 non-null float64\n",
      "QtE           36425 non-null int64\n",
      "age_group     36425 non-null object\n",
      "education     36425 non-null int64\n",
      "engnat        36425 non-null int64\n",
      "familysize    36425 non-null int64\n",
      "gender        36425 non-null object\n",
      "hand          36425 non-null int64\n",
      "married       36425 non-null int64\n",
      "race          36425 non-null object\n",
      "religion      36425 non-null object\n",
      "tp01          36425 non-null int64\n",
      "tp02          36425 non-null int64\n",
      "tp03          36425 non-null int64\n",
      "tp04          36425 non-null int64\n",
      "tp05          36425 non-null int64\n",
      "tp06          36425 non-null int64\n",
      "tp07          36425 non-null int64\n",
      "tp08          36425 non-null int64\n",
      "tp09          36425 non-null int64\n",
      "tp10          36425 non-null int64\n",
      "urban         36425 non-null int64\n",
      "voted         36425 non-null int64\n",
      "wf_01         36425 non-null int64\n",
      "wf_02         36425 non-null int64\n",
      "wf_03         36425 non-null int64\n",
      "wr_01         36425 non-null int64\n",
      "wr_02         36425 non-null int64\n",
      "wr_03         36425 non-null int64\n",
      "wr_04         36425 non-null int64\n",
      "wr_05         36425 non-null int64\n",
      "wr_06         36425 non-null int64\n",
      "wr_07         36425 non-null int64\n",
      "wr_08         36425 non-null int64\n",
      "wr_09         36425 non-null int64\n",
      "wr_10         36425 non-null int64\n",
      "wr_11         36425 non-null int64\n",
      "wr_12         36425 non-null int64\n",
      "wr_13         36425 non-null int64\n",
      "dtypes: float64(20), int64(54), object(4)\n",
      "memory usage: 21.7+ MB\n"
     ]
    }
   ],
   "source": [
    "vote_df.info()"
   ]
  },
  {
   "cell_type": "code",
   "execution_count": 5,
   "id": "7d4689e7",
   "metadata": {},
   "outputs": [],
   "source": [
    "def voted_prob(df=None, column=None):\n",
    "    voted_people = df[df['voted']==1]\n",
    "    uniques = df[column].unique()\n",
    "    \n",
    "    # 투표한 사람들 중 unique의 비율 (e.g. 투표한 사람들 중 남자의 비율)\n",
    "    for unique in uniques:\n",
    "        prob = round( len(voted_people[voted_people[column]==unique])/len(voted_people), 4)\n",
    "        print(\"투표한 사람들 중\", unique, \"비율:\", prob)\n",
    "    print(\"\")\n",
    "    \n",
    "    # column 속에서 unique마다의 비율 (e.g. gender 컬럼에서 남자의 비율)\n",
    "    for unique in uniques:\n",
    "        prob = round(len(df[df[column]==unique])/len(vote_df), 4)\n",
    "        print(column, \"컬럼 중\", unique, \"의 비율:\",prob)\n",
    "    print(\"\")\n",
    "    \n",
    "    # unique 중에서 투표를 한 비율 (e.g.남자 중에서 투표를 한 비율)\n",
    "    for unique in uniques:\n",
    "        prob = round( len(voted_people[voted_people[column]==unique])/len(df[df[column]==unique]), 4)\n",
    "        print(unique, \"중 투표를 한 비율: \", prob)"
   ]
  },
  {
   "cell_type": "markdown",
   "id": "e3ff1773",
   "metadata": {},
   "source": [
    "## 2-1. gender컬럼\n",
    "내가 맡은 column은  gender, married, race, religion이다."
   ]
  },
  {
   "cell_type": "code",
   "execution_count": 6,
   "id": "4a7d4856",
   "metadata": {},
   "outputs": [
    {
     "data": {
      "text/plain": [
       "Male      19377\n",
       "Female    17048\n",
       "Name: gender, dtype: int64"
      ]
     },
     "execution_count": 6,
     "metadata": {},
     "output_type": "execute_result"
    }
   ],
   "source": [
    "vote_df['gender'].value_counts()"
   ]
  },
  {
   "cell_type": "code",
   "execution_count": 7,
   "id": "ae0ca991",
   "metadata": {},
   "outputs": [
    {
     "data": {
      "text/plain": [
       "gender  voted\n",
       "Female  0         9159\n",
       "        1         7889\n",
       "Male    0        10759\n",
       "        1         8618\n",
       "Name: voted, dtype: int64"
      ]
     },
     "execution_count": 7,
     "metadata": {},
     "output_type": "execute_result"
    }
   ],
   "source": [
    "# 성별이 투표 확률에 영향을 미쳤을까?\n",
    "vote_df.groupby(['gender', 'voted'])['voted'].count()"
   ]
  },
  {
   "cell_type": "code",
   "execution_count": 8,
   "id": "500091dc",
   "metadata": {},
   "outputs": [
    {
     "name": "stdout",
     "output_type": "stream",
     "text": [
      "투표한 사람들 중 Male 비율: 0.5221\n",
      "투표한 사람들 중 Female 비율: 0.4779\n",
      "\n",
      "gender 컬럼 중 Male 의 비율: 0.532\n",
      "gender 컬럼 중 Female 의 비율: 0.468\n",
      "\n",
      "Male 중 투표를 한 비율:  0.4448\n",
      "Female 중 투표를 한 비율:  0.4628\n"
     ]
    },
    {
     "data": {
      "image/png": "[encoded data removed]",
      "text/plain": [
       "<Figure size 432x288 with 1 Axes>"
      ]
     },
     "metadata": {
      "needs_background": "light"
     },
     "output_type": "display_data"
    }
   ],
   "source": [
    "# 남자와 여자의 투표 비율에 큰 차이가 나지 않는다\n",
    "sns.barplot(x='gender', y='voted', data=vote_df)\n",
    "\n",
    "voted_prob(df=vote_df, column='gender')"
   ]
  },
  {
   "cell_type": "markdown",
   "id": "79119aa2",
   "metadata": {},
   "source": [
    "### 결론: 'gender'는 모델 훈련에 넣지 않아도 된다. 인코딩에서 완전 제외."
   ]
  },
  {
   "cell_type": "markdown",
   "id": "1a525fe1",
   "metadata": {},
   "source": [
    "## 2-2. married 컬럼"
   ]
  },
  {
   "cell_type": "code",
   "execution_count": 9,
   "id": "ebb5e2a3",
   "metadata": {},
   "outputs": [
    {
     "data": {
      "text/plain": [
       "1    25213\n",
       "2     8070\n",
       "3     3068\n",
       "0       74\n",
       "Name: married, dtype: int64"
      ]
     },
     "execution_count": 9,
     "metadata": {},
     "output_type": "execute_result"
    }
   ],
   "source": [
    "vote_df['married'].value_counts()"
   ]
  },
  {
   "cell_type": "code",
   "execution_count": 10,
   "id": "91f19491",
   "metadata": {},
   "outputs": [
    {
     "name": "stdout",
     "output_type": "stream",
     "text": [
      "0의 비율: 0.002\n"
     ]
    }
   ],
   "source": [
    "# 0의 비율이 너무 적다!\n",
    "print(\"0의 비율:\", round(len(vote_df[vote_df['married']==0])/len(vote_df), 4))"
   ]
  },
  {
   "cell_type": "markdown",
   "id": "fc16264e",
   "metadata": {},
   "source": [
    "### 0으로 응답한 답변(0인 row들)은 모두 삭제하는 편이 좋겠다."
   ]
  },
  {
   "cell_type": "code",
   "execution_count": 11,
   "id": "1394ba73",
   "metadata": {},
   "outputs": [
    {
     "data": {
      "text/plain": [
       "married  voted\n",
       "0        0           51\n",
       "         1           23\n",
       "1        0        15899\n",
       "         1         9314\n",
       "2        0         2671\n",
       "         1         5399\n",
       "3        0         1297\n",
       "         1         1771\n",
       "Name: voted, dtype: int64"
      ]
     },
     "execution_count": 11,
     "metadata": {},
     "output_type": "execute_result"
    }
   ],
   "source": [
    "vote_df.groupby(['married', 'voted'])['voted'].count()"
   ]
  },
  {
   "cell_type": "code",
   "execution_count": 12,
   "id": "d425671f",
   "metadata": {},
   "outputs": [
    {
     "data": {
      "text/html": [
       "<div>\n",
       "<style scoped>\n",
       "    .dataframe tbody tr th:only-of-type {\n",
       "        vertical-align: middle;\n",
       "    }\n",
       "\n",
       "    .dataframe tbody tr th {\n",
       "        vertical-align: top;\n",
       "    }\n",
       "\n",
       "    .dataframe thead th {\n",
       "        text-align: right;\n",
       "    }\n",
       "</style>\n",
       "<table border=\"1\" class=\"dataframe\">\n",
       "  <thead>\n",
       "    <tr style=\"text-align: right;\">\n",
       "      <th></th>\n",
       "      <th>married</th>\n",
       "    </tr>\n",
       "  </thead>\n",
       "  <tbody>\n",
       "    <tr>\n",
       "      <th>0</th>\n",
       "      <td>1</td>\n",
       "    </tr>\n",
       "    <tr>\n",
       "      <th>1</th>\n",
       "      <td>1</td>\n",
       "    </tr>\n",
       "    <tr>\n",
       "      <th>2</th>\n",
       "      <td>1</td>\n",
       "    </tr>\n",
       "    <tr>\n",
       "      <th>3</th>\n",
       "      <td>1</td>\n",
       "    </tr>\n",
       "    <tr>\n",
       "      <th>4</th>\n",
       "      <td>1</td>\n",
       "    </tr>\n",
       "    <tr>\n",
       "      <th>...</th>\n",
       "      <td>...</td>\n",
       "    </tr>\n",
       "    <tr>\n",
       "      <th>36420</th>\n",
       "      <td>1</td>\n",
       "    </tr>\n",
       "    <tr>\n",
       "      <th>36421</th>\n",
       "      <td>1</td>\n",
       "    </tr>\n",
       "    <tr>\n",
       "      <th>36422</th>\n",
       "      <td>2</td>\n",
       "    </tr>\n",
       "    <tr>\n",
       "      <th>36423</th>\n",
       "      <td>1</td>\n",
       "    </tr>\n",
       "    <tr>\n",
       "      <th>36424</th>\n",
       "      <td>3</td>\n",
       "    </tr>\n",
       "  </tbody>\n",
       "</table>\n",
       "<p>36425 rows × 1 columns</p>\n",
       "</div>"
      ],
      "text/plain": [
       "       married\n",
       "0            1\n",
       "1            1\n",
       "2            1\n",
       "3            1\n",
       "4            1\n",
       "...        ...\n",
       "36420        1\n",
       "36421        1\n",
       "36422        2\n",
       "36423        1\n",
       "36424        3\n",
       "\n",
       "[36425 rows x 1 columns]"
      ]
     },
     "execution_count": 12,
     "metadata": {},
     "output_type": "execute_result"
    }
   ],
   "source": [
    "# 실험을 위해 mini_vote을 만들 \n",
    "mini_vote = pd.DataFrame(vote_df['married'])\n",
    "mini_vote"
   ]
  },
  {
   "cell_type": "code",
   "execution_count": 13,
   "id": "fa87620d",
   "metadata": {},
   "outputs": [
    {
     "data": {
      "text/plain": [
       "(36351, 1)"
      ]
     },
     "execution_count": 13,
     "metadata": {},
     "output_type": "execute_result"
    }
   ],
   "source": [
    "# 이런식으로하면 train의 0이 모두 사라짐\n",
    "zero_index = mini_vote[mini_vote['married'] == 0].index\n",
    "mini_vote = mini_vote.drop(zero_index)\n",
    "mini_vote.shape"
   ]
  },
  {
   "cell_type": "code",
   "execution_count": 14,
   "id": "5fb7b4a4",
   "metadata": {},
   "outputs": [
    {
     "data": {
      "text/plain": [
       "<matplotlib.axes._subplots.AxesSubplot at 0x21c336d4588>"
      ]
     },
     "execution_count": 14,
     "metadata": {},
     "output_type": "execute_result"
    },
    {
     "data": {
      "image/png": "[encoded data removed]",
      "text/plain": [
       "<Figure size 432x288 with 1 Axes>"
      ]
     },
     "metadata": {
      "needs_background": "light"
     },
     "output_type": "display_data"
    }
   ],
   "source": [
    "sns.barplot(x='married', y='voted', data=vote_df)"
   ]
  },
  {
   "cell_type": "markdown",
   "id": "8c4d8ff6",
   "metadata": {},
   "source": [
    "value_counts()로 봤을 때는 1이 가장 많았는데 투표한건 2가 가장 많다...?!  \n",
    "married는 영항을 준다고 판단함. 이제 이상값제거, 인코딩을 진행해보자.  \n",
    "생각해보니 married는 0~4사이의 숫자이기 때문에 이상값이 나올 수 없음. 인코딩만 진행!"
   ]
  },
  {
   "cell_type": "code",
   "execution_count": 15,
   "id": "0758d479",
   "metadata": {},
   "outputs": [],
   "source": [
    "def get_outlier(df=None, column=None, weight=1.5):\n",
    "    # fraud는 해당하는 column 데이터만 추출\n",
    "    fraud = df[df['voted']==1][column]\n",
    "    print(fraud)\n",
    "    \n",
    "    quantile_25 = np.percentile(fraud.values, 25)    # Q1\n",
    "    quantile_75 = np.percentile(fraud.values, 75)    # Q3\n",
    "    iqr = quantile_75 - quantile_25    # Q1~Q3까지의 부분\n",
    "    print(quantile_25, quantile_75)\n",
    "    \n",
    "    iqr_weight = iqr*weight\n",
    "    lowest_val = quantile_25 - iqr_weight\n",
    "    highest_val = quantile_75 + iqr_weight\n",
    "    \n",
    "    # 최댓값보다 크거나, 최솟값보다 작은 값의 index 반환\n",
    "    outlier_index = fraud[(fraud < lowest_val) | (fraud > highest_val)].index\n",
    "    \n",
    "    return outlier_index"
   ]
  },
  {
   "cell_type": "code",
   "execution_count": 16,
   "id": "cc1604ae",
   "metadata": {},
   "outputs": [
    {
     "name": "stdout",
     "output_type": "stream",
     "text": [
      "0        1\n",
      "1        1\n",
      "2        1\n",
      "4        1\n",
      "6        1\n",
      "        ..\n",
      "36419    2\n",
      "36420    1\n",
      "36422    2\n",
      "36423    1\n",
      "36424    3\n",
      "Name: married, Length: 16507, dtype: int64\n",
      "1.0 2.0\n",
      "이상치 데이터 인덱스는 Int64Index([], dtype='int64')\n"
     ]
    }
   ],
   "source": [
    "outlier_index = get_outlier(df=vote_df, column='married')\n",
    "print(\"이상치 데이터 인덱스는\", outlier_index)"
   ]
  },
  {
   "cell_type": "markdown",
   "id": "56a50809",
   "metadata": {},
   "source": [
    "#### 1) 범주형 변수라고 생각할 경우 → 원핫인코딩\n",
    "결혼에 대해서 true,false라고 생각한다면 카테고리가 하나 더 늘어났을 뿐이니까 범주형이라고 생각 가능.  \n"
   ]
  },
  {
   "cell_type": "code",
   "execution_count": 17,
   "id": "fdc306ce",
   "metadata": {},
   "outputs": [
    {
     "data": {
      "text/plain": [
       "1    25213\n",
       "2     8070\n",
       "3     3068\n",
       "Name: married, dtype: int64"
      ]
     },
     "execution_count": 17,
     "metadata": {},
     "output_type": "execute_result"
    }
   ],
   "source": [
    "mini_vote['married'].value_counts()"
   ]
  },
  {
   "cell_type": "code",
   "execution_count": 18,
   "id": "169fa346",
   "metadata": {},
   "outputs": [
    {
     "data": {
      "text/html": [
       "<div>\n",
       "<style scoped>\n",
       "    .dataframe tbody tr th:only-of-type {\n",
       "        vertical-align: middle;\n",
       "    }\n",
       "\n",
       "    .dataframe tbody tr th {\n",
       "        vertical-align: top;\n",
       "    }\n",
       "\n",
       "    .dataframe thead th {\n",
       "        text-align: right;\n",
       "    }\n",
       "</style>\n",
       "<table border=\"1\" class=\"dataframe\">\n",
       "  <thead>\n",
       "    <tr style=\"text-align: right;\">\n",
       "      <th></th>\n",
       "      <th>1</th>\n",
       "      <th>2</th>\n",
       "      <th>3</th>\n",
       "    </tr>\n",
       "  </thead>\n",
       "  <tbody>\n",
       "    <tr>\n",
       "      <th>0</th>\n",
       "      <td>1</td>\n",
       "      <td>0</td>\n",
       "      <td>0</td>\n",
       "    </tr>\n",
       "    <tr>\n",
       "      <th>1</th>\n",
       "      <td>1</td>\n",
       "      <td>0</td>\n",
       "      <td>0</td>\n",
       "    </tr>\n",
       "    <tr>\n",
       "      <th>2</th>\n",
       "      <td>1</td>\n",
       "      <td>0</td>\n",
       "      <td>0</td>\n",
       "    </tr>\n",
       "    <tr>\n",
       "      <th>3</th>\n",
       "      <td>1</td>\n",
       "      <td>0</td>\n",
       "      <td>0</td>\n",
       "    </tr>\n",
       "    <tr>\n",
       "      <th>4</th>\n",
       "      <td>1</td>\n",
       "      <td>0</td>\n",
       "      <td>0</td>\n",
       "    </tr>\n",
       "    <tr>\n",
       "      <th>...</th>\n",
       "      <td>...</td>\n",
       "      <td>...</td>\n",
       "      <td>...</td>\n",
       "    </tr>\n",
       "    <tr>\n",
       "      <th>36420</th>\n",
       "      <td>1</td>\n",
       "      <td>0</td>\n",
       "      <td>0</td>\n",
       "    </tr>\n",
       "    <tr>\n",
       "      <th>36421</th>\n",
       "      <td>1</td>\n",
       "      <td>0</td>\n",
       "      <td>0</td>\n",
       "    </tr>\n",
       "    <tr>\n",
       "      <th>36422</th>\n",
       "      <td>0</td>\n",
       "      <td>1</td>\n",
       "      <td>0</td>\n",
       "    </tr>\n",
       "    <tr>\n",
       "      <th>36423</th>\n",
       "      <td>1</td>\n",
       "      <td>0</td>\n",
       "      <td>0</td>\n",
       "    </tr>\n",
       "    <tr>\n",
       "      <th>36424</th>\n",
       "      <td>0</td>\n",
       "      <td>0</td>\n",
       "      <td>1</td>\n",
       "    </tr>\n",
       "  </tbody>\n",
       "</table>\n",
       "<p>36351 rows × 3 columns</p>\n",
       "</div>"
      ],
      "text/plain": [
       "       1  2  3\n",
       "0      1  0  0\n",
       "1      1  0  0\n",
       "2      1  0  0\n",
       "3      1  0  0\n",
       "4      1  0  0\n",
       "...   .. .. ..\n",
       "36420  1  0  0\n",
       "36421  1  0  0\n",
       "36422  0  1  0\n",
       "36423  1  0  0\n",
       "36424  0  0  1\n",
       "\n",
       "[36351 rows x 3 columns]"
      ]
     },
     "execution_count": 18,
     "metadata": {},
     "output_type": "execute_result"
    }
   ],
   "source": [
    "pd.get_dummies(mini_vote['married'])"
   ]
  },
  {
   "cell_type": "markdown",
   "id": "522d8f1d",
   "metadata": {},
   "source": [
    "#### 2) 순서형 변수라고 생각할 경우 → 레이블 인코딩(이미 되어있음)\n",
    "교육 수준도 수준에 따라 숫자가 있으니 결혼도 안함, 최근에 함, 예전에 함이라는 순서로 생각할 수 있음.  "
   ]
  },
  {
   "cell_type": "markdown",
   "id": "bc7006ff",
   "metadata": {},
   "source": [
    "## 2-3. race 컬럼"
   ]
  },
  {
   "cell_type": "code",
   "execution_count": 19,
   "id": "c1fd481c",
   "metadata": {},
   "outputs": [
    {
     "data": {
      "text/plain": [
       "race                   voted\n",
       "Arab                   0          193\n",
       "                       1           79\n",
       "Asian                  0         3840\n",
       "                       1         1626\n",
       "Black                  0         1019\n",
       "                       1          689\n",
       "Indigenous Australian  0           26\n",
       "                       1           15\n",
       "Native American        0          255\n",
       "                       1          179\n",
       "Other                  0         2158\n",
       "                       1         1304\n",
       "White                  0        12427\n",
       "                       1        12615\n",
       "Name: voted, dtype: int64"
      ]
     },
     "execution_count": 19,
     "metadata": {},
     "output_type": "execute_result"
    }
   ],
   "source": [
    "vote_df.groupby(['race', 'voted'])['voted'].count()"
   ]
  },
  {
   "cell_type": "code",
   "execution_count": 20,
   "id": "bacd9bd5",
   "metadata": {},
   "outputs": [
    {
     "data": {
      "text/plain": [
       "White                    25042\n",
       "Asian                     5466\n",
       "Other                     3462\n",
       "Black                     1708\n",
       "Native American            434\n",
       "Arab                       272\n",
       "Indigenous Australian       41\n",
       "Name: race, dtype: int64"
      ]
     },
     "execution_count": 20,
     "metadata": {},
     "output_type": "execute_result"
    }
   ],
   "source": [
    "vote_df['race'].value_counts()"
   ]
  },
  {
   "cell_type": "code",
   "execution_count": 21,
   "id": "b7d1a14f",
   "metadata": {},
   "outputs": [
    {
     "name": "stdout",
     "output_type": "stream",
     "text": [
      "투표한 사람들 중 White 비율: 0.7642\n",
      "투표한 사람들 중 Asian 비율: 0.0985\n",
      "투표한 사람들 중 Other 비율: 0.079\n",
      "투표한 사람들 중 Black 비율: 0.0417\n",
      "투표한 사람들 중 Native American 비율: 0.0108\n",
      "투표한 사람들 중 Arab 비율: 0.0048\n",
      "투표한 사람들 중 Indigenous Australian 비율: 0.0009\n",
      "\n",
      "race 컬럼 중 White 의 비율: 0.6875\n",
      "race 컬럼 중 Asian 의 비율: 0.1501\n",
      "race 컬럼 중 Other 의 비율: 0.095\n",
      "race 컬럼 중 Black 의 비율: 0.0469\n",
      "race 컬럼 중 Native American 의 비율: 0.0119\n",
      "race 컬럼 중 Arab 의 비율: 0.0075\n",
      "race 컬럼 중 Indigenous Australian 의 비율: 0.0011\n",
      "\n",
      "White 중 투표를 한 비율:  0.5038\n",
      "Asian 중 투표를 한 비율:  0.2975\n",
      "Other 중 투표를 한 비율:  0.3767\n",
      "Black 중 투표를 한 비율:  0.4034\n",
      "Native American 중 투표를 한 비율:  0.4124\n",
      "Arab 중 투표를 한 비율:  0.2904\n",
      "Indigenous Australian 중 투표를 한 비율:  0.3659\n"
     ]
    },
    {
     "data": {
      "text/plain": [
       "<matplotlib.axes._subplots.AxesSubplot at 0x21c3374d6d8>"
      ]
     },
     "execution_count": 21,
     "metadata": {},
     "output_type": "execute_result"
    },
    {
     "data": {
      "image/png": "[encoded data removed]",
      "text/plain": [
       "<Figure size 432x288 with 1 Axes>"
      ]
     },
     "metadata": {
      "needs_background": "light"
     },
     "output_type": "display_data"
    }
   ],
   "source": [
    "voted_prob(df=vote_df, column='race')\n",
    "\n",
    "plt.xticks(rotation=-90)\n",
    "sns.barplot(x='race', y='voted', data=vote_df)"
   ]
  },
  {
   "cell_type": "markdown",
   "id": "a299b488",
   "metadata": {},
   "source": [
    "#### 이 컬럼을 모델학습에 넣을지 말지 고민중(일단 만들고 넣은 모델, 안넣은 모델 비교 필요)\n",
    "1) 왜 넣어야한다고 생각했나요?  \n",
    "→ 각 인종별 투표의 비율이 0.3~0.5사이로 크게 차이가 있기 때문\n",
    "  \n",
    "2) 왜 넣으면 안된다고 생각했나요?  \n",
    "→ race컬럼 중에 white의 비율이 약 0.7로 압도적으로 많기 때문 → white가 들어오면 그냥 voted로 찍을 수 도 있는 위험성이 존재하게 될수도"
   ]
  },
  {
   "cell_type": "markdown",
   "id": "ed2a541e",
   "metadata": {},
   "source": [
    "### 다시 생각해보니까 빼야겠다! 너무 비율이 치우쳐진 상태라서 필요 없다고 판단하였다. 2주차 제출 전에 한번 넣어보기."
   ]
  },
  {
   "cell_type": "markdown",
   "id": "2cc1fd6b",
   "metadata": {},
   "source": [
    "#### 1) 7개의 인종을 모두 원핫인코딩"
   ]
  },
  {
   "cell_type": "code",
   "execution_count": 22,
   "id": "dce602db",
   "metadata": {},
   "outputs": [
    {
     "data": {
      "text/html": [
       "<div>\n",
       "<style scoped>\n",
       "    .dataframe tbody tr th:only-of-type {\n",
       "        vertical-align: middle;\n",
       "    }\n",
       "\n",
       "    .dataframe tbody tr th {\n",
       "        vertical-align: top;\n",
       "    }\n",
       "\n",
       "    .dataframe thead th {\n",
       "        text-align: right;\n",
       "    }\n",
       "</style>\n",
       "<table border=\"1\" class=\"dataframe\">\n",
       "  <thead>\n",
       "    <tr style=\"text-align: right;\">\n",
       "      <th></th>\n",
       "      <th>race</th>\n",
       "    </tr>\n",
       "  </thead>\n",
       "  <tbody>\n",
       "    <tr>\n",
       "      <th>0</th>\n",
       "      <td>White</td>\n",
       "    </tr>\n",
       "    <tr>\n",
       "      <th>1</th>\n",
       "      <td>Asian</td>\n",
       "    </tr>\n",
       "    <tr>\n",
       "      <th>2</th>\n",
       "      <td>White</td>\n",
       "    </tr>\n",
       "    <tr>\n",
       "      <th>3</th>\n",
       "      <td>Other</td>\n",
       "    </tr>\n",
       "    <tr>\n",
       "      <th>4</th>\n",
       "      <td>White</td>\n",
       "    </tr>\n",
       "    <tr>\n",
       "      <th>...</th>\n",
       "      <td>...</td>\n",
       "    </tr>\n",
       "    <tr>\n",
       "      <th>36420</th>\n",
       "      <td>Black</td>\n",
       "    </tr>\n",
       "    <tr>\n",
       "      <th>36421</th>\n",
       "      <td>White</td>\n",
       "    </tr>\n",
       "    <tr>\n",
       "      <th>36422</th>\n",
       "      <td>White</td>\n",
       "    </tr>\n",
       "    <tr>\n",
       "      <th>36423</th>\n",
       "      <td>White</td>\n",
       "    </tr>\n",
       "    <tr>\n",
       "      <th>36424</th>\n",
       "      <td>White</td>\n",
       "    </tr>\n",
       "  </tbody>\n",
       "</table>\n",
       "<p>36425 rows × 1 columns</p>\n",
       "</div>"
      ],
      "text/plain": [
       "        race\n",
       "0      White\n",
       "1      Asian\n",
       "2      White\n",
       "3      Other\n",
       "4      White\n",
       "...      ...\n",
       "36420  Black\n",
       "36421  White\n",
       "36422  White\n",
       "36423  White\n",
       "36424  White\n",
       "\n",
       "[36425 rows x 1 columns]"
      ]
     },
     "execution_count": 22,
     "metadata": {},
     "output_type": "execute_result"
    }
   ],
   "source": [
    "mini_race = pd.DataFrame(vote_df['race'])\n",
    "mini_race"
   ]
  },
  {
   "cell_type": "code",
   "execution_count": 23,
   "id": "747b4307",
   "metadata": {},
   "outputs": [
    {
     "data": {
      "text/html": [
       "<div>\n",
       "<style scoped>\n",
       "    .dataframe tbody tr th:only-of-type {\n",
       "        vertical-align: middle;\n",
       "    }\n",
       "\n",
       "    .dataframe tbody tr th {\n",
       "        vertical-align: top;\n",
       "    }\n",
       "\n",
       "    .dataframe thead th {\n",
       "        text-align: right;\n",
       "    }\n",
       "</style>\n",
       "<table border=\"1\" class=\"dataframe\">\n",
       "  <thead>\n",
       "    <tr style=\"text-align: right;\">\n",
       "      <th></th>\n",
       "      <th>Arab</th>\n",
       "      <th>Asian</th>\n",
       "      <th>Black</th>\n",
       "      <th>Indigenous Australian</th>\n",
       "      <th>Native American</th>\n",
       "      <th>Other</th>\n",
       "      <th>White</th>\n",
       "    </tr>\n",
       "  </thead>\n",
       "  <tbody>\n",
       "    <tr>\n",
       "      <th>0</th>\n",
       "      <td>0</td>\n",
       "      <td>0</td>\n",
       "      <td>0</td>\n",
       "      <td>0</td>\n",
       "      <td>0</td>\n",
       "      <td>0</td>\n",
       "      <td>1</td>\n",
       "    </tr>\n",
       "    <tr>\n",
       "      <th>1</th>\n",
       "      <td>0</td>\n",
       "      <td>1</td>\n",
       "      <td>0</td>\n",
       "      <td>0</td>\n",
       "      <td>0</td>\n",
       "      <td>0</td>\n",
       "      <td>0</td>\n",
       "    </tr>\n",
       "    <tr>\n",
       "      <th>2</th>\n",
       "      <td>0</td>\n",
       "      <td>0</td>\n",
       "      <td>0</td>\n",
       "      <td>0</td>\n",
       "      <td>0</td>\n",
       "      <td>0</td>\n",
       "      <td>1</td>\n",
       "    </tr>\n",
       "    <tr>\n",
       "      <th>3</th>\n",
       "      <td>0</td>\n",
       "      <td>0</td>\n",
       "      <td>0</td>\n",
       "      <td>0</td>\n",
       "      <td>0</td>\n",
       "      <td>1</td>\n",
       "      <td>0</td>\n",
       "    </tr>\n",
       "    <tr>\n",
       "      <th>4</th>\n",
       "      <td>0</td>\n",
       "      <td>0</td>\n",
       "      <td>0</td>\n",
       "      <td>0</td>\n",
       "      <td>0</td>\n",
       "      <td>0</td>\n",
       "      <td>1</td>\n",
       "    </tr>\n",
       "    <tr>\n",
       "      <th>...</th>\n",
       "      <td>...</td>\n",
       "      <td>...</td>\n",
       "      <td>...</td>\n",
       "      <td>...</td>\n",
       "      <td>...</td>\n",
       "      <td>...</td>\n",
       "      <td>...</td>\n",
       "    </tr>\n",
       "    <tr>\n",
       "      <th>36420</th>\n",
       "      <td>0</td>\n",
       "      <td>0</td>\n",
       "      <td>1</td>\n",
       "      <td>0</td>\n",
       "      <td>0</td>\n",
       "      <td>0</td>\n",
       "      <td>0</td>\n",
       "    </tr>\n",
       "    <tr>\n",
       "      <th>36421</th>\n",
       "      <td>0</td>\n",
       "      <td>0</td>\n",
       "      <td>0</td>\n",
       "      <td>0</td>\n",
       "      <td>0</td>\n",
       "      <td>0</td>\n",
       "      <td>1</td>\n",
       "    </tr>\n",
       "    <tr>\n",
       "      <th>36422</th>\n",
       "      <td>0</td>\n",
       "      <td>0</td>\n",
       "      <td>0</td>\n",
       "      <td>0</td>\n",
       "      <td>0</td>\n",
       "      <td>0</td>\n",
       "      <td>1</td>\n",
       "    </tr>\n",
       "    <tr>\n",
       "      <th>36423</th>\n",
       "      <td>0</td>\n",
       "      <td>0</td>\n",
       "      <td>0</td>\n",
       "      <td>0</td>\n",
       "      <td>0</td>\n",
       "      <td>0</td>\n",
       "      <td>1</td>\n",
       "    </tr>\n",
       "    <tr>\n",
       "      <th>36424</th>\n",
       "      <td>0</td>\n",
       "      <td>0</td>\n",
       "      <td>0</td>\n",
       "      <td>0</td>\n",
       "      <td>0</td>\n",
       "      <td>0</td>\n",
       "      <td>1</td>\n",
       "    </tr>\n",
       "  </tbody>\n",
       "</table>\n",
       "<p>36425 rows × 7 columns</p>\n",
       "</div>"
      ],
      "text/plain": [
       "       Arab  Asian  Black  Indigenous Australian  Native American  Other  \\\n",
       "0         0      0      0                      0                0      0   \n",
       "1         0      1      0                      0                0      0   \n",
       "2         0      0      0                      0                0      0   \n",
       "3         0      0      0                      0                0      1   \n",
       "4         0      0      0                      0                0      0   \n",
       "...     ...    ...    ...                    ...              ...    ...   \n",
       "36420     0      0      1                      0                0      0   \n",
       "36421     0      0      0                      0                0      0   \n",
       "36422     0      0      0                      0                0      0   \n",
       "36423     0      0      0                      0                0      0   \n",
       "36424     0      0      0                      0                0      0   \n",
       "\n",
       "       White  \n",
       "0          1  \n",
       "1          0  \n",
       "2          1  \n",
       "3          0  \n",
       "4          1  \n",
       "...      ...  \n",
       "36420      0  \n",
       "36421      1  \n",
       "36422      1  \n",
       "36423      1  \n",
       "36424      1  \n",
       "\n",
       "[36425 rows x 7 columns]"
      ]
     },
     "execution_count": 23,
     "metadata": {},
     "output_type": "execute_result"
    }
   ],
   "source": [
    "pd.get_dummies(mini_race['race'])"
   ]
  },
  {
   "cell_type": "markdown",
   "id": "7d66e204",
   "metadata": {},
   "source": [
    "#### 2) 몇개의 인종은 하나로(?) 묶은 다음 인코딩"
   ]
  },
  {
   "cell_type": "markdown",
   "id": "482717e8",
   "metadata": {},
   "source": [
    "2-1) white or not_white"
   ]
  },
  {
   "cell_type": "code",
   "execution_count": 24,
   "id": "152e2c0f",
   "metadata": {},
   "outputs": [
    {
     "data": {
      "text/html": [
       "<div>\n",
       "<style scoped>\n",
       "    .dataframe tbody tr th:only-of-type {\n",
       "        vertical-align: middle;\n",
       "    }\n",
       "\n",
       "    .dataframe tbody tr th {\n",
       "        vertical-align: top;\n",
       "    }\n",
       "\n",
       "    .dataframe thead th {\n",
       "        text-align: right;\n",
       "    }\n",
       "</style>\n",
       "<table border=\"1\" class=\"dataframe\">\n",
       "  <thead>\n",
       "    <tr style=\"text-align: right;\">\n",
       "      <th></th>\n",
       "      <th>race</th>\n",
       "      <th>isWhite</th>\n",
       "    </tr>\n",
       "  </thead>\n",
       "  <tbody>\n",
       "    <tr>\n",
       "      <th>0</th>\n",
       "      <td>White</td>\n",
       "      <td>1</td>\n",
       "    </tr>\n",
       "    <tr>\n",
       "      <th>1</th>\n",
       "      <td>Asian</td>\n",
       "      <td>0</td>\n",
       "    </tr>\n",
       "    <tr>\n",
       "      <th>2</th>\n",
       "      <td>White</td>\n",
       "      <td>1</td>\n",
       "    </tr>\n",
       "    <tr>\n",
       "      <th>3</th>\n",
       "      <td>Other</td>\n",
       "      <td>0</td>\n",
       "    </tr>\n",
       "    <tr>\n",
       "      <th>4</th>\n",
       "      <td>White</td>\n",
       "      <td>1</td>\n",
       "    </tr>\n",
       "    <tr>\n",
       "      <th>...</th>\n",
       "      <td>...</td>\n",
       "      <td>...</td>\n",
       "    </tr>\n",
       "    <tr>\n",
       "      <th>36420</th>\n",
       "      <td>Black</td>\n",
       "      <td>0</td>\n",
       "    </tr>\n",
       "    <tr>\n",
       "      <th>36421</th>\n",
       "      <td>White</td>\n",
       "      <td>1</td>\n",
       "    </tr>\n",
       "    <tr>\n",
       "      <th>36422</th>\n",
       "      <td>White</td>\n",
       "      <td>1</td>\n",
       "    </tr>\n",
       "    <tr>\n",
       "      <th>36423</th>\n",
       "      <td>White</td>\n",
       "      <td>1</td>\n",
       "    </tr>\n",
       "    <tr>\n",
       "      <th>36424</th>\n",
       "      <td>White</td>\n",
       "      <td>1</td>\n",
       "    </tr>\n",
       "  </tbody>\n",
       "</table>\n",
       "<p>36425 rows × 2 columns</p>\n",
       "</div>"
      ],
      "text/plain": [
       "        race  isWhite\n",
       "0      White        1\n",
       "1      Asian        0\n",
       "2      White        1\n",
       "3      Other        0\n",
       "4      White        1\n",
       "...      ...      ...\n",
       "36420  Black        0\n",
       "36421  White        1\n",
       "36422  White        1\n",
       "36423  White        1\n",
       "36424  White        1\n",
       "\n",
       "[36425 rows x 2 columns]"
      ]
     },
     "execution_count": 24,
     "metadata": {},
     "output_type": "execute_result"
    }
   ],
   "source": [
    "def is_white(df):\n",
    "    is_white_list=[]\n",
    "    for i in range(len(df)):\n",
    "        if df.iloc[i]['race']=='White':\n",
    "            is_white_list.append(1)\n",
    "        else:\n",
    "            is_white_list.append(0)\n",
    "    return is_white_list\n",
    "            \n",
    "is_white_list = is_white(mini_race)\n",
    "\n",
    "mini_race['isWhite'] = is_white_list\n",
    "mini_race"
   ]
  },
  {
   "cell_type": "markdown",
   "id": "49aaade5",
   "metadata": {},
   "source": [
    "2-2) 같은 인종 중 한자리수 반올림하여 투표비율이 0.3, 0.4, 0.5로 나누어 **라벨인코딩**  \n",
    "White 중 투표를 한 비율:  0.5038  \n",
    "Asian 중 투표를 한 비율:  0.2975  \n",
    "Other 중 투표를 한 비율:  0.3767  \n",
    "Black 중 투표를 한 비율:  0.4034  \n",
    "Native American 중 투표를 한 비율:  0.4124  \n",
    "Arab 중 투표를 한 비율:  0.2904  \n",
    "Indigenous Australian 중 투표를 한 비율:  0.3659  \n",
    "> White는 0.5 → 2로 라벨링  \n",
    "> Other, Black, Native American, Indigenous Australian 는 0.4 → 1로 라벨링  \n",
    "> Asian, Arab는 0.3 → 0로 라벨링"
   ]
  },
  {
   "cell_type": "code",
   "execution_count": 25,
   "id": "1918c6a8",
   "metadata": {},
   "outputs": [
    {
     "data": {
      "text/html": [
       "<div>\n",
       "<style scoped>\n",
       "    .dataframe tbody tr th:only-of-type {\n",
       "        vertical-align: middle;\n",
       "    }\n",
       "\n",
       "    .dataframe tbody tr th {\n",
       "        vertical-align: top;\n",
       "    }\n",
       "\n",
       "    .dataframe thead th {\n",
       "        text-align: right;\n",
       "    }\n",
       "</style>\n",
       "<table border=\"1\" class=\"dataframe\">\n",
       "  <thead>\n",
       "    <tr style=\"text-align: right;\">\n",
       "      <th></th>\n",
       "      <th>race</th>\n",
       "      <th>isWhite</th>\n",
       "      <th>race_labeling</th>\n",
       "    </tr>\n",
       "  </thead>\n",
       "  <tbody>\n",
       "    <tr>\n",
       "      <th>0</th>\n",
       "      <td>White</td>\n",
       "      <td>1</td>\n",
       "      <td>2</td>\n",
       "    </tr>\n",
       "    <tr>\n",
       "      <th>1</th>\n",
       "      <td>Asian</td>\n",
       "      <td>0</td>\n",
       "      <td>0</td>\n",
       "    </tr>\n",
       "    <tr>\n",
       "      <th>2</th>\n",
       "      <td>White</td>\n",
       "      <td>1</td>\n",
       "      <td>2</td>\n",
       "    </tr>\n",
       "    <tr>\n",
       "      <th>3</th>\n",
       "      <td>Other</td>\n",
       "      <td>0</td>\n",
       "      <td>1</td>\n",
       "    </tr>\n",
       "    <tr>\n",
       "      <th>4</th>\n",
       "      <td>White</td>\n",
       "      <td>1</td>\n",
       "      <td>2</td>\n",
       "    </tr>\n",
       "    <tr>\n",
       "      <th>...</th>\n",
       "      <td>...</td>\n",
       "      <td>...</td>\n",
       "      <td>...</td>\n",
       "    </tr>\n",
       "    <tr>\n",
       "      <th>36420</th>\n",
       "      <td>Black</td>\n",
       "      <td>0</td>\n",
       "      <td>1</td>\n",
       "    </tr>\n",
       "    <tr>\n",
       "      <th>36421</th>\n",
       "      <td>White</td>\n",
       "      <td>1</td>\n",
       "      <td>2</td>\n",
       "    </tr>\n",
       "    <tr>\n",
       "      <th>36422</th>\n",
       "      <td>White</td>\n",
       "      <td>1</td>\n",
       "      <td>2</td>\n",
       "    </tr>\n",
       "    <tr>\n",
       "      <th>36423</th>\n",
       "      <td>White</td>\n",
       "      <td>1</td>\n",
       "      <td>2</td>\n",
       "    </tr>\n",
       "    <tr>\n",
       "      <th>36424</th>\n",
       "      <td>White</td>\n",
       "      <td>1</td>\n",
       "      <td>2</td>\n",
       "    </tr>\n",
       "  </tbody>\n",
       "</table>\n",
       "<p>36425 rows × 3 columns</p>\n",
       "</div>"
      ],
      "text/plain": [
       "        race  isWhite  race_labeling\n",
       "0      White        1              2\n",
       "1      Asian        0              0\n",
       "2      White        1              2\n",
       "3      Other        0              1\n",
       "4      White        1              2\n",
       "...      ...      ...            ...\n",
       "36420  Black        0              1\n",
       "36421  White        1              2\n",
       "36422  White        1              2\n",
       "36423  White        1              2\n",
       "36424  White        1              2\n",
       "\n",
       "[36425 rows x 3 columns]"
      ]
     },
     "execution_count": 25,
     "metadata": {},
     "output_type": "execute_result"
    }
   ],
   "source": [
    "def race_labeling(df):\n",
    "    label_list=[]\n",
    "    for i in range(len(df)):\n",
    "        if df.iloc[i]['race']=='White':\n",
    "            label_list.append(2)\n",
    "        elif df.iloc[i]['race']=='Asian' or df.iloc[i]['race']=='Arab':\n",
    "            label_list.append(0)\n",
    "        else:\n",
    "            label_list.append(1)\n",
    "    return label_list\n",
    "\n",
    "label_list = race_labeling(mini_race)\n",
    "\n",
    "mini_race['race_labeling'] = label_list\n",
    "mini_race"
   ]
  },
  {
   "cell_type": "code",
   "execution_count": 26,
   "id": "f856b732",
   "metadata": {},
   "outputs": [
    {
     "data": {
      "text/plain": [
       "array([2, 0, 1], dtype=int64)"
      ]
     },
     "execution_count": 26,
     "metadata": {},
     "output_type": "execute_result"
    }
   ],
   "source": [
    "mini_race['race_labeling'].unique()"
   ]
  },
  {
   "cell_type": "markdown",
   "id": "f10cb5a4",
   "metadata": {},
   "source": [
    "## 2-4. religion컬럼"
   ]
  },
  {
   "cell_type": "code",
   "execution_count": 27,
   "id": "6ea3650c",
   "metadata": {},
   "outputs": [
    {
     "data": {
      "text/plain": [
       "Atheist                 8139\n",
       "Agnostic                7736\n",
       "Christian_Catholic      5131\n",
       "Christian_Other         4072\n",
       "Christian_Protestant    3908\n",
       "Other                   3857\n",
       "Hindu                   1151\n",
       "Muslim                   928\n",
       "Buddhist                 674\n",
       "Jewish                   402\n",
       "Christian_Mormon         332\n",
       "Sikh                      95\n",
       "Name: religion, dtype: int64"
      ]
     },
     "execution_count": 27,
     "metadata": {},
     "output_type": "execute_result"
    }
   ],
   "source": [
    "vote_df['religion'].value_counts()"
   ]
  },
  {
   "cell_type": "code",
   "execution_count": 28,
   "id": "bdfbdaa6",
   "metadata": {},
   "outputs": [
    {
     "data": {
      "text/plain": [
       "religion              voted\n",
       "Agnostic              0        4201\n",
       "                      1        3535\n",
       "Atheist               0        4651\n",
       "                      1        3488\n",
       "Buddhist              0         413\n",
       "                      1         261\n",
       "Christian_Catholic    0        2697\n",
       "                      1        2434\n",
       "Christian_Mormon      0         196\n",
       "                      1         136\n",
       "Christian_Other       0        2206\n",
       "                      1        1866\n",
       "Christian_Protestant  0        1707\n",
       "                      1        2201\n",
       "Hindu                 0         702\n",
       "                      1         449\n",
       "Jewish                0         188\n",
       "                      1         214\n",
       "Muslim                0         634\n",
       "                      1         294\n",
       "Other                 0        2261\n",
       "                      1        1596\n",
       "Sikh                  0          62\n",
       "                      1          33\n",
       "Name: voted, dtype: int64"
      ]
     },
     "execution_count": 28,
     "metadata": {},
     "output_type": "execute_result"
    }
   ],
   "source": [
    "vote_df.groupby(['religion', 'voted'])['voted'].count()"
   ]
  },
  {
   "cell_type": "code",
   "execution_count": 29,
   "id": "177c5347",
   "metadata": {},
   "outputs": [
    {
     "name": "stdout",
     "output_type": "stream",
     "text": [
      "투표한 사람들 중 Christian_Catholic 비율: 0.1475\n",
      "투표한 사람들 중 Hindu 비율: 0.0272\n",
      "투표한 사람들 중 Christian_Other 비율: 0.113\n",
      "투표한 사람들 중 Other 비율: 0.0967\n",
      "투표한 사람들 중 Atheist 비율: 0.2113\n",
      "투표한 사람들 중 Christian_Protestant 비율: 0.1333\n",
      "투표한 사람들 중 Jewish 비율: 0.013\n",
      "투표한 사람들 중 Agnostic 비율: 0.2142\n",
      "투표한 사람들 중 Christian_Mormon 비율: 0.0082\n",
      "투표한 사람들 중 Buddhist 비율: 0.0158\n",
      "투표한 사람들 중 Muslim 비율: 0.0178\n",
      "투표한 사람들 중 Sikh 비율: 0.002\n",
      "\n",
      "religion 컬럼 중 Christian_Catholic 의 비율: 0.1409\n",
      "religion 컬럼 중 Hindu 의 비율: 0.0316\n",
      "religion 컬럼 중 Christian_Other 의 비율: 0.1118\n",
      "religion 컬럼 중 Other 의 비율: 0.1059\n",
      "religion 컬럼 중 Atheist 의 비율: 0.2234\n",
      "religion 컬럼 중 Christian_Protestant 의 비율: 0.1073\n",
      "religion 컬럼 중 Jewish 의 비율: 0.011\n",
      "religion 컬럼 중 Agnostic 의 비율: 0.2124\n",
      "religion 컬럼 중 Christian_Mormon 의 비율: 0.0091\n",
      "religion 컬럼 중 Buddhist 의 비율: 0.0185\n",
      "religion 컬럼 중 Muslim 의 비율: 0.0255\n",
      "religion 컬럼 중 Sikh 의 비율: 0.0026\n",
      "\n",
      "Christian_Catholic 중 투표를 한 비율:  0.4744\n",
      "Hindu 중 투표를 한 비율:  0.3901\n",
      "Christian_Other 중 투표를 한 비율:  0.4583\n",
      "Other 중 투표를 한 비율:  0.4138\n",
      "Atheist 중 투표를 한 비율:  0.4286\n",
      "Christian_Protestant 중 투표를 한 비율:  0.5632\n",
      "Jewish 중 투표를 한 비율:  0.5323\n",
      "Agnostic 중 투표를 한 비율:  0.457\n",
      "Christian_Mormon 중 투표를 한 비율:  0.4096\n",
      "Buddhist 중 투표를 한 비율:  0.3872\n",
      "Muslim 중 투표를 한 비율:  0.3168\n",
      "Sikh 중 투표를 한 비율:  0.3474\n"
     ]
    }
   ],
   "source": [
    "voted_prob(df=vote_df, column='religion')"
   ]
  },
  {
   "cell_type": "code",
   "execution_count": 30,
   "id": "659b9ccc",
   "metadata": {},
   "outputs": [
    {
     "data": {
      "text/plain": [
       "<matplotlib.axes._subplots.AxesSubplot at 0x21c337f4a58>"
      ]
     },
     "execution_count": 30,
     "metadata": {},
     "output_type": "execute_result"
    },
    {
     "data": {
      "image/png": "[encoded data removed]",
      "text/plain": [
       "<Figure size 432x288 with 1 Axes>"
      ]
     },
     "metadata": {
      "needs_background": "light"
     },
     "output_type": "display_data"
    }
   ],
   "source": [
    "plt.xticks(rotation=-90)\n",
    "sns.barplot(x='religion', y='voted', data=vote_df)"
   ]
  },
  {
   "cell_type": "markdown",
   "id": "10260091",
   "metadata": {},
   "source": [
    "### 결론: 넣어야 될 것 같다. 원핫인코딩밖에 생각이 안난다."
   ]
  },
  {
   "cell_type": "code",
   "execution_count": 31,
   "id": "0bf44f1f",
   "metadata": {},
   "outputs": [
    {
     "data": {
      "text/html": [
       "<div>\n",
       "<style scoped>\n",
       "    .dataframe tbody tr th:only-of-type {\n",
       "        vertical-align: middle;\n",
       "    }\n",
       "\n",
       "    .dataframe tbody tr th {\n",
       "        vertical-align: top;\n",
       "    }\n",
       "\n",
       "    .dataframe thead th {\n",
       "        text-align: right;\n",
       "    }\n",
       "</style>\n",
       "<table border=\"1\" class=\"dataframe\">\n",
       "  <thead>\n",
       "    <tr style=\"text-align: right;\">\n",
       "      <th></th>\n",
       "      <th>Agnostic</th>\n",
       "      <th>Atheist</th>\n",
       "      <th>Buddhist</th>\n",
       "      <th>Christian_Catholic</th>\n",
       "      <th>Christian_Mormon</th>\n",
       "      <th>Christian_Other</th>\n",
       "      <th>Christian_Protestant</th>\n",
       "      <th>Hindu</th>\n",
       "      <th>Jewish</th>\n",
       "      <th>Muslim</th>\n",
       "      <th>Other</th>\n",
       "      <th>Sikh</th>\n",
       "    </tr>\n",
       "  </thead>\n",
       "  <tbody>\n",
       "    <tr>\n",
       "      <th>0</th>\n",
       "      <td>0</td>\n",
       "      <td>0</td>\n",
       "      <td>0</td>\n",
       "      <td>1</td>\n",
       "      <td>0</td>\n",
       "      <td>0</td>\n",
       "      <td>0</td>\n",
       "      <td>0</td>\n",
       "      <td>0</td>\n",
       "      <td>0</td>\n",
       "      <td>0</td>\n",
       "      <td>0</td>\n",
       "    </tr>\n",
       "    <tr>\n",
       "      <th>1</th>\n",
       "      <td>0</td>\n",
       "      <td>0</td>\n",
       "      <td>0</td>\n",
       "      <td>0</td>\n",
       "      <td>0</td>\n",
       "      <td>0</td>\n",
       "      <td>0</td>\n",
       "      <td>1</td>\n",
       "      <td>0</td>\n",
       "      <td>0</td>\n",
       "      <td>0</td>\n",
       "      <td>0</td>\n",
       "    </tr>\n",
       "    <tr>\n",
       "      <th>2</th>\n",
       "      <td>0</td>\n",
       "      <td>0</td>\n",
       "      <td>0</td>\n",
       "      <td>0</td>\n",
       "      <td>0</td>\n",
       "      <td>1</td>\n",
       "      <td>0</td>\n",
       "      <td>0</td>\n",
       "      <td>0</td>\n",
       "      <td>0</td>\n",
       "      <td>0</td>\n",
       "      <td>0</td>\n",
       "    </tr>\n",
       "    <tr>\n",
       "      <th>3</th>\n",
       "      <td>0</td>\n",
       "      <td>0</td>\n",
       "      <td>0</td>\n",
       "      <td>0</td>\n",
       "      <td>0</td>\n",
       "      <td>0</td>\n",
       "      <td>0</td>\n",
       "      <td>1</td>\n",
       "      <td>0</td>\n",
       "      <td>0</td>\n",
       "      <td>0</td>\n",
       "      <td>0</td>\n",
       "    </tr>\n",
       "    <tr>\n",
       "      <th>4</th>\n",
       "      <td>0</td>\n",
       "      <td>0</td>\n",
       "      <td>0</td>\n",
       "      <td>0</td>\n",
       "      <td>0</td>\n",
       "      <td>0</td>\n",
       "      <td>0</td>\n",
       "      <td>0</td>\n",
       "      <td>0</td>\n",
       "      <td>0</td>\n",
       "      <td>1</td>\n",
       "      <td>0</td>\n",
       "    </tr>\n",
       "    <tr>\n",
       "      <th>...</th>\n",
       "      <td>...</td>\n",
       "      <td>...</td>\n",
       "      <td>...</td>\n",
       "      <td>...</td>\n",
       "      <td>...</td>\n",
       "      <td>...</td>\n",
       "      <td>...</td>\n",
       "      <td>...</td>\n",
       "      <td>...</td>\n",
       "      <td>...</td>\n",
       "      <td>...</td>\n",
       "      <td>...</td>\n",
       "    </tr>\n",
       "    <tr>\n",
       "      <th>36420</th>\n",
       "      <td>0</td>\n",
       "      <td>0</td>\n",
       "      <td>0</td>\n",
       "      <td>0</td>\n",
       "      <td>0</td>\n",
       "      <td>0</td>\n",
       "      <td>0</td>\n",
       "      <td>0</td>\n",
       "      <td>0</td>\n",
       "      <td>0</td>\n",
       "      <td>1</td>\n",
       "      <td>0</td>\n",
       "    </tr>\n",
       "    <tr>\n",
       "      <th>36421</th>\n",
       "      <td>0</td>\n",
       "      <td>0</td>\n",
       "      <td>0</td>\n",
       "      <td>0</td>\n",
       "      <td>0</td>\n",
       "      <td>0</td>\n",
       "      <td>0</td>\n",
       "      <td>0</td>\n",
       "      <td>1</td>\n",
       "      <td>0</td>\n",
       "      <td>0</td>\n",
       "      <td>0</td>\n",
       "    </tr>\n",
       "    <tr>\n",
       "      <th>36422</th>\n",
       "      <td>1</td>\n",
       "      <td>0</td>\n",
       "      <td>0</td>\n",
       "      <td>0</td>\n",
       "      <td>0</td>\n",
       "      <td>0</td>\n",
       "      <td>0</td>\n",
       "      <td>0</td>\n",
       "      <td>0</td>\n",
       "      <td>0</td>\n",
       "      <td>0</td>\n",
       "      <td>0</td>\n",
       "    </tr>\n",
       "    <tr>\n",
       "      <th>36423</th>\n",
       "      <td>0</td>\n",
       "      <td>0</td>\n",
       "      <td>0</td>\n",
       "      <td>0</td>\n",
       "      <td>0</td>\n",
       "      <td>0</td>\n",
       "      <td>0</td>\n",
       "      <td>0</td>\n",
       "      <td>0</td>\n",
       "      <td>0</td>\n",
       "      <td>1</td>\n",
       "      <td>0</td>\n",
       "    </tr>\n",
       "    <tr>\n",
       "      <th>36424</th>\n",
       "      <td>0</td>\n",
       "      <td>0</td>\n",
       "      <td>0</td>\n",
       "      <td>0</td>\n",
       "      <td>0</td>\n",
       "      <td>0</td>\n",
       "      <td>0</td>\n",
       "      <td>0</td>\n",
       "      <td>0</td>\n",
       "      <td>0</td>\n",
       "      <td>1</td>\n",
       "      <td>0</td>\n",
       "    </tr>\n",
       "  </tbody>\n",
       "</table>\n",
       "<p>36425 rows × 12 columns</p>\n",
       "</div>"
      ],
      "text/plain": [
       "       Agnostic  Atheist  Buddhist  Christian_Catholic  Christian_Mormon  \\\n",
       "0             0        0         0                   1                 0   \n",
       "1             0        0         0                   0                 0   \n",
       "2             0        0         0                   0                 0   \n",
       "3             0        0         0                   0                 0   \n",
       "4             0        0         0                   0                 0   \n",
       "...         ...      ...       ...                 ...               ...   \n",
       "36420         0        0         0                   0                 0   \n",
       "36421         0        0         0                   0                 0   \n",
       "36422         1        0         0                   0                 0   \n",
       "36423         0        0         0                   0                 0   \n",
       "36424         0        0         0                   0                 0   \n",
       "\n",
       "       Christian_Other  Christian_Protestant  Hindu  Jewish  Muslim  Other  \\\n",
       "0                    0                     0      0       0       0      0   \n",
       "1                    0                     0      1       0       0      0   \n",
       "2                    1                     0      0       0       0      0   \n",
       "3                    0                     0      1       0       0      0   \n",
       "4                    0                     0      0       0       0      1   \n",
       "...                ...                   ...    ...     ...     ...    ...   \n",
       "36420                0                     0      0       0       0      1   \n",
       "36421                0                     0      0       1       0      0   \n",
       "36422                0                     0      0       0       0      0   \n",
       "36423                0                     0      0       0       0      1   \n",
       "36424                0                     0      0       0       0      1   \n",
       "\n",
       "       Sikh  \n",
       "0         0  \n",
       "1         0  \n",
       "2         0  \n",
       "3         0  \n",
       "4         0  \n",
       "...     ...  \n",
       "36420     0  \n",
       "36421     0  \n",
       "36422     0  \n",
       "36423     0  \n",
       "36424     0  \n",
       "\n",
       "[36425 rows x 12 columns]"
      ]
     },
     "execution_count": 31,
     "metadata": {},
     "output_type": "execute_result"
    }
   ],
   "source": [
    "religion_df = pd.DataFrame(vote_df['religion'])\n",
    "pd.get_dummies(religion_df['religion'])"
   ]
  },
  {
   "cell_type": "code",
   "execution_count": 36,
   "id": "9192bd55",
   "metadata": {},
   "outputs": [
    {
     "data": {
      "text/plain": [
       "Index(['index', 'QaA', 'QaE', 'QbA', 'QbE', 'QcA', 'QcE', 'QdA', 'QdE', 'QeA',\n",
       "       'QeE', 'QfA', 'QfE', 'QgA', 'QgE', 'QhA', 'QhE', 'QiA', 'QiE', 'QjA',\n",
       "       'QjE', 'QkA', 'QkE', 'QlA', 'QlE', 'QmA', 'QmE', 'QnA', 'QnE', 'QoA',\n",
       "       'QoE', 'QpA', 'QpE', 'QqA', 'QqE', 'QrA', 'QrE', 'QsA', 'QsE', 'QtA',\n",
       "       'QtE', 'age_group', 'education', 'engnat', 'familysize', 'gender',\n",
       "       'hand', 'married', 'race', 'religion', 'tp01', 'tp02', 'tp03', 'tp04',\n",
       "       'tp05', 'tp06', 'tp07', 'tp08', 'tp09', 'tp10', 'urban', 'voted',\n",
       "       'wf_01', 'wf_02', 'wf_03', 'wr_01', 'wr_02', 'wr_03', 'wr_04', 'wr_05',\n",
       "       'wr_06', 'wr_07', 'wr_08', 'wr_09', 'wr_10', 'wr_11', 'wr_12', 'wr_13'],\n",
       "      dtype='object')"
      ]
     },
     "execution_count": 36,
     "metadata": {},
     "output_type": "execute_result"
    }
   ],
   "source": [
    "len(vote_df.columns)\n",
    "vote_df.columns"
   ]
  },
  {
   "cell_type": "code",
   "execution_count": null,
   "id": "c598b2df",
   "metadata": {},
   "outputs": [],
   "source": [
    "def drop_coulmn(df=None):\n",
    "    cols = ['gender',dddd]\n",
    "    df.drop()"
   ]
  }
 ],
 "metadata": {
  "kernelspec": {
   "display_name": "ssu",
   "language": "python",
   "name": "ssu"
  },
  "language_info": {
   "codemirror_mode": {
    "name": "ipython",
    "version": 3
   },
   "file_extension": ".py",
   "mimetype": "text/x-python",
   "name": "python",
   "nbconvert_exporter": "python",
   "pygments_lexer": "ipython3",
   "version": "3.6.13"
  }
 },
 "nbformat": 4,
 "nbformat_minor": 5
}
