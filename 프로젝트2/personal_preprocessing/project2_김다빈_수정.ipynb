{
 "cells": [
  {
   "cell_type": "code",
   "execution_count": 1,
   "id": "79e20578",
   "metadata": {},
   "outputs": [],
   "source": [
    "import pandas as pd\n",
    "import numpy as np\n",
    "import seaborn as sns\n",
    "import matplotlib.pyplot as plt\n",
    "%matplotlib inline\n",
    "\n",
    "import warnings\n",
    "warnings.filterwarnings('ignore')"
   ]
  },
  {
   "cell_type": "code",
   "execution_count": 2,
   "id": "d2f3fb95",
   "metadata": {},
   "outputs": [
    {
     "data": {
      "text/html": [
       "<div>\n",
       "<style scoped>\n",
       "    .dataframe tbody tr th:only-of-type {\n",
       "        vertical-align: middle;\n",
       "    }\n",
       "\n",
       "    .dataframe tbody tr th {\n",
       "        vertical-align: top;\n",
       "    }\n",
       "\n",
       "    .dataframe thead th {\n",
       "        text-align: right;\n",
       "    }\n",
       "</style>\n",
       "<table border=\"1\" class=\"dataframe\">\n",
       "  <thead>\n",
       "    <tr style=\"text-align: right;\">\n",
       "      <th></th>\n",
       "      <th>index</th>\n",
       "      <th>QaA</th>\n",
       "      <th>QaE</th>\n",
       "      <th>QbA</th>\n",
       "      <th>QbE</th>\n",
       "      <th>QcA</th>\n",
       "      <th>QcE</th>\n",
       "      <th>QdA</th>\n",
       "      <th>QdE</th>\n",
       "      <th>QeA</th>\n",
       "      <th>...</th>\n",
       "      <th>wr_04</th>\n",
       "      <th>wr_05</th>\n",
       "      <th>wr_06</th>\n",
       "      <th>wr_07</th>\n",
       "      <th>wr_08</th>\n",
       "      <th>wr_09</th>\n",
       "      <th>wr_10</th>\n",
       "      <th>wr_11</th>\n",
       "      <th>wr_12</th>\n",
       "      <th>wr_13</th>\n",
       "    </tr>\n",
       "  </thead>\n",
       "  <tbody>\n",
       "    <tr>\n",
       "      <th>0</th>\n",
       "      <td>43375</td>\n",
       "      <td>1.0</td>\n",
       "      <td>324</td>\n",
       "      <td>5.0</td>\n",
       "      <td>1067</td>\n",
       "      <td>5.0</td>\n",
       "      <td>359</td>\n",
       "      <td>1.0</td>\n",
       "      <td>709</td>\n",
       "      <td>1.0</td>\n",
       "      <td>...</td>\n",
       "      <td>1</td>\n",
       "      <td>1</td>\n",
       "      <td>1</td>\n",
       "      <td>1</td>\n",
       "      <td>1</td>\n",
       "      <td>0</td>\n",
       "      <td>1</td>\n",
       "      <td>0</td>\n",
       "      <td>1</td>\n",
       "      <td>1</td>\n",
       "    </tr>\n",
       "    <tr>\n",
       "      <th>1</th>\n",
       "      <td>4486</td>\n",
       "      <td>1.0</td>\n",
       "      <td>534</td>\n",
       "      <td>5.0</td>\n",
       "      <td>1555</td>\n",
       "      <td>5.0</td>\n",
       "      <td>2024</td>\n",
       "      <td>1.0</td>\n",
       "      <td>1097</td>\n",
       "      <td>1.0</td>\n",
       "      <td>...</td>\n",
       "      <td>1</td>\n",
       "      <td>1</td>\n",
       "      <td>1</td>\n",
       "      <td>1</td>\n",
       "      <td>1</td>\n",
       "      <td>0</td>\n",
       "      <td>1</td>\n",
       "      <td>0</td>\n",
       "      <td>1</td>\n",
       "      <td>1</td>\n",
       "    </tr>\n",
       "    <tr>\n",
       "      <th>2</th>\n",
       "      <td>10262</td>\n",
       "      <td>5.0</td>\n",
       "      <td>609</td>\n",
       "      <td>1.0</td>\n",
       "      <td>749</td>\n",
       "      <td>2.0</td>\n",
       "      <td>624</td>\n",
       "      <td>1.0</td>\n",
       "      <td>1833</td>\n",
       "      <td>3.0</td>\n",
       "      <td>...</td>\n",
       "      <td>1</td>\n",
       "      <td>1</td>\n",
       "      <td>0</td>\n",
       "      <td>1</td>\n",
       "      <td>1</td>\n",
       "      <td>0</td>\n",
       "      <td>1</td>\n",
       "      <td>0</td>\n",
       "      <td>1</td>\n",
       "      <td>0</td>\n",
       "    </tr>\n",
       "  </tbody>\n",
       "</table>\n",
       "<p>3 rows × 78 columns</p>\n",
       "</div>"
      ],
      "text/plain": [
       "   index  QaA  QaE  QbA   QbE  QcA   QcE  QdA   QdE  QeA  ...  wr_04  wr_05  \\\n",
       "0  43375  1.0  324  5.0  1067  5.0   359  1.0   709  1.0  ...      1      1   \n",
       "1   4486  1.0  534  5.0  1555  5.0  2024  1.0  1097  1.0  ...      1      1   \n",
       "2  10262  5.0  609  1.0   749  2.0   624  1.0  1833  3.0  ...      1      1   \n",
       "\n",
       "   wr_06  wr_07  wr_08  wr_09  wr_10  wr_11  wr_12  wr_13  \n",
       "0      1      1      1      0      1      0      1      1  \n",
       "1      1      1      1      0      1      0      1      1  \n",
       "2      0      1      1      0      1      0      1      0  \n",
       "\n",
       "[3 rows x 78 columns]"
      ]
     },
     "execution_count": 2,
     "metadata": {},
     "output_type": "execute_result"
    }
   ],
   "source": [
    "vote_df = pd.read_csv('./train.csv')\n",
    "vote_df.head(3)"
   ]
  },
  {
   "cell_type": "code",
   "execution_count": 3,
   "id": "18d18728",
   "metadata": {},
   "outputs": [
    {
     "name": "stdout",
     "output_type": "stream",
     "text": [
      "<class 'pandas.core.frame.DataFrame'>\n",
      "RangeIndex: 36425 entries, 0 to 36424\n",
      "Data columns (total 78 columns):\n",
      " #   Column      Non-Null Count  Dtype  \n",
      "---  ------      --------------  -----  \n",
      " 0   index       36425 non-null  int64  \n",
      " 1   QaA         36425 non-null  float64\n",
      " 2   QaE         36425 non-null  int64  \n",
      " 3   QbA         36425 non-null  float64\n",
      " 4   QbE         36425 non-null  int64  \n",
      " 5   QcA         36425 non-null  float64\n",
      " 6   QcE         36425 non-null  int64  \n",
      " 7   QdA         36425 non-null  float64\n",
      " 8   QdE         36425 non-null  int64  \n",
      " 9   QeA         36425 non-null  float64\n",
      " 10  QeE         36425 non-null  int64  \n",
      " 11  QfA         36425 non-null  float64\n",
      " 12  QfE         36425 non-null  int64  \n",
      " 13  QgA         36425 non-null  float64\n",
      " 14  QgE         36425 non-null  int64  \n",
      " 15  QhA         36425 non-null  float64\n",
      " 16  QhE         36425 non-null  int64  \n",
      " 17  QiA         36425 non-null  float64\n",
      " 18  QiE         36425 non-null  int64  \n",
      " 19  QjA         36425 non-null  float64\n",
      " 20  QjE         36425 non-null  int64  \n",
      " 21  QkA         36425 non-null  float64\n",
      " 22  QkE         36425 non-null  int64  \n",
      " 23  QlA         36425 non-null  float64\n",
      " 24  QlE         36425 non-null  int64  \n",
      " 25  QmA         36425 non-null  float64\n",
      " 26  QmE         36425 non-null  int64  \n",
      " 27  QnA         36425 non-null  float64\n",
      " 28  QnE         36425 non-null  int64  \n",
      " 29  QoA         36425 non-null  float64\n",
      " 30  QoE         36425 non-null  int64  \n",
      " 31  QpA         36425 non-null  float64\n",
      " 32  QpE         36425 non-null  int64  \n",
      " 33  QqA         36425 non-null  float64\n",
      " 34  QqE         36425 non-null  int64  \n",
      " 35  QrA         36425 non-null  float64\n",
      " 36  QrE         36425 non-null  int64  \n",
      " 37  QsA         36425 non-null  float64\n",
      " 38  QsE         36425 non-null  int64  \n",
      " 39  QtA         36425 non-null  float64\n",
      " 40  QtE         36425 non-null  int64  \n",
      " 41  age_group   36425 non-null  object \n",
      " 42  education   36425 non-null  int64  \n",
      " 43  engnat      36425 non-null  int64  \n",
      " 44  familysize  36425 non-null  int64  \n",
      " 45  gender      36425 non-null  object \n",
      " 46  hand        36425 non-null  int64  \n",
      " 47  married     36425 non-null  int64  \n",
      " 48  race        36425 non-null  object \n",
      " 49  religion    36425 non-null  object \n",
      " 50  tp01        36425 non-null  int64  \n",
      " 51  tp02        36425 non-null  int64  \n",
      " 52  tp03        36425 non-null  int64  \n",
      " 53  tp04        36425 non-null  int64  \n",
      " 54  tp05        36425 non-null  int64  \n",
      " 55  tp06        36425 non-null  int64  \n",
      " 56  tp07        36425 non-null  int64  \n",
      " 57  tp08        36425 non-null  int64  \n",
      " 58  tp09        36425 non-null  int64  \n",
      " 59  tp10        36425 non-null  int64  \n",
      " 60  urban       36425 non-null  int64  \n",
      " 61  voted       36425 non-null  int64  \n",
      " 62  wf_01       36425 non-null  int64  \n",
      " 63  wf_02       36425 non-null  int64  \n",
      " 64  wf_03       36425 non-null  int64  \n",
      " 65  wr_01       36425 non-null  int64  \n",
      " 66  wr_02       36425 non-null  int64  \n",
      " 67  wr_03       36425 non-null  int64  \n",
      " 68  wr_04       36425 non-null  int64  \n",
      " 69  wr_05       36425 non-null  int64  \n",
      " 70  wr_06       36425 non-null  int64  \n",
      " 71  wr_07       36425 non-null  int64  \n",
      " 72  wr_08       36425 non-null  int64  \n",
      " 73  wr_09       36425 non-null  int64  \n",
      " 74  wr_10       36425 non-null  int64  \n",
      " 75  wr_11       36425 non-null  int64  \n",
      " 76  wr_12       36425 non-null  int64  \n",
      " 77  wr_13       36425 non-null  int64  \n",
      "dtypes: float64(20), int64(54), object(4)\n",
      "memory usage: 21.7+ MB\n"
     ]
    }
   ],
   "source": [
    "vote_df.info()"
   ]
  },
  {
   "cell_type": "code",
   "execution_count": 4,
   "id": "ccc4cecc",
   "metadata": {},
   "outputs": [
    {
     "data": {
      "text/html": [
       "<div>\n",
       "<style scoped>\n",
       "    .dataframe tbody tr th:only-of-type {\n",
       "        vertical-align: middle;\n",
       "    }\n",
       "\n",
       "    .dataframe tbody tr th {\n",
       "        vertical-align: top;\n",
       "    }\n",
       "\n",
       "    .dataframe thead th {\n",
       "        text-align: right;\n",
       "    }\n",
       "</style>\n",
       "<table border=\"1\" class=\"dataframe\">\n",
       "  <thead>\n",
       "    <tr style=\"text-align: right;\">\n",
       "      <th></th>\n",
       "      <th>index</th>\n",
       "      <th>QaA</th>\n",
       "      <th>QaE</th>\n",
       "      <th>QbA</th>\n",
       "      <th>QbE</th>\n",
       "      <th>QcA</th>\n",
       "      <th>QcE</th>\n",
       "      <th>QdA</th>\n",
       "      <th>QdE</th>\n",
       "      <th>QeA</th>\n",
       "      <th>...</th>\n",
       "      <th>wr_04</th>\n",
       "      <th>wr_05</th>\n",
       "      <th>wr_06</th>\n",
       "      <th>wr_07</th>\n",
       "      <th>wr_08</th>\n",
       "      <th>wr_09</th>\n",
       "      <th>wr_10</th>\n",
       "      <th>wr_11</th>\n",
       "      <th>wr_12</th>\n",
       "      <th>wr_13</th>\n",
       "    </tr>\n",
       "  </thead>\n",
       "  <tbody>\n",
       "    <tr>\n",
       "      <th>count</th>\n",
       "      <td>36425.000000</td>\n",
       "      <td>36425.000000</td>\n",
       "      <td>3.642500e+04</td>\n",
       "      <td>36425.000000</td>\n",
       "      <td>3.642500e+04</td>\n",
       "      <td>36425.000000</td>\n",
       "      <td>36425.000000</td>\n",
       "      <td>36425.000000</td>\n",
       "      <td>3.642500e+04</td>\n",
       "      <td>36425.000000</td>\n",
       "      <td>...</td>\n",
       "      <td>36425.000000</td>\n",
       "      <td>36425.000000</td>\n",
       "      <td>36425.000000</td>\n",
       "      <td>36425.000000</td>\n",
       "      <td>36425.000000</td>\n",
       "      <td>36425.000000</td>\n",
       "      <td>36425.000000</td>\n",
       "      <td>36425.000000</td>\n",
       "      <td>36425.000000</td>\n",
       "      <td>36425.000000</td>\n",
       "    </tr>\n",
       "    <tr>\n",
       "      <th>mean</th>\n",
       "      <td>22740.586520</td>\n",
       "      <td>2.131942</td>\n",
       "      <td>9.392264e+02</td>\n",
       "      <td>2.897598</td>\n",
       "      <td>2.053925e+03</td>\n",
       "      <td>3.661414</td>\n",
       "      <td>1461.583775</td>\n",
       "      <td>1.750748</td>\n",
       "      <td>1.499025e+03</td>\n",
       "      <td>2.320494</td>\n",
       "      <td>...</td>\n",
       "      <td>0.868717</td>\n",
       "      <td>0.895072</td>\n",
       "      <td>0.329087</td>\n",
       "      <td>0.938888</td>\n",
       "      <td>0.971613</td>\n",
       "      <td>0.202663</td>\n",
       "      <td>0.945532</td>\n",
       "      <td>0.393988</td>\n",
       "      <td>0.947536</td>\n",
       "      <td>0.926781</td>\n",
       "    </tr>\n",
       "    <tr>\n",
       "      <th>std</th>\n",
       "      <td>13118.110333</td>\n",
       "      <td>1.199763</td>\n",
       "      <td>1.372469e+04</td>\n",
       "      <td>1.568342</td>\n",
       "      <td>1.984665e+04</td>\n",
       "      <td>1.431303</td>\n",
       "      <td>8097.443081</td>\n",
       "      <td>1.046655</td>\n",
       "      <td>1.109992e+04</td>\n",
       "      <td>1.370584</td>\n",
       "      <td>...</td>\n",
       "      <td>0.337715</td>\n",
       "      <td>0.306465</td>\n",
       "      <td>0.469888</td>\n",
       "      <td>0.239539</td>\n",
       "      <td>0.166078</td>\n",
       "      <td>0.401989</td>\n",
       "      <td>0.226942</td>\n",
       "      <td>0.488639</td>\n",
       "      <td>0.222964</td>\n",
       "      <td>0.260499</td>\n",
       "    </tr>\n",
       "    <tr>\n",
       "      <th>min</th>\n",
       "      <td>0.000000</td>\n",
       "      <td>1.000000</td>\n",
       "      <td>2.500000e+01</td>\n",
       "      <td>1.000000</td>\n",
       "      <td>2.500000e+01</td>\n",
       "      <td>1.000000</td>\n",
       "      <td>25.000000</td>\n",
       "      <td>1.000000</td>\n",
       "      <td>2.600000e+01</td>\n",
       "      <td>1.000000</td>\n",
       "      <td>...</td>\n",
       "      <td>0.000000</td>\n",
       "      <td>0.000000</td>\n",
       "      <td>0.000000</td>\n",
       "      <td>0.000000</td>\n",
       "      <td>0.000000</td>\n",
       "      <td>0.000000</td>\n",
       "      <td>0.000000</td>\n",
       "      <td>0.000000</td>\n",
       "      <td>0.000000</td>\n",
       "      <td>0.000000</td>\n",
       "    </tr>\n",
       "    <tr>\n",
       "      <th>25%</th>\n",
       "      <td>11403.000000</td>\n",
       "      <td>1.000000</td>\n",
       "      <td>4.040000e+02</td>\n",
       "      <td>1.000000</td>\n",
       "      <td>8.760000e+02</td>\n",
       "      <td>2.000000</td>\n",
       "      <td>651.000000</td>\n",
       "      <td>1.000000</td>\n",
       "      <td>6.810000e+02</td>\n",
       "      <td>1.000000</td>\n",
       "      <td>...</td>\n",
       "      <td>1.000000</td>\n",
       "      <td>1.000000</td>\n",
       "      <td>0.000000</td>\n",
       "      <td>1.000000</td>\n",
       "      <td>1.000000</td>\n",
       "      <td>0.000000</td>\n",
       "      <td>1.000000</td>\n",
       "      <td>0.000000</td>\n",
       "      <td>1.000000</td>\n",
       "      <td>1.000000</td>\n",
       "    </tr>\n",
       "    <tr>\n",
       "      <th>50%</th>\n",
       "      <td>22770.000000</td>\n",
       "      <td>2.000000</td>\n",
       "      <td>5.570000e+02</td>\n",
       "      <td>3.000000</td>\n",
       "      <td>1.220000e+03</td>\n",
       "      <td>4.000000</td>\n",
       "      <td>900.000000</td>\n",
       "      <td>1.000000</td>\n",
       "      <td>9.330000e+02</td>\n",
       "      <td>2.000000</td>\n",
       "      <td>...</td>\n",
       "      <td>1.000000</td>\n",
       "      <td>1.000000</td>\n",
       "      <td>0.000000</td>\n",
       "      <td>1.000000</td>\n",
       "      <td>1.000000</td>\n",
       "      <td>0.000000</td>\n",
       "      <td>1.000000</td>\n",
       "      <td>0.000000</td>\n",
       "      <td>1.000000</td>\n",
       "      <td>1.000000</td>\n",
       "    </tr>\n",
       "    <tr>\n",
       "      <th>75%</th>\n",
       "      <td>34042.000000</td>\n",
       "      <td>3.000000</td>\n",
       "      <td>8.300000e+02</td>\n",
       "      <td>4.000000</td>\n",
       "      <td>1.842000e+03</td>\n",
       "      <td>5.000000</td>\n",
       "      <td>1339.000000</td>\n",
       "      <td>2.000000</td>\n",
       "      <td>1.361000e+03</td>\n",
       "      <td>3.000000</td>\n",
       "      <td>...</td>\n",
       "      <td>1.000000</td>\n",
       "      <td>1.000000</td>\n",
       "      <td>1.000000</td>\n",
       "      <td>1.000000</td>\n",
       "      <td>1.000000</td>\n",
       "      <td>0.000000</td>\n",
       "      <td>1.000000</td>\n",
       "      <td>1.000000</td>\n",
       "      <td>1.000000</td>\n",
       "      <td>1.000000</td>\n",
       "    </tr>\n",
       "    <tr>\n",
       "      <th>max</th>\n",
       "      <td>45531.000000</td>\n",
       "      <td>5.000000</td>\n",
       "      <td>2.413960e+06</td>\n",
       "      <td>5.000000</td>\n",
       "      <td>3.232042e+06</td>\n",
       "      <td>5.000000</td>\n",
       "      <td>871557.000000</td>\n",
       "      <td>5.000000</td>\n",
       "      <td>1.552821e+06</td>\n",
       "      <td>5.000000</td>\n",
       "      <td>...</td>\n",
       "      <td>1.000000</td>\n",
       "      <td>1.000000</td>\n",
       "      <td>1.000000</td>\n",
       "      <td>1.000000</td>\n",
       "      <td>1.000000</td>\n",
       "      <td>1.000000</td>\n",
       "      <td>1.000000</td>\n",
       "      <td>1.000000</td>\n",
       "      <td>1.000000</td>\n",
       "      <td>1.000000</td>\n",
       "    </tr>\n",
       "  </tbody>\n",
       "</table>\n",
       "<p>8 rows × 74 columns</p>\n",
       "</div>"
      ],
      "text/plain": [
       "              index           QaA           QaE           QbA           QbE  \\\n",
       "count  36425.000000  36425.000000  3.642500e+04  36425.000000  3.642500e+04   \n",
       "mean   22740.586520      2.131942  9.392264e+02      2.897598  2.053925e+03   \n",
       "std    13118.110333      1.199763  1.372469e+04      1.568342  1.984665e+04   \n",
       "min        0.000000      1.000000  2.500000e+01      1.000000  2.500000e+01   \n",
       "25%    11403.000000      1.000000  4.040000e+02      1.000000  8.760000e+02   \n",
       "50%    22770.000000      2.000000  5.570000e+02      3.000000  1.220000e+03   \n",
       "75%    34042.000000      3.000000  8.300000e+02      4.000000  1.842000e+03   \n",
       "max    45531.000000      5.000000  2.413960e+06      5.000000  3.232042e+06   \n",
       "\n",
       "                QcA            QcE           QdA           QdE           QeA  \\\n",
       "count  36425.000000   36425.000000  36425.000000  3.642500e+04  36425.000000   \n",
       "mean       3.661414    1461.583775      1.750748  1.499025e+03      2.320494   \n",
       "std        1.431303    8097.443081      1.046655  1.109992e+04      1.370584   \n",
       "min        1.000000      25.000000      1.000000  2.600000e+01      1.000000   \n",
       "25%        2.000000     651.000000      1.000000  6.810000e+02      1.000000   \n",
       "50%        4.000000     900.000000      1.000000  9.330000e+02      2.000000   \n",
       "75%        5.000000    1339.000000      2.000000  1.361000e+03      3.000000   \n",
       "max        5.000000  871557.000000      5.000000  1.552821e+06      5.000000   \n",
       "\n",
       "       ...         wr_04         wr_05         wr_06         wr_07  \\\n",
       "count  ...  36425.000000  36425.000000  36425.000000  36425.000000   \n",
       "mean   ...      0.868717      0.895072      0.329087      0.938888   \n",
       "std    ...      0.337715      0.306465      0.469888      0.239539   \n",
       "min    ...      0.000000      0.000000      0.000000      0.000000   \n",
       "25%    ...      1.000000      1.000000      0.000000      1.000000   \n",
       "50%    ...      1.000000      1.000000      0.000000      1.000000   \n",
       "75%    ...      1.000000      1.000000      1.000000      1.000000   \n",
       "max    ...      1.000000      1.000000      1.000000      1.000000   \n",
       "\n",
       "              wr_08         wr_09         wr_10         wr_11         wr_12  \\\n",
       "count  36425.000000  36425.000000  36425.000000  36425.000000  36425.000000   \n",
       "mean       0.971613      0.202663      0.945532      0.393988      0.947536   \n",
       "std        0.166078      0.401989      0.226942      0.488639      0.222964   \n",
       "min        0.000000      0.000000      0.000000      0.000000      0.000000   \n",
       "25%        1.000000      0.000000      1.000000      0.000000      1.000000   \n",
       "50%        1.000000      0.000000      1.000000      0.000000      1.000000   \n",
       "75%        1.000000      0.000000      1.000000      1.000000      1.000000   \n",
       "max        1.000000      1.000000      1.000000      1.000000      1.000000   \n",
       "\n",
       "              wr_13  \n",
       "count  36425.000000  \n",
       "mean       0.926781  \n",
       "std        0.260499  \n",
       "min        0.000000  \n",
       "25%        1.000000  \n",
       "50%        1.000000  \n",
       "75%        1.000000  \n",
       "max        1.000000  \n",
       "\n",
       "[8 rows x 74 columns]"
      ]
     },
     "execution_count": 4,
     "metadata": {},
     "output_type": "execute_result"
    }
   ],
   "source": [
    "vote_df.describe()"
   ]
  },
  {
   "cell_type": "code",
   "execution_count": 5,
   "id": "321fe85b",
   "metadata": {},
   "outputs": [
    {
     "data": {
      "text/html": [
       "<div>\n",
       "<style scoped>\n",
       "    .dataframe tbody tr th:only-of-type {\n",
       "        vertical-align: middle;\n",
       "    }\n",
       "\n",
       "    .dataframe tbody tr th {\n",
       "        vertical-align: top;\n",
       "    }\n",
       "\n",
       "    .dataframe thead th {\n",
       "        text-align: right;\n",
       "    }\n",
       "</style>\n",
       "<table border=\"1\" class=\"dataframe\">\n",
       "  <thead>\n",
       "    <tr style=\"text-align: right;\">\n",
       "      <th></th>\n",
       "      <th>index</th>\n",
       "      <th>QaA</th>\n",
       "      <th>QaE</th>\n",
       "      <th>QbA</th>\n",
       "      <th>QbE</th>\n",
       "      <th>QcA</th>\n",
       "      <th>QcE</th>\n",
       "      <th>QdA</th>\n",
       "      <th>QdE</th>\n",
       "      <th>QeA</th>\n",
       "      <th>...</th>\n",
       "      <th>wr_04</th>\n",
       "      <th>wr_05</th>\n",
       "      <th>wr_06</th>\n",
       "      <th>wr_07</th>\n",
       "      <th>wr_08</th>\n",
       "      <th>wr_09</th>\n",
       "      <th>wr_10</th>\n",
       "      <th>wr_11</th>\n",
       "      <th>wr_12</th>\n",
       "      <th>wr_13</th>\n",
       "    </tr>\n",
       "  </thead>\n",
       "  <tbody>\n",
       "    <tr>\n",
       "      <th>0</th>\n",
       "      <td>False</td>\n",
       "      <td>False</td>\n",
       "      <td>False</td>\n",
       "      <td>False</td>\n",
       "      <td>False</td>\n",
       "      <td>False</td>\n",
       "      <td>False</td>\n",
       "      <td>False</td>\n",
       "      <td>False</td>\n",
       "      <td>False</td>\n",
       "      <td>...</td>\n",
       "      <td>False</td>\n",
       "      <td>False</td>\n",
       "      <td>False</td>\n",
       "      <td>False</td>\n",
       "      <td>False</td>\n",
       "      <td>False</td>\n",
       "      <td>False</td>\n",
       "      <td>False</td>\n",
       "      <td>False</td>\n",
       "      <td>False</td>\n",
       "    </tr>\n",
       "    <tr>\n",
       "      <th>1</th>\n",
       "      <td>False</td>\n",
       "      <td>False</td>\n",
       "      <td>False</td>\n",
       "      <td>False</td>\n",
       "      <td>False</td>\n",
       "      <td>False</td>\n",
       "      <td>False</td>\n",
       "      <td>False</td>\n",
       "      <td>False</td>\n",
       "      <td>False</td>\n",
       "      <td>...</td>\n",
       "      <td>False</td>\n",
       "      <td>False</td>\n",
       "      <td>False</td>\n",
       "      <td>False</td>\n",
       "      <td>False</td>\n",
       "      <td>False</td>\n",
       "      <td>False</td>\n",
       "      <td>False</td>\n",
       "      <td>False</td>\n",
       "      <td>False</td>\n",
       "    </tr>\n",
       "    <tr>\n",
       "      <th>2</th>\n",
       "      <td>False</td>\n",
       "      <td>False</td>\n",
       "      <td>False</td>\n",
       "      <td>False</td>\n",
       "      <td>False</td>\n",
       "      <td>False</td>\n",
       "      <td>False</td>\n",
       "      <td>False</td>\n",
       "      <td>False</td>\n",
       "      <td>False</td>\n",
       "      <td>...</td>\n",
       "      <td>False</td>\n",
       "      <td>False</td>\n",
       "      <td>False</td>\n",
       "      <td>False</td>\n",
       "      <td>False</td>\n",
       "      <td>False</td>\n",
       "      <td>False</td>\n",
       "      <td>False</td>\n",
       "      <td>False</td>\n",
       "      <td>False</td>\n",
       "    </tr>\n",
       "  </tbody>\n",
       "</table>\n",
       "<p>3 rows × 78 columns</p>\n",
       "</div>"
      ],
      "text/plain": [
       "   index    QaA    QaE    QbA    QbE    QcA    QcE    QdA    QdE    QeA  ...  \\\n",
       "0  False  False  False  False  False  False  False  False  False  False  ...   \n",
       "1  False  False  False  False  False  False  False  False  False  False  ...   \n",
       "2  False  False  False  False  False  False  False  False  False  False  ...   \n",
       "\n",
       "   wr_04  wr_05  wr_06  wr_07  wr_08  wr_09  wr_10  wr_11  wr_12  wr_13  \n",
       "0  False  False  False  False  False  False  False  False  False  False  \n",
       "1  False  False  False  False  False  False  False  False  False  False  \n",
       "2  False  False  False  False  False  False  False  False  False  False  \n",
       "\n",
       "[3 rows x 78 columns]"
      ]
     },
     "execution_count": 5,
     "metadata": {},
     "output_type": "execute_result"
    }
   ],
   "source": [
    "vote_df.isna().head(3)"
   ]
  },
  {
   "cell_type": "code",
   "execution_count": 6,
   "id": "48c89fe2",
   "metadata": {},
   "outputs": [
    {
     "data": {
      "text/plain": [
       "index    0\n",
       "QaA      0\n",
       "QaE      0\n",
       "QbA      0\n",
       "QbE      0\n",
       "        ..\n",
       "wr_09    0\n",
       "wr_10    0\n",
       "wr_11    0\n",
       "wr_12    0\n",
       "wr_13    0\n",
       "Length: 78, dtype: int64"
      ]
     },
     "execution_count": 6,
     "metadata": {},
     "output_type": "execute_result"
    }
   ],
   "source": [
    "vote_df.isna().sum()"
   ]
  },
  {
   "cell_type": "code",
   "execution_count": 7,
   "id": "42055194",
   "metadata": {},
   "outputs": [],
   "source": [
    "def voted_prob(df=None, column=None):\n",
    "    voted_people = df[df['voted']==1]\n",
    "    uniques = df[column].unique()\n",
    "    \n",
    "    # 투표한 사람들 중 unique의 비율 (e.g. 투표한 사람들 중 남자의 비율)\n",
    "    for unique in uniques:\n",
    "        prob = round( len(voted_people[voted_people[column]==unique])/len(voted_people), 4)\n",
    "        print(\"투표한 사람들 중\", unique, \"비율:\", prob)\n",
    "    print(\"\")\n",
    "    \n",
    "    # column 속에서 unique마다의 비율 (e.g. gender 컬럼에서 남자의 비율)\n",
    "    for unique in uniques:\n",
    "        prob = round(len(df[df[column]==unique])/len(vote_df), 4)\n",
    "        print(column, \"컬럼 중\", unique, \"의 비율:\",prob)\n",
    "    print(\"\")\n",
    "    \n",
    "    # unique 중에서 투표를 한 비율 (e.g.남자 중에서 투표를 한 비율)\n",
    "    for unique in uniques:\n",
    "        prob = round( len(voted_people[voted_people[column]==unique])/len(df[df[column]==unique]), 4)\n",
    "        print(unique, \"중 투표를 한 비율: \", prob)"
   ]
  },
  {
   "cell_type": "markdown",
   "id": "54e70f4f",
   "metadata": {},
   "source": [
    "## tp01~tp10"
   ]
  },
  {
   "cell_type": "code",
   "execution_count": 15,
   "id": "410b72d1",
   "metadata": {},
   "outputs": [
    {
     "name": "stdout",
     "output_type": "stream",
     "text": [
      "투표한 사람들 중 2 비율: 0.1678\n",
      "투표한 사람들 중 1 비율: 0.2052\n",
      "투표한 사람들 중 0 비율: 0.1123\n",
      "투표한 사람들 중 6 비율: 0.1226\n",
      "투표한 사람들 중 5 비율: 0.177\n",
      "투표한 사람들 중 3 비율: 0.0775\n",
      "투표한 사람들 중 4 비율: 0.1318\n",
      "투표한 사람들 중 7 비율: 0.0059\n",
      "\n",
      "tp01 컬럼 중 2 의 비율: 0.1718\n",
      "tp01 컬럼 중 1 의 비율: 0.1979\n",
      "tp01 컬럼 중 0 의 비율: 0.1049\n",
      "tp01 컬럼 중 6 의 비율: 0.1324\n",
      "tp01 컬럼 중 5 의 비율: 0.1745\n",
      "tp01 컬럼 중 3 의 비율: 0.0813\n",
      "tp01 컬럼 중 4 의 비율: 0.1314\n",
      "tp01 컬럼 중 7 의 비율: 0.0058\n",
      "\n",
      "2 중 투표를 한 비율:  0.4426\n",
      "1 중 투표를 한 비율:  0.4698\n",
      "0 중 투표를 한 비율:  0.4848\n",
      "6 중 투표를 한 비율:  0.4196\n",
      "5 중 투표를 한 비율:  0.4596\n",
      "3 중 투표를 한 비율:  0.4321\n",
      "4 중 투표를 한 비율:  0.4546\n",
      "7 중 투표를 한 비율:  0.4597\n"
     ]
    },
    {
     "data": {
      "image/png": "[encoded data removed]",
      "text/plain": [
       "<Figure size 432x288 with 1 Axes>"
      ]
     },
     "metadata": {
      "needs_background": "light"
     },
     "output_type": "display_data"
    }
   ],
   "source": [
    "sns.barplot(x='tp01', y='voted', data=vote_df)\n",
    "voted_prob(df=vote_df, column='tp01')"
   ]
  },
  {
   "cell_type": "code",
   "execution_count": 16,
   "id": "0482fe5a",
   "metadata": {},
   "outputs": [
    {
     "name": "stdout",
     "output_type": "stream",
     "text": [
      "투표한 사람들 중 2 비율: 0.2699\n",
      "투표한 사람들 중 0 비율: 0.1111\n",
      "투표한 사람들 중 1 비율: 0.1925\n",
      "투표한 사람들 중 3 비율: 0.0771\n",
      "투표한 사람들 중 4 비율: 0.0963\n",
      "투표한 사람들 중 5 비율: 0.1296\n",
      "투표한 사람들 중 6 비율: 0.1172\n",
      "투표한 사람들 중 7 비율: 0.0062\n",
      "\n",
      "tp02 컬럼 중 2 의 비율: 0.2754\n",
      "tp02 컬럼 중 0 의 비율: 0.1196\n",
      "tp02 컬럼 중 1 의 비율: 0.2013\n",
      "tp02 컬럼 중 3 의 비율: 0.0869\n",
      "tp02 컬럼 중 4 의 비율: 0.0921\n",
      "tp02 컬럼 중 5 의 비율: 0.1167\n",
      "tp02 컬럼 중 6 의 비율: 0.1016\n",
      "tp02 컬럼 중 7 의 비율: 0.0065\n",
      "\n",
      "2 중 투표를 한 비율:  0.4441\n",
      "0 중 투표를 한 비율:  0.421\n",
      "1 중 투표를 한 비율:  0.4334\n",
      "3 중 투표를 한 비율:  0.4022\n",
      "4 중 투표를 한 비율:  0.4738\n",
      "5 중 투표를 한 비율:  0.5034\n",
      "6 중 투표를 한 비율:  0.5231\n",
      "7 중 투표를 한 비율:  0.4383\n"
     ]
    },
    {
     "data": {
      "image/png": "[encoded data removed]",
      "text/plain": [
       "<Figure size 432x288 with 1 Axes>"
      ]
     },
     "metadata": {
      "needs_background": "light"
     },
     "output_type": "display_data"
    }
   ],
   "source": [
    "sns.barplot(x='tp02', y='voted', data=vote_df)\n",
    "voted_prob(df=vote_df, column='tp02')"
   ]
  },
  {
   "cell_type": "code",
   "execution_count": 17,
   "id": "1ac8e263",
   "metadata": {},
   "outputs": [
    {
     "name": "stdout",
     "output_type": "stream",
     "text": [
      "투표한 사람들 중 2 비율: 0.2699\n",
      "투표한 사람들 중 0 비율: 0.1111\n",
      "투표한 사람들 중 1 비율: 0.1925\n",
      "투표한 사람들 중 3 비율: 0.0771\n",
      "투표한 사람들 중 4 비율: 0.0963\n",
      "투표한 사람들 중 5 비율: 0.1296\n",
      "투표한 사람들 중 6 비율: 0.1172\n",
      "투표한 사람들 중 7 비율: 0.0062\n",
      "\n",
      "tp02 컬럼 중 2 의 비율: 0.2754\n",
      "tp02 컬럼 중 0 의 비율: 0.1196\n",
      "tp02 컬럼 중 1 의 비율: 0.2013\n",
      "tp02 컬럼 중 3 의 비율: 0.0869\n",
      "tp02 컬럼 중 4 의 비율: 0.0921\n",
      "tp02 컬럼 중 5 의 비율: 0.1167\n",
      "tp02 컬럼 중 6 의 비율: 0.1016\n",
      "tp02 컬럼 중 7 의 비율: 0.0065\n",
      "\n",
      "2 중 투표를 한 비율:  0.4441\n",
      "0 중 투표를 한 비율:  0.421\n",
      "1 중 투표를 한 비율:  0.4334\n",
      "3 중 투표를 한 비율:  0.4022\n",
      "4 중 투표를 한 비율:  0.4738\n",
      "5 중 투표를 한 비율:  0.5034\n",
      "6 중 투표를 한 비율:  0.5231\n",
      "7 중 투표를 한 비율:  0.4383\n"
     ]
    },
    {
     "data": {
      "image/png": "[encoded data removed]",
      "text/plain": [
       "<Figure size 432x288 with 1 Axes>"
      ]
     },
     "metadata": {
      "needs_background": "light"
     },
     "output_type": "display_data"
    }
   ],
   "source": [
    "sns.barplot(x='tp02', y='voted', data=vote_df)\n",
    "voted_prob(df=vote_df, column='tp02')"
   ]
  },
  {
   "cell_type": "code",
   "execution_count": 18,
   "id": "7f28ed14",
   "metadata": {},
   "outputs": [
    {
     "name": "stdout",
     "output_type": "stream",
     "text": [
      "투표한 사람들 중 1 비율: 0.3104\n",
      "투표한 사람들 중 2 비율: 0.1807\n",
      "투표한 사람들 중 0 비율: 0.2858\n",
      "투표한 사람들 중 4 비율: 0.0775\n",
      "투표한 사람들 중 6 비율: 0.022\n",
      "투표한 사람들 중 3 비율: 0.0686\n",
      "투표한 사람들 중 5 비율: 0.0486\n",
      "투표한 사람들 중 7 비율: 0.0064\n",
      "\n",
      "tp03 컬럼 중 1 의 비율: 0.2956\n",
      "tp03 컬럼 중 2 의 비율: 0.1935\n",
      "tp03 컬럼 중 0 의 비율: 0.2566\n",
      "tp03 컬럼 중 4 의 비율: 0.0878\n",
      "tp03 컬럼 중 6 의 비율: 0.0274\n",
      "tp03 컬럼 중 3 의 비율: 0.0762\n",
      "tp03 컬럼 중 5 의 비율: 0.0554\n",
      "tp03 컬럼 중 7 의 비율: 0.0074\n",
      "\n",
      "1 중 투표를 한 비율:  0.4757\n",
      "2 중 투표를 한 비율:  0.4232\n",
      "0 중 투표를 한 비율:  0.5047\n",
      "4 중 투표를 한 비율:  0.4001\n",
      "6 중 투표를 한 비율:  0.3634\n",
      "3 중 투표를 한 비율:  0.4076\n",
      "5 중 투표를 한 비율:  0.3981\n",
      "7 중 투표를 한 비율:  0.3941\n"
     ]
    },
    {
     "data": {
      "image/png": "[encoded data removed]",
      "text/plain": [
       "<Figure size 432x288 with 1 Axes>"
      ]
     },
     "metadata": {
      "needs_background": "light"
     },
     "output_type": "display_data"
    }
   ],
   "source": [
    "sns.barplot(x='tp03', y='voted', data=vote_df)\n",
    "voted_prob(df=vote_df, column='tp03')"
   ]
  },
  {
   "cell_type": "code",
   "execution_count": 19,
   "id": "72c111e5",
   "metadata": {},
   "outputs": [
    {
     "name": "stdout",
     "output_type": "stream",
     "text": [
      "투표한 사람들 중 5 비율: 0.17\n",
      "투표한 사람들 중 2 비율: 0.2265\n",
      "투표한 사람들 중 3 비율: 0.0789\n",
      "투표한 사람들 중 1 비율: 0.1405\n",
      "투표한 사람들 중 0 비율: 0.1003\n",
      "투표한 사람들 중 6 비율: 0.1676\n",
      "투표한 사람들 중 4 비율: 0.11\n",
      "투표한 사람들 중 7 비율: 0.0062\n",
      "\n",
      "tp04 컬럼 중 5 의 비율: 0.1593\n",
      "tp04 컬럼 중 2 의 비율: 0.2253\n",
      "tp04 컬럼 중 3 의 비율: 0.0807\n",
      "tp04 컬럼 중 1 의 비율: 0.1488\n",
      "tp04 컬럼 중 0 의 비율: 0.1212\n",
      "tp04 컬럼 중 6 의 비율: 0.1541\n",
      "tp04 컬럼 중 4 의 비율: 0.1039\n",
      "tp04 컬럼 중 7 의 비율: 0.0068\n",
      "\n",
      "5 중 투표를 한 비율:  0.4836\n",
      "2 중 투표를 한 비율:  0.4557\n",
      "3 중 투표를 한 비율:  0.4433\n",
      "1 중 투표를 한 비율:  0.4279\n",
      "0 중 투표를 한 비율:  0.3749\n",
      "6 중 투표를 한 비율:  0.4931\n",
      "4 중 투표를 한 비율:  0.4799\n",
      "7 중 투표를 한 비율:  0.4096\n"
     ]
    },
    {
     "data": {
      "image/png": "[encoded data removed]",
      "text/plain": [
       "<Figure size 432x288 with 1 Axes>"
      ]
     },
     "metadata": {
      "needs_background": "light"
     },
     "output_type": "display_data"
    }
   ],
   "source": [
    "sns.barplot(x='tp04', y='voted', data=vote_df)\n",
    "voted_prob(df=vote_df, column='tp04')"
   ]
  },
  {
   "cell_type": "code",
   "execution_count": 20,
   "id": "7ac4c70a",
   "metadata": {},
   "outputs": [
    {
     "name": "stdout",
     "output_type": "stream",
     "text": [
      "투표한 사람들 중 2 비율: 0.1828\n",
      "투표한 사람들 중 0 비율: 0.3614\n",
      "투표한 사람들 중 3 비율: 0.052\n",
      "투표한 사람들 중 1 비율: 0.308\n",
      "투표한 사람들 중 5 비율: 0.0266\n",
      "투표한 사람들 중 4 비율: 0.0542\n",
      "투표한 사람들 중 6 비율: 0.0092\n",
      "투표한 사람들 중 7 비율: 0.0057\n",
      "\n",
      "tp05 컬럼 중 2 의 비율: 0.1929\n",
      "tp05 컬럼 중 0 의 비율: 0.3482\n",
      "tp05 컬럼 중 3 의 비율: 0.0599\n",
      "tp05 컬럼 중 1 의 비율: 0.2988\n",
      "tp05 컬럼 중 5 의 비율: 0.0278\n",
      "tp05 컬럼 중 4 의 비율: 0.0554\n",
      "tp05 컬럼 중 6 의 비율: 0.0112\n",
      "tp05 컬럼 중 7 의 비율: 0.0059\n",
      "\n",
      "2 중 투표를 한 비율:  0.4296\n",
      "0 중 투표를 한 비율:  0.4704\n",
      "3 중 투표를 한 비율:  0.3939\n",
      "1 중 투표를 한 비율:  0.4672\n",
      "5 중 투표를 한 비율:  0.4334\n",
      "4 중 투표를 한 비율:  0.4435\n",
      "6 중 투표를 한 비율:  0.3735\n",
      "7 중 투표를 한 비율:  0.4352\n"
     ]
    },
    {
     "data": {
      "image/png": "[encoded data removed]",
      "text/plain": [
       "<Figure size 432x288 with 1 Axes>"
      ]
     },
     "metadata": {
      "needs_background": "light"
     },
     "output_type": "display_data"
    }
   ],
   "source": [
    "sns.barplot(x='tp05', y='voted', data=vote_df)\n",
    "voted_prob(df=vote_df, column='tp05')"
   ]
  },
  {
   "cell_type": "code",
   "execution_count": 21,
   "id": "ccddd169",
   "metadata": {},
   "outputs": [
    {
     "name": "stdout",
     "output_type": "stream",
     "text": [
      "투표한 사람들 중 4 비율: 0.109\n",
      "투표한 사람들 중 6 비율: 0.1184\n",
      "투표한 사람들 중 1 비율: 0.1843\n",
      "투표한 사람들 중 2 비율: 0.2073\n",
      "투표한 사람들 중 0 비율: 0.179\n",
      "투표한 사람들 중 3 비율: 0.0881\n",
      "투표한 사람들 중 5 비율: 0.1082\n",
      "투표한 사람들 중 7 비율: 0.0056\n",
      "\n",
      "tp06 컬럼 중 4 의 비율: 0.1032\n",
      "tp06 컬럼 중 6 의 비율: 0.1044\n",
      "tp06 컬럼 중 1 의 비율: 0.1917\n",
      "tp06 컬럼 중 2 의 비율: 0.2076\n",
      "tp06 컬럼 중 0 의 비율: 0.1962\n",
      "tp06 컬럼 중 3 의 비율: 0.0899\n",
      "tp06 컬럼 중 5 의 비율: 0.1009\n",
      "tp06 컬럼 중 7 의 비율: 0.006\n",
      "\n",
      "4 중 투표를 한 비율:  0.4787\n",
      "6 중 투표를 한 비율:  0.5137\n",
      "1 중 투표를 한 비율:  0.4358\n",
      "2 중 투표를 한 비율:  0.4526\n",
      "0 중 투표를 한 비율:  0.4134\n",
      "3 중 투표를 한 비율:  0.4441\n",
      "5 중 투표를 한 비율:  0.4857\n",
      "7 중 투표를 한 비율:  0.4247\n"
     ]
    },
    {
     "data": {
      "image/png": "[encoded data removed]",
      "text/plain": [
       "<Figure size 432x288 with 1 Axes>"
      ]
     },
     "metadata": {
      "needs_background": "light"
     },
     "output_type": "display_data"
    }
   ],
   "source": [
    "sns.barplot(x='tp06', y='voted', data=vote_df)\n",
    "voted_prob(df=vote_df, column='tp06')"
   ]
  },
  {
   "cell_type": "code",
   "execution_count": 22,
   "id": "6b147168",
   "metadata": {},
   "outputs": [
    {
     "name": "stdout",
     "output_type": "stream",
     "text": [
      "투표한 사람들 중 5 비율: 0.0587\n",
      "투표한 사람들 중 1 비율: 0.2726\n",
      "투표한 사람들 중 0 비율: 0.2412\n",
      "투표한 사람들 중 2 비율: 0.2169\n",
      "투표한 사람들 중 4 비율: 0.0781\n",
      "투표한 사람들 중 3 비율: 0.0884\n",
      "투표한 사람들 중 6 비율: 0.0373\n",
      "투표한 사람들 중 7 비율: 0.0066\n",
      "\n",
      "tp07 컬럼 중 5 의 비율: 0.0685\n",
      "tp07 컬럼 중 1 의 비율: 0.2576\n",
      "tp07 컬럼 중 0 의 비율: 0.2157\n",
      "tp07 컬럼 중 2 의 비율: 0.2192\n",
      "tp07 컬럼 중 4 의 비율: 0.0867\n",
      "tp07 컬럼 중 3 의 비율: 0.0945\n",
      "tp07 컬럼 중 6 의 비율: 0.0507\n",
      "tp07 컬럼 중 7 의 비율: 0.0071\n",
      "\n",
      "5 중 투표를 한 비율:  0.3885\n",
      "1 중 투표를 한 비율:  0.4796\n",
      "0 중 투표를 한 비율:  0.5067\n",
      "2 중 투표를 한 비율:  0.4485\n",
      "4 중 투표를 한 비율:  0.4084\n",
      "3 중 투표를 한 비율:  0.4243\n",
      "6 중 투표를 한 비율:  0.3337\n",
      "7 중 투표를 한 비율:  0.4192\n"
     ]
    },
    {
     "data": {
      "image/png": "[encoded data removed]",
      "text/plain": [
       "<Figure size 432x288 with 1 Axes>"
      ]
     },
     "metadata": {
      "needs_background": "light"
     },
     "output_type": "display_data"
    }
   ],
   "source": [
    "sns.barplot(x='tp07', y='voted', data=vote_df)\n",
    "voted_prob(df=vote_df, column='tp07')"
   ]
  },
  {
   "cell_type": "code",
   "execution_count": 23,
   "id": "b9cacf20",
   "metadata": {},
   "outputs": [
    {
     "name": "stdout",
     "output_type": "stream",
     "text": [
      "투표한 사람들 중 4 비율: 0.1254\n",
      "투표한 사람들 중 5 비율: 0.1886\n",
      "투표한 사람들 중 2 비율: 0.2025\n",
      "투표한 사람들 중 0 비율: 0.0548\n",
      "투표한 사람들 중 1 비율: 0.0927\n",
      "투표한 사람들 중 3 비율: 0.0803\n",
      "투표한 사람들 중 6 비율: 0.248\n",
      "투표한 사람들 중 7 비율: 0.0076\n",
      "\n",
      "tp08 컬럼 중 4 의 비율: 0.1262\n",
      "tp08 컬럼 중 5 의 비율: 0.1746\n",
      "tp08 컬럼 중 2 의 비율: 0.2147\n",
      "tp08 컬럼 중 0 의 비율: 0.0699\n",
      "tp08 컬럼 중 1 의 비율: 0.1068\n",
      "tp08 컬럼 중 3 의 비율: 0.0864\n",
      "tp08 컬럼 중 6 의 비율: 0.2131\n",
      "tp08 컬럼 중 7 의 비율: 0.0083\n",
      "\n",
      "4 중 투표를 한 비율:  0.4504\n",
      "5 중 투표를 한 비율:  0.4895\n",
      "2 중 투표를 한 비율:  0.4275\n",
      "0 중 투표를 한 비율:  0.3553\n",
      "1 중 투표를 한 비율:  0.3935\n",
      "3 중 투표를 한 비율:  0.4215\n",
      "6 중 투표를 한 비율:  0.5274\n",
      "7 중 투표를 한 비율:  0.4112\n"
     ]
    },
    {
     "data": {
      "image/png": "[encoded data removed]",
      "text/plain": [
       "<Figure size 432x288 with 1 Axes>"
      ]
     },
     "metadata": {
      "needs_background": "light"
     },
     "output_type": "display_data"
    }
   ],
   "source": [
    "sns.barplot(x='tp08', y='voted', data=vote_df)\n",
    "voted_prob(df=vote_df, column='tp08')"
   ]
  },
  {
   "cell_type": "code",
   "execution_count": 24,
   "id": "db64bca5",
   "metadata": {},
   "outputs": [
    {
     "name": "stdout",
     "output_type": "stream",
     "text": [
      "투표한 사람들 중 1 비율: 0.2596\n",
      "투표한 사람들 중 5 비율: 0.0767\n",
      "투표한 사람들 중 0 비율: 0.2051\n",
      "투표한 사람들 중 6 비율: 0.0403\n",
      "투표한 사람들 중 4 비율: 0.1325\n",
      "투표한 사람들 중 3 비율: 0.1056\n",
      "투표한 사람들 중 2 비율: 0.1743\n",
      "투표한 사람들 중 7 비율: 0.0059\n",
      "\n",
      "tp09 컬럼 중 1 의 비율: 0.2387\n",
      "tp09 컬럼 중 5 의 비율: 0.0871\n",
      "tp09 컬럼 중 0 의 비율: 0.1929\n",
      "tp09 컬럼 중 6 의 비율: 0.055\n",
      "tp09 컬럼 중 4 의 비율: 0.138\n",
      "tp09 컬럼 중 3 의 비율: 0.1106\n",
      "tp09 컬럼 중 2 의 비율: 0.1718\n",
      "tp09 컬럼 중 7 의 비율: 0.0058\n",
      "\n",
      "1 중 투표를 한 비율:  0.4929\n",
      "5 중 투표를 한 비율:  0.399\n",
      "0 중 투표를 한 비율:  0.4817\n",
      "6 중 투표를 한 비율:  0.332\n",
      "4 중 투표를 한 비율:  0.4352\n",
      "3 중 투표를 한 비율:  0.4325\n",
      "2 중 투표를 한 비율:  0.4597\n",
      "7 중 투표를 한 비율:  0.4597\n"
     ]
    },
    {
     "data": {
      "image/png": "[encoded data removed]",
      "text/plain": [
       "<Figure size 432x288 with 1 Axes>"
      ]
     },
     "metadata": {
      "needs_background": "light"
     },
     "output_type": "display_data"
    }
   ],
   "source": [
    "sns.barplot(x='tp09', y='voted', data=vote_df)\n",
    "voted_prob(df=vote_df, column='tp09')"
   ]
  },
  {
   "cell_type": "code",
   "execution_count": 25,
   "id": "cbe18cca",
   "metadata": {},
   "outputs": [
    {
     "name": "stdout",
     "output_type": "stream",
     "text": [
      "투표한 사람들 중 2 비율: 0.1003\n",
      "투표한 사람들 중 6 비율: 0.3293\n",
      "투표한 사람들 중 4 비율: 0.1522\n",
      "투표한 사람들 중 3 비율: 0.0919\n",
      "투표한 사람들 중 5 비율: 0.2386\n",
      "투표한 사람들 중 1 비율: 0.0517\n",
      "투표한 사람들 중 0 비율: 0.029\n",
      "투표한 사람들 중 7 비율: 0.0068\n",
      "\n",
      "tp10 컬럼 중 2 의 비율: 0.0994\n",
      "tp10 컬럼 중 6 의 비율: 0.3224\n",
      "tp10 컬럼 중 4 의 비율: 0.1524\n",
      "tp10 컬럼 중 3 의 비율: 0.0986\n",
      "tp10 컬럼 중 5 의 비율: 0.2347\n",
      "tp10 컬럼 중 1 의 비율: 0.0532\n",
      "tp10 컬럼 중 0 의 비율: 0.0318\n",
      "tp10 컬럼 중 7 의 비율: 0.0076\n",
      "\n",
      "2 중 투표를 한 비율:  0.4575\n",
      "6 중 투표를 한 비율:  0.463\n",
      "4 중 투표를 한 비율:  0.4527\n",
      "3 중 투표를 한 비율:  0.4226\n",
      "5 중 투표를 한 비율:  0.4608\n",
      "1 중 투표를 한 비율:  0.4404\n",
      "0 중 투표를 한 비율:  0.4136\n",
      "7 중 투표를 한 비율:  0.4094\n"
     ]
    },
    {
     "data": {
      "image/png": "[encoded data removed]",
      "text/plain": [
       "<Figure size 432x288 with 1 Axes>"
      ]
     },
     "metadata": {
      "needs_background": "light"
     },
     "output_type": "display_data"
    }
   ],
   "source": [
    "sns.barplot(x='tp10', y='voted', data=vote_df)\n",
    "voted_prob(df=vote_df, column='tp10')"
   ]
  },
  {
   "cell_type": "code",
   "execution_count": null,
   "id": "06304768",
   "metadata": {},
   "outputs": [],
   "source": [
    "for i in range(1,10):  \n",
    "    print('tp0', i ,'의 value_counts()')\n",
    "    print(vote_df['tp0'+ f'{i}'].value_counts())\n",
    "    print('\\n')"
   ]
  },
  {
   "cell_type": "markdown",
   "id": "f8c6497e",
   "metadata": {},
   "source": [
    "## urban"
   ]
  },
  {
   "cell_type": "code",
   "execution_count": 26,
   "id": "ac4dc6e6",
   "metadata": {},
   "outputs": [
    {
     "name": "stdout",
     "output_type": "stream",
     "text": [
      "투표한 사람들 중 2 비율: 0.415\n",
      "투표한 사람들 중 3 비율: 0.3591\n",
      "투표한 사람들 중 1 비율: 0.2184\n",
      "투표한 사람들 중 0 비율: 0.0075\n",
      "\n",
      "urban 컬럼 중 2 의 비율: 0.4089\n",
      "urban 컬럼 중 3 의 비율: 0.3889\n",
      "urban 컬럼 중 1 의 비율: 0.1951\n",
      "urban 컬럼 중 0 의 비율: 0.0071\n",
      "\n",
      "2 중 투표를 한 비율:  0.46\n",
      "3 중 투표를 한 비율:  0.4184\n",
      "1 중 투표를 한 비율:  0.5072\n",
      "0 중 투표를 한 비율:  0.4806\n"
     ]
    },
    {
     "data": {
      "image/png": "[encoded data removed]",
      "text/plain": [
       "<Figure size 432x288 with 1 Axes>"
      ]
     },
     "metadata": {
      "needs_background": "light"
     },
     "output_type": "display_data"
    }
   ],
   "source": [
    "sns.barplot(x='urban', y='voted', data=vote_df)\n",
    "voted_prob(df=vote_df, column='urban')"
   ]
  },
  {
   "cell_type": "code",
   "execution_count": 27,
   "id": "d91c2721",
   "metadata": {},
   "outputs": [
    {
     "name": "stdout",
     "output_type": "stream",
     "text": [
      "urban 0 건수는 258, 퍼센트는  0.71 %\n"
     ]
    }
   ],
   "source": [
    "zero_features = ['urban']\n",
    "total_count = vote_df['urban'].count()\n",
    "for feature in zero_features:\n",
    "    zero_count = vote_df[vote_df[feature] == 0][feature].count()\n",
    "    print('{0} 0 건수는 {1}, 퍼센트는 {2: .2f} %'.format(feature, zero_count, 100*zero_count/total_count))"
   ]
  },
  {
   "cell_type": "markdown",
   "id": "60cb0344",
   "metadata": {},
   "source": [
    "#### 0(무응답)값을 value_counts()에 따르려고 했지만 1과 2가 크게 차이가 나지 않음"
   ]
  },
  {
   "cell_type": "code",
   "execution_count": 28,
   "id": "9bcbad31",
   "metadata": {},
   "outputs": [],
   "source": [
    "vote_df[zero_features] = vote_df[zero_features].replace(0, vote_df[zero_features].value_counts())"
   ]
  },
  {
   "cell_type": "markdown",
   "id": "fb7f39ce",
   "metadata": {},
   "source": [
    "#### urban의 값이 0인 row를 삭제해보기로 함"
   ]
  },
  {
   "cell_type": "code",
   "execution_count": 58,
   "id": "3f092371",
   "metadata": {},
   "outputs": [],
   "source": [
    "vote_df = vote_df[vote_df.urban != 0]"
   ]
  },
  {
   "cell_type": "code",
   "execution_count": 61,
   "id": "8c539d96",
   "metadata": {},
   "outputs": [
    {
     "data": {
      "text/plain": [
       "2    14894\n",
       "3    14165\n",
       "1     7108\n",
       "Name: urban, dtype: int64"
      ]
     },
     "execution_count": 61,
     "metadata": {},
     "output_type": "execute_result"
    }
   ],
   "source": [
    "vote_df['urban'].value_counts()"
   ]
  },
  {
   "cell_type": "markdown",
   "id": "c332e752",
   "metadata": {},
   "source": [
    "#### 0값이 사라졌음을 확인할 수 있음"
   ]
  },
  {
   "cell_type": "code",
   "execution_count": 62,
   "id": "02ef42b5",
   "metadata": {},
   "outputs": [
    {
     "data": {
      "text/html": [
       "<div>\n",
       "<style scoped>\n",
       "    .dataframe tbody tr th:only-of-type {\n",
       "        vertical-align: middle;\n",
       "    }\n",
       "\n",
       "    .dataframe tbody tr th {\n",
       "        vertical-align: top;\n",
       "    }\n",
       "\n",
       "    .dataframe thead th {\n",
       "        text-align: right;\n",
       "    }\n",
       "</style>\n",
       "<table border=\"1\" class=\"dataframe\">\n",
       "  <thead>\n",
       "    <tr style=\"text-align: right;\">\n",
       "      <th></th>\n",
       "      <th>1</th>\n",
       "      <th>2</th>\n",
       "      <th>3</th>\n",
       "    </tr>\n",
       "  </thead>\n",
       "  <tbody>\n",
       "    <tr>\n",
       "      <th>0</th>\n",
       "      <td>0</td>\n",
       "      <td>1</td>\n",
       "      <td>0</td>\n",
       "    </tr>\n",
       "    <tr>\n",
       "      <th>1</th>\n",
       "      <td>0</td>\n",
       "      <td>0</td>\n",
       "      <td>1</td>\n",
       "    </tr>\n",
       "    <tr>\n",
       "      <th>2</th>\n",
       "      <td>0</td>\n",
       "      <td>1</td>\n",
       "      <td>0</td>\n",
       "    </tr>\n",
       "    <tr>\n",
       "      <th>3</th>\n",
       "      <td>1</td>\n",
       "      <td>0</td>\n",
       "      <td>0</td>\n",
       "    </tr>\n",
       "    <tr>\n",
       "      <th>4</th>\n",
       "      <td>0</td>\n",
       "      <td>1</td>\n",
       "      <td>0</td>\n",
       "    </tr>\n",
       "    <tr>\n",
       "      <th>...</th>\n",
       "      <td>...</td>\n",
       "      <td>...</td>\n",
       "      <td>...</td>\n",
       "    </tr>\n",
       "    <tr>\n",
       "      <th>36420</th>\n",
       "      <td>0</td>\n",
       "      <td>1</td>\n",
       "      <td>0</td>\n",
       "    </tr>\n",
       "    <tr>\n",
       "      <th>36421</th>\n",
       "      <td>1</td>\n",
       "      <td>0</td>\n",
       "      <td>0</td>\n",
       "    </tr>\n",
       "    <tr>\n",
       "      <th>36422</th>\n",
       "      <td>0</td>\n",
       "      <td>1</td>\n",
       "      <td>0</td>\n",
       "    </tr>\n",
       "    <tr>\n",
       "      <th>36423</th>\n",
       "      <td>0</td>\n",
       "      <td>0</td>\n",
       "      <td>1</td>\n",
       "    </tr>\n",
       "    <tr>\n",
       "      <th>36424</th>\n",
       "      <td>0</td>\n",
       "      <td>0</td>\n",
       "      <td>1</td>\n",
       "    </tr>\n",
       "  </tbody>\n",
       "</table>\n",
       "<p>36167 rows × 3 columns</p>\n",
       "</div>"
      ],
      "text/plain": [
       "       1  2  3\n",
       "0      0  1  0\n",
       "1      0  0  1\n",
       "2      0  1  0\n",
       "3      1  0  0\n",
       "4      0  1  0\n",
       "...   .. .. ..\n",
       "36420  0  1  0\n",
       "36421  1  0  0\n",
       "36422  0  1  0\n",
       "36423  0  0  1\n",
       "36424  0  0  1\n",
       "\n",
       "[36167 rows x 3 columns]"
      ]
     },
     "execution_count": 62,
     "metadata": {},
     "output_type": "execute_result"
    }
   ],
   "source": [
    "pd.get_dummies(vote_df['urban'])"
   ]
  },
  {
   "cell_type": "markdown",
   "id": "9ae04ce4",
   "metadata": {},
   "source": [
    "## wr_01~wr_13"
   ]
  },
  {
   "cell_type": "code",
   "execution_count": 31,
   "id": "35a146ff",
   "metadata": {},
   "outputs": [
    {
     "name": "stdout",
     "output_type": "stream",
     "text": [
      "투표한 사람들 중 1 비율: 0.7627\n",
      "투표한 사람들 중 0 비율: 0.2373\n",
      "\n",
      "wr_01 컬럼 중 1 의 비율: 0.7096\n",
      "wr_01 컬럼 중 0 의 비율: 0.2904\n",
      "\n",
      "1 중 투표를 한 비율:  0.4871\n",
      "0 중 투표를 한 비율:  0.3703\n"
     ]
    },
    {
     "data": {
      "image/png": "[encoded data removed]",
      "text/plain": [
       "<Figure size 432x288 with 1 Axes>"
      ]
     },
     "metadata": {
      "needs_background": "light"
     },
     "output_type": "display_data"
    }
   ],
   "source": [
    "sns.barplot(x='wr_01', y='voted', data=vote_df)\n",
    "voted_prob(df=vote_df, column='wr_01')"
   ]
  },
  {
   "cell_type": "code",
   "execution_count": 32,
   "id": "74104c75",
   "metadata": {},
   "outputs": [
    {
     "name": "stdout",
     "output_type": "stream",
     "text": [
      "투표한 사람들 중 1 비율: 0.944\n",
      "투표한 사람들 중 0 비율: 0.056\n",
      "\n",
      "wr_02 컬럼 중 1 의 비율: 0.9345\n",
      "wr_02 컬럼 중 0 의 비율: 0.0655\n",
      "\n",
      "1 중 투표를 한 비율:  0.4578\n",
      "0 중 투표를 한 비율:  0.3875\n"
     ]
    },
    {
     "data": {
      "image/png": "[encoded data removed]",
      "text/plain": [
       "<Figure size 432x288 with 1 Axes>"
      ]
     },
     "metadata": {
      "needs_background": "light"
     },
     "output_type": "display_data"
    }
   ],
   "source": [
    "sns.barplot(x='wr_02', y='voted', data=vote_df)\n",
    "voted_prob(df=vote_df, column='wr_02')"
   ]
  },
  {
   "cell_type": "code",
   "execution_count": 33,
   "id": "9a3d3695",
   "metadata": {},
   "outputs": [
    {
     "name": "stdout",
     "output_type": "stream",
     "text": [
      "투표한 사람들 중 0 비율: 0.7476\n",
      "투표한 사람들 중 1 비율: 0.2524\n",
      "\n",
      "wr_03 컬럼 중 0 의 비율: 0.7913\n",
      "wr_03 컬럼 중 1 의 비율: 0.2087\n",
      "\n",
      "0 중 투표를 한 비율:  0.4281\n",
      "1 중 투표를 한 비율:  0.5481\n"
     ]
    },
    {
     "data": {
      "image/png": "[encoded data removed]",
      "text/plain": [
       "<Figure size 432x288 with 1 Axes>"
      ]
     },
     "metadata": {
      "needs_background": "light"
     },
     "output_type": "display_data"
    }
   ],
   "source": [
    "sns.barplot(x='wr_03', y='voted', data=vote_df)\n",
    "voted_prob(df=vote_df, column='wr_03')"
   ]
  },
  {
   "cell_type": "code",
   "execution_count": 34,
   "id": "762a0b60",
   "metadata": {},
   "outputs": [
    {
     "name": "stdout",
     "output_type": "stream",
     "text": [
      "투표한 사람들 중 1 비율: 0.8939\n",
      "투표한 사람들 중 0 비율: 0.1061\n",
      "\n",
      "wr_04 컬럼 중 1 의 비율: 0.8687\n",
      "wr_04 컬럼 중 0 의 비율: 0.1313\n",
      "\n",
      "1 중 투표를 한 비율:  0.4663\n",
      "0 중 투표를 한 비율:  0.3662\n"
     ]
    },
    {
     "data": {
      "image/png": "[encoded data removed]",
      "text/plain": [
       "<Figure size 432x288 with 1 Axes>"
      ]
     },
     "metadata": {
      "needs_background": "light"
     },
     "output_type": "display_data"
    }
   ],
   "source": [
    "sns.barplot(x='wr_04', y='voted', data=vote_df)\n",
    "voted_prob(df=vote_df, column='wr_04')"
   ]
  },
  {
   "cell_type": "code",
   "execution_count": 35,
   "id": "fa4a42ef",
   "metadata": {},
   "outputs": [
    {
     "name": "stdout",
     "output_type": "stream",
     "text": [
      "투표한 사람들 중 1 비율: 0.9261\n",
      "투표한 사람들 중 0 비율: 0.0739\n",
      "\n",
      "wr_05 컬럼 중 1 의 비율: 0.8951\n",
      "wr_05 컬럼 중 0 의 비율: 0.1049\n",
      "\n",
      "1 중 투표를 한 비율:  0.4689\n",
      "0 중 투표를 한 비율:  0.3192\n"
     ]
    },
    {
     "data": {
      "image/png": "[encoded data removed]",
      "text/plain": [
       "<Figure size 432x288 with 1 Axes>"
      ]
     },
     "metadata": {
      "needs_background": "light"
     },
     "output_type": "display_data"
    }
   ],
   "source": [
    "sns.barplot(x='wr_05', y='voted', data=vote_df)\n",
    "voted_prob(df=vote_df, column='wr_05')"
   ]
  },
  {
   "cell_type": "code",
   "execution_count": 36,
   "id": "d5dc1233",
   "metadata": {},
   "outputs": [
    {
     "name": "stdout",
     "output_type": "stream",
     "text": [
      "투표한 사람들 중 1 비율: 0.3843\n",
      "투표한 사람들 중 0 비율: 0.6157\n",
      "\n",
      "wr_06 컬럼 중 1 의 비율: 0.3291\n",
      "wr_06 컬럼 중 0 의 비율: 0.6709\n",
      "\n",
      "1 중 투표를 한 비율:  0.5292\n",
      "0 중 투표를 한 비율:  0.4159\n"
     ]
    },
    {
     "data": {
      "image/png": "[encoded data removed]",
      "text/plain": [
       "<Figure size 432x288 with 1 Axes>"
      ]
     },
     "metadata": {
      "needs_background": "light"
     },
     "output_type": "display_data"
    }
   ],
   "source": [
    "sns.barplot(x='wr_06', y='voted', data=vote_df)\n",
    "voted_prob(df=vote_df, column='wr_06')"
   ]
  },
  {
   "cell_type": "code",
   "execution_count": 37,
   "id": "1faad8a6",
   "metadata": {},
   "outputs": [
    {
     "name": "stdout",
     "output_type": "stream",
     "text": [
      "투표한 사람들 중 1 비율: 0.9471\n",
      "투표한 사람들 중 0 비율: 0.0529\n",
      "\n",
      "wr_07 컬럼 중 1 의 비율: 0.9389\n",
      "wr_07 컬럼 중 0 의 비율: 0.0611\n",
      "\n",
      "1 중 투표를 한 비율:  0.4571\n",
      "0 중 투표를 한 비율:  0.3926\n"
     ]
    },
    {
     "data": {
      "image/png": "[encoded data removed]",
      "text/plain": [
       "<Figure size 432x288 with 1 Axes>"
      ]
     },
     "metadata": {
      "needs_background": "light"
     },
     "output_type": "display_data"
    }
   ],
   "source": [
    "sns.barplot(x='wr_07', y='voted', data=vote_df)\n",
    "voted_prob(df=vote_df, column='wr_07')"
   ]
  },
  {
   "cell_type": "code",
   "execution_count": 38,
   "id": "7fc9d3bc",
   "metadata": {},
   "outputs": [
    {
     "name": "stdout",
     "output_type": "stream",
     "text": [
      "투표한 사람들 중 1 비율: 0.9761\n",
      "투표한 사람들 중 0 비율: 0.0239\n",
      "\n",
      "wr_08 컬럼 중 1 의 비율: 0.9716\n",
      "wr_08 컬럼 중 0 의 비율: 0.0284\n",
      "\n",
      "1 중 투표를 한 비율:  0.4553\n",
      "0 중 투표를 한 비율:  0.382\n"
     ]
    },
    {
     "data": {
      "image/png": "[encoded data removed]",
      "text/plain": [
       "<Figure size 432x288 with 1 Axes>"
      ]
     },
     "metadata": {
      "needs_background": "light"
     },
     "output_type": "display_data"
    }
   ],
   "source": [
    "sns.barplot(x='wr_08', y='voted', data=vote_df)\n",
    "voted_prob(df=vote_df, column='wr_08')"
   ]
  },
  {
   "cell_type": "code",
   "execution_count": 39,
   "id": "d0ef96e4",
   "metadata": {},
   "outputs": [
    {
     "name": "stdout",
     "output_type": "stream",
     "text": [
      "투표한 사람들 중 0 비율: 0.7583\n",
      "투표한 사람들 중 1 비율: 0.2417\n",
      "\n",
      "wr_09 컬럼 중 0 의 비율: 0.7973\n",
      "wr_09 컬럼 중 1 의 비율: 0.2027\n",
      "\n",
      "0 중 투표를 한 비율:  0.431\n",
      "1 중 투표를 한 비율:  0.5405\n"
     ]
    },
    {
     "data": {
      "image/png": "[encoded data removed]",
      "text/plain": [
       "<Figure size 432x288 with 1 Axes>"
      ]
     },
     "metadata": {
      "needs_background": "light"
     },
     "output_type": "display_data"
    }
   ],
   "source": [
    "sns.barplot(x='wr_09', y='voted', data=vote_df)\n",
    "voted_prob(df=vote_df, column='wr_09')"
   ]
  },
  {
   "cell_type": "code",
   "execution_count": 40,
   "id": "82af5a98",
   "metadata": {},
   "outputs": [
    {
     "name": "stdout",
     "output_type": "stream",
     "text": [
      "투표한 사람들 중 1 비율: 0.9554\n",
      "투표한 사람들 중 0 비율: 0.0446\n",
      "\n",
      "wr_10 컬럼 중 1 의 비율: 0.9455\n",
      "wr_10 컬럼 중 0 의 비율: 0.0545\n",
      "\n",
      "1 중 투표를 한 비율:  0.4579\n",
      "0 중 투표를 한 비율:  0.3715\n"
     ]
    },
    {
     "data": {
      "image/png": "[encoded data removed]",
      "text/plain": [
       "<Figure size 432x288 with 1 Axes>"
      ]
     },
     "metadata": {
      "needs_background": "light"
     },
     "output_type": "display_data"
    }
   ],
   "source": [
    "sns.barplot(x='wr_10', y='voted', data=vote_df)\n",
    "voted_prob(df=vote_df, column='wr_10')"
   ]
  },
  {
   "cell_type": "code",
   "execution_count": 41,
   "id": "acc0eb3d",
   "metadata": {},
   "outputs": [
    {
     "name": "stdout",
     "output_type": "stream",
     "text": [
      "투표한 사람들 중 0 비율: 0.541\n",
      "투표한 사람들 중 1 비율: 0.459\n",
      "\n",
      "wr_11 컬럼 중 0 의 비율: 0.606\n",
      "wr_11 컬럼 중 1 의 비율: 0.394\n",
      "\n",
      "0 중 투표를 한 비율:  0.4046\n",
      "1 중 투표를 한 비율:  0.5279\n"
     ]
    },
    {
     "data": {
      "image/png": "[encoded data removed]",
      "text/plain": [
       "<Figure size 432x288 with 1 Axes>"
      ]
     },
     "metadata": {
      "needs_background": "light"
     },
     "output_type": "display_data"
    }
   ],
   "source": [
    "sns.barplot(x='wr_11', y='voted', data=vote_df)\n",
    "voted_prob(df=vote_df, column='wr_11')"
   ]
  },
  {
   "cell_type": "code",
   "execution_count": 42,
   "id": "ecc8d7b5",
   "metadata": {},
   "outputs": [
    {
     "name": "stdout",
     "output_type": "stream",
     "text": [
      "투표한 사람들 중 1 비율: 0.9586\n",
      "투표한 사람들 중 0 비율: 0.0414\n",
      "\n",
      "wr_12 컬럼 중 1 의 비율: 0.9475\n",
      "wr_12 컬럼 중 0 의 비율: 0.0525\n",
      "\n",
      "1 중 투표를 한 비율:  0.4585\n",
      "0 중 투표를 한 비율:  0.3579\n"
     ]
    },
    {
     "data": {
      "image/png": "[encoded data removed]",
      "text/plain": [
       "<Figure size 432x288 with 1 Axes>"
      ]
     },
     "metadata": {
      "needs_background": "light"
     },
     "output_type": "display_data"
    }
   ],
   "source": [
    "sns.barplot(x='wr_12', y='voted', data=vote_df)\n",
    "voted_prob(df=vote_df, column='wr_12')"
   ]
  },
  {
   "cell_type": "code",
   "execution_count": 43,
   "id": "9b8ea827",
   "metadata": {},
   "outputs": [
    {
     "name": "stdout",
     "output_type": "stream",
     "text": [
      "투표한 사람들 중 1 비율: 0.9437\n",
      "투표한 사람들 중 0 비율: 0.0563\n",
      "\n",
      "wr_13 컬럼 중 1 의 비율: 0.9268\n",
      "wr_13 컬럼 중 0 의 비율: 0.0732\n",
      "\n",
      "1 중 투표를 한 비율:  0.4614\n",
      "0 중 투표를 한 비율:  0.3487\n"
     ]
    },
    {
     "data": {
      "image/png": "[encoded data removed]",
      "text/plain": [
       "<Figure size 432x288 with 1 Axes>"
      ]
     },
     "metadata": {
      "needs_background": "light"
     },
     "output_type": "display_data"
    }
   ],
   "source": [
    "sns.barplot(x='wr_13', y='voted', data=vote_df)\n",
    "voted_prob(df=vote_df, column='wr_13')"
   ]
  },
  {
   "cell_type": "code",
   "execution_count": 64,
   "id": "5b855dd3",
   "metadata": {},
   "outputs": [
    {
     "name": "stdout",
     "output_type": "stream",
     "text": [
      "wr_0 1 의 value_counts()\n",
      "1    25668\n",
      "0    10499\n",
      "Name: wr_01, dtype: int64\n",
      "\n",
      "\n",
      "wr_0 2 의 value_counts()\n",
      "1    33799\n",
      "0     2368\n",
      "Name: wr_02, dtype: int64\n",
      "\n",
      "\n",
      "wr_0 3 의 value_counts()\n",
      "0    28632\n",
      "1     7535\n",
      "Name: wr_03, dtype: int64\n",
      "\n",
      "\n",
      "wr_0 4 의 value_counts()\n",
      "1    31423\n",
      "0     4744\n",
      "Name: wr_04, dtype: int64\n",
      "\n",
      "\n",
      "wr_0 5 의 value_counts()\n",
      "1    32387\n",
      "0     3780\n",
      "Name: wr_05, dtype: int64\n",
      "\n",
      "\n",
      "wr_0 6 의 value_counts()\n",
      "0    24267\n",
      "1    11900\n",
      "Name: wr_06, dtype: int64\n",
      "\n",
      "\n",
      "wr_0 7 의 value_counts()\n",
      "1    33960\n",
      "0     2207\n",
      "Name: wr_07, dtype: int64\n",
      "\n",
      "\n",
      "wr_0 8 의 value_counts()\n",
      "1    35144\n",
      "0     1023\n",
      "Name: wr_08, dtype: int64\n",
      "\n",
      "\n",
      "wr_0 9 의 value_counts()\n",
      "0    28846\n",
      "1     7321\n",
      "Name: wr_09, dtype: int64\n",
      "\n",
      "\n",
      "wr_ 10 의 value_counts()\n",
      "1    34199\n",
      "0     1968\n",
      "Name: wr_10, dtype: int64\n",
      "\n",
      "\n",
      "wr_ 11 의 value_counts()\n",
      "0    21929\n",
      "1    14238\n",
      "Name: wr_11, dtype: int64\n",
      "\n",
      "\n",
      "wr_ 12 의 value_counts()\n",
      "1    34279\n",
      "0     1888\n",
      "Name: wr_12, dtype: int64\n",
      "\n",
      "\n",
      "wr_ 13 의 value_counts()\n",
      "1    33529\n",
      "0     2638\n",
      "Name: wr_13, dtype: int64\n",
      "\n",
      "\n"
     ]
    }
   ],
   "source": [
    "for i in range(1,10):  \n",
    "    print('wr_0', i ,'의 value_counts()')\n",
    "    print(vote_df['wr_0'+ f'{i}'].value_counts())\n",
    "    print('\\n')\n",
    "for i in range(10,14):  \n",
    "    print('wr_', i ,'의 value_counts()')\n",
    "    print(vote_df['wr_'+ f'{i}'].value_counts())\n",
    "    print('\\n')"
   ]
  },
  {
   "cell_type": "code",
   "execution_count": 65,
   "id": "4f60df8e",
   "metadata": {},
   "outputs": [
    {
     "name": "stdout",
     "output_type": "stream",
     "text": [
      "wr_0 1 원핫인코딩결과\n",
      "       0  1\n",
      "0      0  1\n",
      "1      0  1\n",
      "2      1  0\n",
      "3      1  0\n",
      "4      0  1\n",
      "...   .. ..\n",
      "36420  0  1\n",
      "36421  0  1\n",
      "36422  0  1\n",
      "36423  0  1\n",
      "36424  0  1\n",
      "\n",
      "[36167 rows x 2 columns]\n",
      "wr_0 2 원핫인코딩결과\n",
      "       0  1\n",
      "0      0  1\n",
      "1      0  1\n",
      "2      0  1\n",
      "3      0  1\n",
      "4      0  1\n",
      "...   .. ..\n",
      "36420  0  1\n",
      "36421  0  1\n",
      "36422  0  1\n",
      "36423  0  1\n",
      "36424  0  1\n",
      "\n",
      "[36167 rows x 2 columns]\n",
      "wr_0 3 원핫인코딩결과\n",
      "       0  1\n",
      "0      1  0\n",
      "1      0  1\n",
      "2      1  0\n",
      "3      1  0\n",
      "4      1  0\n",
      "...   .. ..\n",
      "36420  1  0\n",
      "36421  0  1\n",
      "36422  0  1\n",
      "36423  0  1\n",
      "36424  0  1\n",
      "\n",
      "[36167 rows x 2 columns]\n",
      "wr_0 4 원핫인코딩결과\n",
      "       0  1\n",
      "0      0  1\n",
      "1      0  1\n",
      "2      0  1\n",
      "3      1  0\n",
      "4      0  1\n",
      "...   .. ..\n",
      "36420  0  1\n",
      "36421  0  1\n",
      "36422  0  1\n",
      "36423  0  1\n",
      "36424  0  1\n",
      "\n",
      "[36167 rows x 2 columns]\n",
      "wr_0 5 원핫인코딩결과\n",
      "       0  1\n",
      "0      0  1\n",
      "1      0  1\n",
      "2      0  1\n",
      "3      0  1\n",
      "4      0  1\n",
      "...   .. ..\n",
      "36420  0  1\n",
      "36421  0  1\n",
      "36422  0  1\n",
      "36423  0  1\n",
      "36424  0  1\n",
      "\n",
      "[36167 rows x 2 columns]\n",
      "wr_0 6 원핫인코딩결과\n",
      "       0  1\n",
      "0      0  1\n",
      "1      0  1\n",
      "2      1  0\n",
      "3      1  0\n",
      "4      1  0\n",
      "...   .. ..\n",
      "36420  1  0\n",
      "36421  0  1\n",
      "36422  1  0\n",
      "36423  0  1\n",
      "36424  0  1\n",
      "\n",
      "[36167 rows x 2 columns]\n",
      "wr_0 7 원핫인코딩결과\n",
      "       0  1\n",
      "0      0  1\n",
      "1      0  1\n",
      "2      0  1\n",
      "3      0  1\n",
      "4      0  1\n",
      "...   .. ..\n",
      "36420  0  1\n",
      "36421  0  1\n",
      "36422  0  1\n",
      "36423  0  1\n",
      "36424  0  1\n",
      "\n",
      "[36167 rows x 2 columns]\n",
      "wr_0 8 원핫인코딩결과\n",
      "       0  1\n",
      "0      0  1\n",
      "1      0  1\n",
      "2      0  1\n",
      "3      0  1\n",
      "4      0  1\n",
      "...   .. ..\n",
      "36420  0  1\n",
      "36421  0  1\n",
      "36422  0  1\n",
      "36423  0  1\n",
      "36424  0  1\n",
      "\n",
      "[36167 rows x 2 columns]\n",
      "wr_0 9 원핫인코딩결과\n",
      "       0  1\n",
      "0      1  0\n",
      "1      1  0\n",
      "2      1  0\n",
      "3      1  0\n",
      "4      0  1\n",
      "...   .. ..\n",
      "36420  1  0\n",
      "36421  1  0\n",
      "36422  1  0\n",
      "36423  0  1\n",
      "36424  0  1\n",
      "\n",
      "[36167 rows x 2 columns]\n"
     ]
    }
   ],
   "source": [
    "for i in range(1,10):  \n",
    "    print('wr_0',i,'원핫인코딩결과')\n",
    "    print(pd.get_dummies(vote_df['wr_0'+ f'{i}']))\n",
    "    "
   ]
  },
  {
   "cell_type": "code",
   "execution_count": 66,
   "id": "ed359f9b",
   "metadata": {},
   "outputs": [
    {
     "name": "stdout",
     "output_type": "stream",
     "text": [
      "wr_ 10 원핫인코딩결과\n",
      "       0  1\n",
      "0      0  1\n",
      "1      0  1\n",
      "2      0  1\n",
      "3      0  1\n",
      "4      0  1\n",
      "...   .. ..\n",
      "36420  0  1\n",
      "36421  0  1\n",
      "36422  0  1\n",
      "36423  0  1\n",
      "36424  0  1\n",
      "\n",
      "[36167 rows x 2 columns]\n",
      "wr_ 11 원핫인코딩결과\n",
      "       0  1\n",
      "0      1  0\n",
      "1      1  0\n",
      "2      1  0\n",
      "3      1  0\n",
      "4      0  1\n",
      "...   .. ..\n",
      "36420  0  1\n",
      "36421  0  1\n",
      "36422  0  1\n",
      "36423  0  1\n",
      "36424  0  1\n",
      "\n",
      "[36167 rows x 2 columns]\n",
      "wr_ 12 원핫인코딩결과\n",
      "       0  1\n",
      "0      0  1\n",
      "1      0  1\n",
      "2      0  1\n",
      "3      0  1\n",
      "4      0  1\n",
      "...   .. ..\n",
      "36420  0  1\n",
      "36421  0  1\n",
      "36422  0  1\n",
      "36423  0  1\n",
      "36424  0  1\n",
      "\n",
      "[36167 rows x 2 columns]\n",
      "wr_ 13 원핫인코딩결과\n",
      "       0  1\n",
      "0      0  1\n",
      "1      0  1\n",
      "2      1  0\n",
      "3      0  1\n",
      "4      0  1\n",
      "...   .. ..\n",
      "36420  0  1\n",
      "36421  0  1\n",
      "36422  0  1\n",
      "36423  0  1\n",
      "36424  0  1\n",
      "\n",
      "[36167 rows x 2 columns]\n"
     ]
    }
   ],
   "source": [
    "for i in range(10,14):  \n",
    "    print('wr_',i,'원핫인코딩결과')\n",
    "    print(pd.get_dummies(vote_df['wr_'+ f'{i}']))"
   ]
  },
  {
   "cell_type": "markdown",
   "id": "53833a8c",
   "metadata": {},
   "source": [
    "## wf_01~wf_03"
   ]
  },
  {
   "cell_type": "code",
   "execution_count": 44,
   "id": "0ef663f8",
   "metadata": {},
   "outputs": [
    {
     "name": "stdout",
     "output_type": "stream",
     "text": [
      "투표한 사람들 중 0 비율: 0.9193\n",
      "투표한 사람들 중 1 비율: 0.0807\n",
      "\n",
      "wf_01 컬럼 중 0 의 비율: 0.9195\n",
      "wf_01 컬럼 중 1 의 비율: 0.0805\n",
      "\n",
      "0 중 투표를 한 비율:  0.4531\n",
      "1 중 투표를 한 비율:  0.4543\n"
     ]
    },
    {
     "data": {
      "image/png": "[encoded data removed]",
      "text/plain": [
       "<Figure size 432x288 with 1 Axes>"
      ]
     },
     "metadata": {
      "needs_background": "light"
     },
     "output_type": "display_data"
    }
   ],
   "source": [
    "sns.barplot(x='wf_01', y='voted', data=vote_df)\n",
    "voted_prob(df=vote_df, column='wf_01')"
   ]
  },
  {
   "cell_type": "code",
   "execution_count": 45,
   "id": "8ce7f281",
   "metadata": {},
   "outputs": [
    {
     "name": "stdout",
     "output_type": "stream",
     "text": [
      "투표한 사람들 중 1 비율: 0.1716\n",
      "투표한 사람들 중 0 비율: 0.8284\n",
      "\n",
      "wf_02 컬럼 중 1 의 비율: 0.1633\n",
      "wf_02 컬럼 중 0 의 비율: 0.8367\n",
      "\n",
      "1 중 투표를 한 비율:  0.4763\n",
      "0 중 투표를 한 비율:  0.4487\n"
     ]
    },
    {
     "data": {
      "image/png": "[encoded data removed]",
      "text/plain": [
       "<Figure size 432x288 with 1 Axes>"
      ]
     },
     "metadata": {
      "needs_background": "light"
     },
     "output_type": "display_data"
    }
   ],
   "source": [
    "sns.barplot(x='wf_02', y='voted', data=vote_df)\n",
    "voted_prob(df=vote_df, column='wf_02')"
   ]
  },
  {
   "cell_type": "code",
   "execution_count": 46,
   "id": "22628ca1",
   "metadata": {},
   "outputs": [
    {
     "name": "stdout",
     "output_type": "stream",
     "text": [
      "투표한 사람들 중 0 비율: 0.8666\n",
      "투표한 사람들 중 1 비율: 0.1334\n",
      "\n",
      "wf_03 컬럼 중 0 의 비율: 0.8814\n",
      "wf_03 컬럼 중 1 의 비율: 0.1186\n",
      "\n",
      "0 중 투표를 한 비율:  0.4456\n",
      "1 중 투표를 한 비율:  0.5097\n"
     ]
    },
    {
     "data": {
      "image/png": "[encoded data removed]",
      "text/plain": [
       "<Figure size 432x288 with 1 Axes>"
      ]
     },
     "metadata": {
      "needs_background": "light"
     },
     "output_type": "display_data"
    }
   ],
   "source": [
    "sns.barplot(x='wf_03', y='voted', data=vote_df)\n",
    "voted_prob(df=vote_df, column='wf_03')"
   ]
  },
  {
   "cell_type": "code",
   "execution_count": 63,
   "id": "c154b1cd",
   "metadata": {},
   "outputs": [
    {
     "name": "stdout",
     "output_type": "stream",
     "text": [
      "wf_0 1 의 value_counts()\n",
      "0    33255\n",
      "1     2912\n",
      "Name: wf_01, dtype: int64\n",
      "\n",
      "\n",
      "wf_0 2 의 value_counts()\n",
      "0    30265\n",
      "1     5902\n",
      "Name: wf_02, dtype: int64\n",
      "\n",
      "\n",
      "wf_0 3 의 value_counts()\n",
      "0    31877\n",
      "1     4290\n",
      "Name: wf_03, dtype: int64\n",
      "\n",
      "\n"
     ]
    }
   ],
   "source": [
    "for i in range(1,4):  \n",
    "    print('wf_0', i ,'의 value_counts()')\n",
    "    print(vote_df['wf_0'+ f'{i}'].value_counts())\n",
    "    print('\\n')"
   ]
  },
  {
   "cell_type": "code",
   "execution_count": 67,
   "id": "1d2756f9",
   "metadata": {},
   "outputs": [
    {
     "name": "stdout",
     "output_type": "stream",
     "text": [
      "wf_0 1 원핫인코딩결과\n",
      "       0  1\n",
      "0      1  0\n",
      "1      1  0\n",
      "2      1  0\n",
      "3      1  0\n",
      "4      1  0\n",
      "...   .. ..\n",
      "36420  1  0\n",
      "36421  1  0\n",
      "36422  1  0\n",
      "36423  1  0\n",
      "36424  1  0\n",
      "\n",
      "[36167 rows x 2 columns]\n",
      "wf_0 2 원핫인코딩결과\n",
      "       0  1\n",
      "0      0  1\n",
      "1      1  0\n",
      "2      1  0\n",
      "3      1  0\n",
      "4      1  0\n",
      "...   .. ..\n",
      "36420  0  1\n",
      "36421  0  1\n",
      "36422  0  1\n",
      "36423  0  1\n",
      "36424  1  0\n",
      "\n",
      "[36167 rows x 2 columns]\n",
      "wf_0 3 원핫인코딩결과\n",
      "       0  1\n",
      "0      1  0\n",
      "1      1  0\n",
      "2      1  0\n",
      "3      1  0\n",
      "4      1  0\n",
      "...   .. ..\n",
      "36420  0  1\n",
      "36421  1  0\n",
      "36422  0  1\n",
      "36423  1  0\n",
      "36424  1  0\n",
      "\n",
      "[36167 rows x 2 columns]\n"
     ]
    }
   ],
   "source": [
    "for i in range(1,4):  \n",
    "    print('wf_0',i,'원핫인코딩결과')\n",
    "    print(pd.get_dummies(vote_df['wf_0'+ f'{i}']))"
   ]
  },
  {
   "cell_type": "code",
   "execution_count": null,
   "id": "9b0a4c4f",
   "metadata": {},
   "outputs": [],
   "source": []
  }
 ],
 "metadata": {
  "kernelspec": {
   "display_name": "ssu2",
   "language": "python",
   "name": "ssu2"
  },
  "language_info": {
   "codemirror_mode": {
    "name": "ipython",
    "version": 3
   },
   "file_extension": ".py",
   "mimetype": "text/x-python",
   "name": "python",
   "nbconvert_exporter": "python",
   "pygments_lexer": "ipython3",
   "version": "3.6.13"
  }
 },
 "nbformat": 4,
 "nbformat_minor": 5
}
