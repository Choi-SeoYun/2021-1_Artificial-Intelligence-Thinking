{
 "cells": [
  {
   "cell_type": "code",
   "execution_count": 1,
   "id": "84ced1d4",
   "metadata": {},
   "outputs": [],
   "source": [
    "import numpy as np\n",
    "import pandas as pd\n",
    "import matplotlib.pyplot as plt\n",
    "import seaborn as sns\n",
    "%matplotlib inline\n",
    "\n",
    "vote_df = pd.read_csv('./train.csv')"
   ]
  },
  {
   "cell_type": "code",
   "execution_count": 2,
   "id": "8974b2eb",
   "metadata": {
    "scrolled": true
   },
   "outputs": [
    {
     "data": {
      "text/html": [
       "<div>\n",
       "<style scoped>\n",
       "    .dataframe tbody tr th:only-of-type {\n",
       "        vertical-align: middle;\n",
       "    }\n",
       "\n",
       "    .dataframe tbody tr th {\n",
       "        vertical-align: top;\n",
       "    }\n",
       "\n",
       "    .dataframe thead th {\n",
       "        text-align: right;\n",
       "    }\n",
       "</style>\n",
       "<table border=\"1\" class=\"dataframe\">\n",
       "  <thead>\n",
       "    <tr style=\"text-align: right;\">\n",
       "      <th></th>\n",
       "      <th>index</th>\n",
       "      <th>QaA</th>\n",
       "      <th>QaE</th>\n",
       "      <th>QbA</th>\n",
       "      <th>QbE</th>\n",
       "      <th>QcA</th>\n",
       "      <th>QcE</th>\n",
       "      <th>QdA</th>\n",
       "      <th>QdE</th>\n",
       "      <th>QeA</th>\n",
       "      <th>...</th>\n",
       "      <th>wr_04</th>\n",
       "      <th>wr_05</th>\n",
       "      <th>wr_06</th>\n",
       "      <th>wr_07</th>\n",
       "      <th>wr_08</th>\n",
       "      <th>wr_09</th>\n",
       "      <th>wr_10</th>\n",
       "      <th>wr_11</th>\n",
       "      <th>wr_12</th>\n",
       "      <th>wr_13</th>\n",
       "    </tr>\n",
       "  </thead>\n",
       "  <tbody>\n",
       "    <tr>\n",
       "      <th>count</th>\n",
       "      <td>36425.000000</td>\n",
       "      <td>36425.000000</td>\n",
       "      <td>3.642500e+04</td>\n",
       "      <td>36425.000000</td>\n",
       "      <td>3.642500e+04</td>\n",
       "      <td>36425.000000</td>\n",
       "      <td>36425.000000</td>\n",
       "      <td>36425.000000</td>\n",
       "      <td>3.642500e+04</td>\n",
       "      <td>36425.000000</td>\n",
       "      <td>...</td>\n",
       "      <td>36425.000000</td>\n",
       "      <td>36425.000000</td>\n",
       "      <td>36425.000000</td>\n",
       "      <td>36425.000000</td>\n",
       "      <td>36425.000000</td>\n",
       "      <td>36425.000000</td>\n",
       "      <td>36425.000000</td>\n",
       "      <td>36425.000000</td>\n",
       "      <td>36425.000000</td>\n",
       "      <td>36425.000000</td>\n",
       "    </tr>\n",
       "    <tr>\n",
       "      <th>mean</th>\n",
       "      <td>22740.586520</td>\n",
       "      <td>2.131942</td>\n",
       "      <td>9.392264e+02</td>\n",
       "      <td>2.897598</td>\n",
       "      <td>2.053925e+03</td>\n",
       "      <td>3.661414</td>\n",
       "      <td>1461.583775</td>\n",
       "      <td>1.750748</td>\n",
       "      <td>1.499025e+03</td>\n",
       "      <td>2.320494</td>\n",
       "      <td>...</td>\n",
       "      <td>0.868717</td>\n",
       "      <td>0.895072</td>\n",
       "      <td>0.329087</td>\n",
       "      <td>0.938888</td>\n",
       "      <td>0.971613</td>\n",
       "      <td>0.202663</td>\n",
       "      <td>0.945532</td>\n",
       "      <td>0.393988</td>\n",
       "      <td>0.947536</td>\n",
       "      <td>0.926781</td>\n",
       "    </tr>\n",
       "    <tr>\n",
       "      <th>std</th>\n",
       "      <td>13118.110333</td>\n",
       "      <td>1.199763</td>\n",
       "      <td>1.372469e+04</td>\n",
       "      <td>1.568342</td>\n",
       "      <td>1.984665e+04</td>\n",
       "      <td>1.431303</td>\n",
       "      <td>8097.443081</td>\n",
       "      <td>1.046655</td>\n",
       "      <td>1.109992e+04</td>\n",
       "      <td>1.370584</td>\n",
       "      <td>...</td>\n",
       "      <td>0.337715</td>\n",
       "      <td>0.306465</td>\n",
       "      <td>0.469888</td>\n",
       "      <td>0.239539</td>\n",
       "      <td>0.166078</td>\n",
       "      <td>0.401989</td>\n",
       "      <td>0.226942</td>\n",
       "      <td>0.488639</td>\n",
       "      <td>0.222964</td>\n",
       "      <td>0.260499</td>\n",
       "    </tr>\n",
       "    <tr>\n",
       "      <th>min</th>\n",
       "      <td>0.000000</td>\n",
       "      <td>1.000000</td>\n",
       "      <td>2.500000e+01</td>\n",
       "      <td>1.000000</td>\n",
       "      <td>2.500000e+01</td>\n",
       "      <td>1.000000</td>\n",
       "      <td>25.000000</td>\n",
       "      <td>1.000000</td>\n",
       "      <td>2.600000e+01</td>\n",
       "      <td>1.000000</td>\n",
       "      <td>...</td>\n",
       "      <td>0.000000</td>\n",
       "      <td>0.000000</td>\n",
       "      <td>0.000000</td>\n",
       "      <td>0.000000</td>\n",
       "      <td>0.000000</td>\n",
       "      <td>0.000000</td>\n",
       "      <td>0.000000</td>\n",
       "      <td>0.000000</td>\n",
       "      <td>0.000000</td>\n",
       "      <td>0.000000</td>\n",
       "    </tr>\n",
       "    <tr>\n",
       "      <th>25%</th>\n",
       "      <td>11403.000000</td>\n",
       "      <td>1.000000</td>\n",
       "      <td>4.040000e+02</td>\n",
       "      <td>1.000000</td>\n",
       "      <td>8.760000e+02</td>\n",
       "      <td>2.000000</td>\n",
       "      <td>651.000000</td>\n",
       "      <td>1.000000</td>\n",
       "      <td>6.810000e+02</td>\n",
       "      <td>1.000000</td>\n",
       "      <td>...</td>\n",
       "      <td>1.000000</td>\n",
       "      <td>1.000000</td>\n",
       "      <td>0.000000</td>\n",
       "      <td>1.000000</td>\n",
       "      <td>1.000000</td>\n",
       "      <td>0.000000</td>\n",
       "      <td>1.000000</td>\n",
       "      <td>0.000000</td>\n",
       "      <td>1.000000</td>\n",
       "      <td>1.000000</td>\n",
       "    </tr>\n",
       "    <tr>\n",
       "      <th>50%</th>\n",
       "      <td>22770.000000</td>\n",
       "      <td>2.000000</td>\n",
       "      <td>5.570000e+02</td>\n",
       "      <td>3.000000</td>\n",
       "      <td>1.220000e+03</td>\n",
       "      <td>4.000000</td>\n",
       "      <td>900.000000</td>\n",
       "      <td>1.000000</td>\n",
       "      <td>9.330000e+02</td>\n",
       "      <td>2.000000</td>\n",
       "      <td>...</td>\n",
       "      <td>1.000000</td>\n",
       "      <td>1.000000</td>\n",
       "      <td>0.000000</td>\n",
       "      <td>1.000000</td>\n",
       "      <td>1.000000</td>\n",
       "      <td>0.000000</td>\n",
       "      <td>1.000000</td>\n",
       "      <td>0.000000</td>\n",
       "      <td>1.000000</td>\n",
       "      <td>1.000000</td>\n",
       "    </tr>\n",
       "    <tr>\n",
       "      <th>75%</th>\n",
       "      <td>34042.000000</td>\n",
       "      <td>3.000000</td>\n",
       "      <td>8.300000e+02</td>\n",
       "      <td>4.000000</td>\n",
       "      <td>1.842000e+03</td>\n",
       "      <td>5.000000</td>\n",
       "      <td>1339.000000</td>\n",
       "      <td>2.000000</td>\n",
       "      <td>1.361000e+03</td>\n",
       "      <td>3.000000</td>\n",
       "      <td>...</td>\n",
       "      <td>1.000000</td>\n",
       "      <td>1.000000</td>\n",
       "      <td>1.000000</td>\n",
       "      <td>1.000000</td>\n",
       "      <td>1.000000</td>\n",
       "      <td>0.000000</td>\n",
       "      <td>1.000000</td>\n",
       "      <td>1.000000</td>\n",
       "      <td>1.000000</td>\n",
       "      <td>1.000000</td>\n",
       "    </tr>\n",
       "    <tr>\n",
       "      <th>max</th>\n",
       "      <td>45531.000000</td>\n",
       "      <td>5.000000</td>\n",
       "      <td>2.413960e+06</td>\n",
       "      <td>5.000000</td>\n",
       "      <td>3.232042e+06</td>\n",
       "      <td>5.000000</td>\n",
       "      <td>871557.000000</td>\n",
       "      <td>5.000000</td>\n",
       "      <td>1.552821e+06</td>\n",
       "      <td>5.000000</td>\n",
       "      <td>...</td>\n",
       "      <td>1.000000</td>\n",
       "      <td>1.000000</td>\n",
       "      <td>1.000000</td>\n",
       "      <td>1.000000</td>\n",
       "      <td>1.000000</td>\n",
       "      <td>1.000000</td>\n",
       "      <td>1.000000</td>\n",
       "      <td>1.000000</td>\n",
       "      <td>1.000000</td>\n",
       "      <td>1.000000</td>\n",
       "    </tr>\n",
       "  </tbody>\n",
       "</table>\n",
       "<p>8 rows × 74 columns</p>\n",
       "</div>"
      ],
      "text/plain": [
       "              index           QaA           QaE           QbA           QbE  \\\n",
       "count  36425.000000  36425.000000  3.642500e+04  36425.000000  3.642500e+04   \n",
       "mean   22740.586520      2.131942  9.392264e+02      2.897598  2.053925e+03   \n",
       "std    13118.110333      1.199763  1.372469e+04      1.568342  1.984665e+04   \n",
       "min        0.000000      1.000000  2.500000e+01      1.000000  2.500000e+01   \n",
       "25%    11403.000000      1.000000  4.040000e+02      1.000000  8.760000e+02   \n",
       "50%    22770.000000      2.000000  5.570000e+02      3.000000  1.220000e+03   \n",
       "75%    34042.000000      3.000000  8.300000e+02      4.000000  1.842000e+03   \n",
       "max    45531.000000      5.000000  2.413960e+06      5.000000  3.232042e+06   \n",
       "\n",
       "                QcA            QcE           QdA           QdE           QeA  \\\n",
       "count  36425.000000   36425.000000  36425.000000  3.642500e+04  36425.000000   \n",
       "mean       3.661414    1461.583775      1.750748  1.499025e+03      2.320494   \n",
       "std        1.431303    8097.443081      1.046655  1.109992e+04      1.370584   \n",
       "min        1.000000      25.000000      1.000000  2.600000e+01      1.000000   \n",
       "25%        2.000000     651.000000      1.000000  6.810000e+02      1.000000   \n",
       "50%        4.000000     900.000000      1.000000  9.330000e+02      2.000000   \n",
       "75%        5.000000    1339.000000      2.000000  1.361000e+03      3.000000   \n",
       "max        5.000000  871557.000000      5.000000  1.552821e+06      5.000000   \n",
       "\n",
       "       ...         wr_04         wr_05         wr_06         wr_07  \\\n",
       "count  ...  36425.000000  36425.000000  36425.000000  36425.000000   \n",
       "mean   ...      0.868717      0.895072      0.329087      0.938888   \n",
       "std    ...      0.337715      0.306465      0.469888      0.239539   \n",
       "min    ...      0.000000      0.000000      0.000000      0.000000   \n",
       "25%    ...      1.000000      1.000000      0.000000      1.000000   \n",
       "50%    ...      1.000000      1.000000      0.000000      1.000000   \n",
       "75%    ...      1.000000      1.000000      1.000000      1.000000   \n",
       "max    ...      1.000000      1.000000      1.000000      1.000000   \n",
       "\n",
       "              wr_08         wr_09         wr_10         wr_11         wr_12  \\\n",
       "count  36425.000000  36425.000000  36425.000000  36425.000000  36425.000000   \n",
       "mean       0.971613      0.202663      0.945532      0.393988      0.947536   \n",
       "std        0.166078      0.401989      0.226942      0.488639      0.222964   \n",
       "min        0.000000      0.000000      0.000000      0.000000      0.000000   \n",
       "25%        1.000000      0.000000      1.000000      0.000000      1.000000   \n",
       "50%        1.000000      0.000000      1.000000      0.000000      1.000000   \n",
       "75%        1.000000      0.000000      1.000000      1.000000      1.000000   \n",
       "max        1.000000      1.000000      1.000000      1.000000      1.000000   \n",
       "\n",
       "              wr_13  \n",
       "count  36425.000000  \n",
       "mean       0.926781  \n",
       "std        0.260499  \n",
       "min        0.000000  \n",
       "25%        1.000000  \n",
       "50%        1.000000  \n",
       "75%        1.000000  \n",
       "max        1.000000  \n",
       "\n",
       "[8 rows x 74 columns]"
      ]
     },
     "execution_count": 2,
     "metadata": {},
     "output_type": "execute_result"
    }
   ],
   "source": [
    "vote_df.describe()"
   ]
  },
  {
   "cell_type": "code",
   "execution_count": 3,
   "id": "6abd3000",
   "metadata": {},
   "outputs": [],
   "source": [
    "def voted_prob(df=None, column=None):\n",
    "    voted_people = df[df['voted']==1]\n",
    "    uniques = df[column].unique()\n",
    "    \n",
    "    # 투표한 사람들 중 unique의 비율 (e.g. 투표한 사람들 중 남자의 비율)\n",
    "    for unique in uniques:\n",
    "        prob = round( len(voted_people[voted_people[column]==unique])/len(voted_people), 4)\n",
    "        print(\"투표한 사람들 중\", unique, \"비율:\", prob)\n",
    "    print(\"\")\n",
    "    \n",
    "    # column 속에서 unique마다의 비율 (e.g. gender 컬럼에서 남자의 비율)\n",
    "    for unique in uniques:\n",
    "        prob = round(len(df[df[column]==unique])/len(vote_df), 4)\n",
    "        print(column, \"컬럼 중\", unique, \"의 비율:\",prob)\n",
    "    print(\"\")\n",
    "    \n",
    "    # unique 중에서 투표를 한 비율 (e.g.남자 중에서 투표를 한 비율)\n",
    "    for unique in uniques:\n",
    "        prob = round( len(voted_people[voted_people[column]==unique])/len(df[df[column]==unique]), 4)\n",
    "        print(unique, \"중 투표를 한 비율: \", prob)"
   ]
  },
  {
   "cell_type": "code",
   "execution_count": 35,
   "id": "b8b149c5",
   "metadata": {},
   "outputs": [
    {
     "name": "stdout",
     "output_type": "stream",
     "text": [
      "투표한 사람들 중 20s 비율: 0.3855\n",
      "투표한 사람들 중 10s 비율: 0.1333\n",
      "투표한 사람들 중 40s 비율: 0.1388\n",
      "투표한 사람들 중 30s 비율: 0.2414\n",
      "투표한 사람들 중 50s 비율: 0.0714\n",
      "투표한 사람들 중 60s 비율: 0.0266\n",
      "투표한 사람들 중 +70s 비율: 0.003\n",
      "\n",
      "age_group 컬럼 중 20s 의 비율: 0.2918\n",
      "age_group 컬럼 중 10s 의 비율: 0.4097\n",
      "age_group 컬럼 중 40s 의 비율: 0.0849\n",
      "age_group 컬럼 중 30s 의 비율: 0.1504\n",
      "age_group 컬럼 중 50s 의 비율: 0.045\n",
      "age_group 컬럼 중 60s 의 비율: 0.0155\n",
      "age_group 컬럼 중 +70s 의 비율: 0.0027\n",
      "\n",
      "20s 중 투표를 한 비율:  0.2525\n",
      "10s 중 투표를 한 비율:  0.0621\n",
      "40s 중 투표를 한 비율:  0.3123\n",
      "30s 중 투표를 한 비율:  0.3068\n",
      "50s 중 투표를 한 비율:  0.3032\n",
      "60s 중 투표를 한 비율:  0.3281\n",
      "+70s 중 투표를 한 비율:  0.2121\n"
     ]
    },
    {
     "data": {
      "text/plain": [
       "<AxesSubplot:xlabel='age_group', ylabel='voted'>"
      ]
     },
     "execution_count": 35,
     "metadata": {},
     "output_type": "execute_result"
    },
    {
     "data": {
      "image/png": "[encoded data removed]",
      "text/plain": [
       "<Figure size 432x288 with 1 Axes>"
      ]
     },
     "metadata": {
      "needs_background": "light"
     },
     "output_type": "display_data"
    }
   ],
   "source": [
    "voted_prob(df=vote_df, column='age_group')\n",
    "sns.barplot(x='age_group', y='voted', data=vote_df)"
   ]
  },
  {
   "cell_type": "code",
   "execution_count": 5,
   "id": "5169bd6a",
   "metadata": {},
   "outputs": [
    {
     "name": "stdout",
     "output_type": "stream",
     "text": [
      "인코딩 변환값: [0 1 2 3 4 5]\n"
     ]
    }
   ],
   "source": [
    "from sklearn.preprocessing import LabelEncoder\n",
    "\n",
    "items = ['10s', '20s', '30s', '40s', '50s', '60s']\n",
    "encoder = LabelEncoder()\n",
    "encoder.fit(items)\n",
    "labels = encoder.transform(items)\n",
    "print('인코딩 변환값:', labels)"
   ]
  },
  {
   "cell_type": "code",
   "execution_count": 6,
   "id": "78f638b9",
   "metadata": {},
   "outputs": [],
   "source": [
    "def get_outlier(df=None, column= None, weight=1.5):\n",
    "    fraud = df[df['voted']==1][column]\n",
    "    quantile_25 = np.percentile(fraud.values, 25)\n",
    "    quantile_75 = np.percentile(fraud.values, 75)\n",
    "    iqr = quantile_75 - quantile_25\n",
    "    iqr_weight = iqr * weight\n",
    "    lowest_val = quantile_25 - iqr_weight\n",
    "    highest_val = quantile_75 + iqr_weight\n",
    "    outlier_index = fraud[(fraud < lowest_val)|(fraud > highest_val)].index\n",
    "    return outlier_index"
   ]
  },
  {
   "cell_type": "code",
   "execution_count": 7,
   "id": "e44a146f",
   "metadata": {},
   "outputs": [
    {
     "name": "stdout",
     "output_type": "stream",
     "text": [
      "이상치 데이터 인덱스: Int64Index([   21,    31,    77,   110,   124,   134,   214,   243,   253,\n",
      "              267,\n",
      "            ...\n",
      "            36149, 36179, 36205, 36206, 36220, 36221, 36252, 36350, 36363,\n",
      "            36373],\n",
      "           dtype='int64', length=1193)\n"
     ]
    }
   ],
   "source": [
    "outlier_index1 = get_outlier(df=vote_df, column='QaE', weight=1.5)\n",
    "print(\"이상치 데이터 인덱스:\", outlier_index1)"
   ]
  },
  {
   "cell_type": "code",
   "execution_count": 8,
   "id": "1ac7128e",
   "metadata": {},
   "outputs": [],
   "source": [
    "vote_df.drop(outlier_index1, axis = 0, inplace = True)"
   ]
  },
  {
   "cell_type": "code",
   "execution_count": 9,
   "id": "6bcde969",
   "metadata": {},
   "outputs": [
    {
     "name": "stdout",
     "output_type": "stream",
     "text": [
      "이상치 데이터 인덱스: Int64Index([   43,    90,   143,   182,   190,   199,   250,   263,   302,\n",
      "              312,\n",
      "            ...\n",
      "            36204, 36254, 36267, 36274, 36306, 36320, 36322, 36336, 36364,\n",
      "            36387],\n",
      "           dtype='int64', length=1171)\n"
     ]
    }
   ],
   "source": [
    "outlier_index2 = get_outlier(df=vote_df, column='QbE', weight=1.5)\n",
    "print(\"이상치 데이터 인덱스:\", outlier_index2)\n",
    "vote_df.drop(outlier_index2, axis = 0, inplace = True)"
   ]
  },
  {
   "cell_type": "code",
   "execution_count": 10,
   "id": "d67abf17",
   "metadata": {},
   "outputs": [
    {
     "name": "stdout",
     "output_type": "stream",
     "text": [
      "이상치 데이터 인덱스: Int64Index([   35,    49,    94,    96,   101,   111,   114,   131,   171,\n",
      "              270,\n",
      "            ...\n",
      "            36237, 36280, 36290, 36295, 36304, 36315, 36325, 36358, 36365,\n",
      "            36375],\n",
      "           dtype='int64', length=1068)\n"
     ]
    }
   ],
   "source": [
    "outlier_index3 = get_outlier(df=vote_df, column='QcE', weight=1.5)\n",
    "print(\"이상치 데이터 인덱스:\", outlier_index3)\n",
    "vote_df.drop(outlier_index3, axis = 0, inplace = True)"
   ]
  },
  {
   "cell_type": "code",
   "execution_count": 11,
   "id": "b9050bcf",
   "metadata": {},
   "outputs": [
    {
     "name": "stdout",
     "output_type": "stream",
     "text": [
      "이상치 데이터 인덱스: Int64Index([    9,    27,    33,    66,   258,   266,   274,   394,   400,\n",
      "              422,\n",
      "            ...\n",
      "            35965, 36184, 36224, 36235, 36248, 36303, 36330, 36374, 36392,\n",
      "            36394],\n",
      "           dtype='int64', length=870)\n"
     ]
    }
   ],
   "source": [
    "outlier_index4 = get_outlier(df=vote_df, column='QdE', weight=1.5)\n",
    "print(\"이상치 데이터 인덱스:\", outlier_index4)\n",
    "vote_df.drop(outlier_index4, axis = 0, inplace = True)"
   ]
  },
  {
   "cell_type": "code",
   "execution_count": 12,
   "id": "56076de8",
   "metadata": {
    "scrolled": true
   },
   "outputs": [
    {
     "name": "stdout",
     "output_type": "stream",
     "text": [
      "이상치 데이터 인덱스: Int64Index([    1,    11,    82,   166,   169,   219,   271,   303,   316,\n",
      "              379,\n",
      "            ...\n",
      "            35910, 35948, 35993, 36013, 36024, 36072, 36102, 36174, 36244,\n",
      "            36281],\n",
      "           dtype='int64', length=751)\n"
     ]
    }
   ],
   "source": [
    "outlier_index5 = get_outlier(df=vote_df, column='QeE', weight=1.5)\n",
    "print(\"이상치 데이터 인덱스:\", outlier_index5)\n",
    "vote_df.drop(outlier_index5, axis = 0, inplace = True)"
   ]
  },
  {
   "cell_type": "code",
   "execution_count": 13,
   "id": "8ae2a364",
   "metadata": {},
   "outputs": [
    {
     "name": "stdout",
     "output_type": "stream",
     "text": [
      "이상치 데이터 인덱스: Int64Index([  142,   298,   328,   336,   342,   372,   412,   478,   479,\n",
      "              572,\n",
      "            ...\n",
      "            35988, 36019, 36025, 36057, 36059, 36087, 36131, 36172, 36247,\n",
      "            36352],\n",
      "           dtype='int64', length=725)\n"
     ]
    }
   ],
   "source": [
    "outlier_index6 = get_outlier(df=vote_df, column='QfE', weight=1.5)\n",
    "print(\"이상치 데이터 인덱스:\", outlier_index6)\n",
    "vote_df.drop(outlier_index6, axis = 0, inplace = True)"
   ]
  },
  {
   "cell_type": "code",
   "execution_count": 14,
   "id": "a4551cbc",
   "metadata": {},
   "outputs": [
    {
     "name": "stdout",
     "output_type": "stream",
     "text": [
      "이상치 데이터 인덱스: Int64Index([    6,    53,    58,   202,   222,   275,   309,   555,   573,\n",
      "              598,\n",
      "            ...\n",
      "            36047, 36099, 36129, 36162, 36191, 36231, 36324, 36384, 36388,\n",
      "            36420],\n",
      "           dtype='int64', length=588)\n"
     ]
    }
   ],
   "source": [
    "outlier_index7 = get_outlier(df=vote_df, column='QgE', weight=1.5)\n",
    "print(\"이상치 데이터 인덱스:\", outlier_index7)\n",
    "vote_df.drop(outlier_index7, axis = 0, inplace = True)"
   ]
  },
  {
   "cell_type": "code",
   "execution_count": 15,
   "id": "f07e63f2",
   "metadata": {},
   "outputs": [
    {
     "name": "stdout",
     "output_type": "stream",
     "text": [
      "이상치 데이터 인덱스: Int64Index([  103,   292,   355,   380,   475,   476,   557,   681,   705,\n",
      "              728,\n",
      "            ...\n",
      "            35843, 35856, 35912, 35947, 36005, 36071, 36165, 36166, 36403,\n",
      "            36422],\n",
      "           dtype='int64', length=641)\n"
     ]
    }
   ],
   "source": [
    "outlier_index8 = get_outlier(df=vote_df, column='QhE', weight=1.5)\n",
    "print(\"이상치 데이터 인덱스:\", outlier_index8)\n",
    "vote_df.drop(outlier_index8, axis = 0, inplace = True)"
   ]
  },
  {
   "cell_type": "code",
   "execution_count": 16,
   "id": "0679252e",
   "metadata": {},
   "outputs": [
    {
     "name": "stdout",
     "output_type": "stream",
     "text": [
      "이상치 데이터 인덱스: Int64Index([  183,   282,   415,   463,   465,   481,   584,   613,   807,\n",
      "              808,\n",
      "            ...\n",
      "            35928, 35968, 36028, 36112, 36136, 36180, 36259, 36309, 36332,\n",
      "            36409],\n",
      "           dtype='int64', length=612)\n"
     ]
    }
   ],
   "source": [
    "outlier_index9 = get_outlier(df=vote_df, column='QiE', weight=1.5)\n",
    "print(\"이상치 데이터 인덱스:\", outlier_index9)\n",
    "vote_df.drop(outlier_index9, axis = 0, inplace = True)"
   ]
  },
  {
   "cell_type": "code",
   "execution_count": 17,
   "id": "75707f12",
   "metadata": {},
   "outputs": [
    {
     "name": "stdout",
     "output_type": "stream",
     "text": [
      "이상치 데이터 인덱스: Int64Index([    4,    60,    73,   116,   262,   544,   619,   624,   712,\n",
      "              753,\n",
      "            ...\n",
      "            35875, 35932, 35963, 35977, 36202, 36246, 36323, 36376, 36389,\n",
      "            36398],\n",
      "           dtype='int64', length=554)\n"
     ]
    }
   ],
   "source": [
    "outlier_index10 = get_outlier(df=vote_df, column='QjE', weight=1.5)\n",
    "print(\"이상치 데이터 인덱스:\", outlier_index10)\n",
    "vote_df.drop(outlier_index10, axis = 0, inplace = True)"
   ]
  },
  {
   "cell_type": "code",
   "execution_count": 18,
   "id": "61e8fb0f",
   "metadata": {},
   "outputs": [
    {
     "name": "stdout",
     "output_type": "stream",
     "text": [
      "이상치 데이터 인덱스: Int64Index([   62,   133,   178,   191,   260,   340,   428,   521,   569,\n",
      "              630,\n",
      "            ...\n",
      "            35923, 35945, 35989, 36032, 36063, 36088, 36139, 36143, 36343,\n",
      "            36414],\n",
      "           dtype='int64', length=483)\n"
     ]
    }
   ],
   "source": [
    "outlier_index11 = get_outlier(df=vote_df, column='QkE', weight=1.5)\n",
    "print(\"이상치 데이터 인덱스:\", outlier_index11)\n",
    "vote_df.drop(outlier_index11, axis = 0, inplace = True)"
   ]
  },
  {
   "cell_type": "code",
   "execution_count": 19,
   "id": "29e4d84d",
   "metadata": {},
   "outputs": [
    {
     "name": "stdout",
     "output_type": "stream",
     "text": [
      "이상치 데이터 인덱스: Int64Index([   12,    85,   147,   327,   364,   859,   995,  1040,  1231,\n",
      "             1261,\n",
      "            ...\n",
      "            35500, 35564, 35565, 35679, 35811, 35896, 35939, 35949, 36119,\n",
      "            36369],\n",
      "           dtype='int64', length=388)\n"
     ]
    }
   ],
   "source": [
    "outlier_index12 = get_outlier(df=vote_df, column='QlE', weight=1.5)\n",
    "print(\"이상치 데이터 인덱스:\", outlier_index12)\n",
    "vote_df.drop(outlier_index12, axis = 0, inplace = True)"
   ]
  },
  {
   "cell_type": "code",
   "execution_count": 20,
   "id": "fef3f9b2",
   "metadata": {},
   "outputs": [
    {
     "name": "stdout",
     "output_type": "stream",
     "text": [
      "이상치 데이터 인덱스: Int64Index([    0,    14,    45,    74,    83,    88,   230,   294,   381,\n",
      "              405,\n",
      "            ...\n",
      "            35738, 35766, 35890, 35919, 35921, 35938, 36085, 36140, 36209,\n",
      "            36284],\n",
      "           dtype='int64', length=365)\n"
     ]
    }
   ],
   "source": [
    "outlier_index13 = get_outlier(df=vote_df, column='QmE', weight=1.5)\n",
    "print(\"이상치 데이터 인덱스:\", outlier_index13)\n",
    "vote_df.drop(outlier_index13, axis = 0, inplace = True)"
   ]
  },
  {
   "cell_type": "code",
   "execution_count": 21,
   "id": "28fe0e9f",
   "metadata": {},
   "outputs": [
    {
     "name": "stdout",
     "output_type": "stream",
     "text": [
      "이상치 데이터 인덱스: Int64Index([   34,   121,   163,   185,   186,   264,   334,   343,   471,\n",
      "              493,\n",
      "            ...\n",
      "            35258, 35416, 35446, 36023, 36093, 36130, 36142, 36339, 36396,\n",
      "            36424],\n",
      "           dtype='int64', length=423)\n"
     ]
    }
   ],
   "source": [
    "outlier_index14 = get_outlier(df=vote_df, column='QnE', weight=1.5)\n",
    "print(\"이상치 데이터 인덱스:\", outlier_index14)\n",
    "vote_df.drop(outlier_index14, axis = 0, inplace = True)"
   ]
  },
  {
   "cell_type": "code",
   "execution_count": 22,
   "id": "dece36b6",
   "metadata": {},
   "outputs": [
    {
     "name": "stdout",
     "output_type": "stream",
     "text": [
      "이상치 데이터 인덱스: Int64Index([  146,   176,   265,   358,   439,   472,   533,   560,   656,\n",
      "             1100,\n",
      "            ...\n",
      "            35287, 35417, 35434, 35511, 35599, 35643, 35680, 35754, 35828,\n",
      "            36171],\n",
      "           dtype='int64', length=382)\n"
     ]
    }
   ],
   "source": [
    "outlier_index15 = get_outlier(df=vote_df, column='QoE', weight=1.5)\n",
    "print(\"이상치 데이터 인덱스:\", outlier_index15)\n",
    "vote_df.drop(outlier_index15, axis = 0, inplace = True)"
   ]
  },
  {
   "cell_type": "code",
   "execution_count": 23,
   "id": "0b8dfebc",
   "metadata": {},
   "outputs": [
    {
     "name": "stdout",
     "output_type": "stream",
     "text": [
      "이상치 데이터 인덱스: Int64Index([   23,   194,   256,   622,   779,   837,  1016,  1078,  1203,\n",
      "             1382,\n",
      "            ...\n",
      "            35560, 35614, 35645, 35654, 35783, 36012, 36134, 36148, 36160,\n",
      "            36193],\n",
      "           dtype='int64', length=330)\n"
     ]
    }
   ],
   "source": [
    "outlier_index16 = get_outlier(df=vote_df, column='QpE', weight=1.5)\n",
    "print(\"이상치 데이터 인덱스:\", outlier_index16)\n",
    "vote_df.drop(outlier_index16, axis = 0, inplace = True)"
   ]
  },
  {
   "cell_type": "code",
   "execution_count": 24,
   "id": "035787f4",
   "metadata": {},
   "outputs": [
    {
     "name": "stdout",
     "output_type": "stream",
     "text": [
      "이상치 데이터 인덱스: Int64Index([   22,    80,   204,   257,   431,   452,   487,   536,   606,\n",
      "              620,\n",
      "            ...\n",
      "            35716, 35784, 35802, 35812, 35894, 36039, 36197, 36265, 36273,\n",
      "            36340],\n",
      "           dtype='int64', length=346)\n"
     ]
    }
   ],
   "source": [
    "outlier_index17 = get_outlier(df=vote_df, column='QqE', weight=1.5)\n",
    "print(\"이상치 데이터 인덱스:\", outlier_index17)\n",
    "vote_df.drop(outlier_index17, axis = 0, inplace = True)"
   ]
  },
  {
   "cell_type": "code",
   "execution_count": 25,
   "id": "d04f0dcf",
   "metadata": {},
   "outputs": [
    {
     "name": "stdout",
     "output_type": "stream",
     "text": [
      "이상치 데이터 인덱스: Int64Index([  140,   232,   495,   504,   655,   877,  1354,  1518,  1536,\n",
      "             1580,\n",
      "            ...\n",
      "            35271, 35340, 35542, 35695, 35763, 36016, 36092, 36103, 36188,\n",
      "            36236],\n",
      "           dtype='int64', length=318)\n"
     ]
    }
   ],
   "source": [
    "outlier_index18 = get_outlier(df=vote_df, column='QrE', weight=1.5)\n",
    "print(\"이상치 데이터 인덱스:\", outlier_index18)\n",
    "vote_df.drop(outlier_index18, axis = 0, inplace = True)"
   ]
  },
  {
   "cell_type": "code",
   "execution_count": 26,
   "id": "6eab7864",
   "metadata": {},
   "outputs": [
    {
     "name": "stdout",
     "output_type": "stream",
     "text": [
      "이상치 데이터 인덱스: Int64Index([   30,    32,    92,   144,   306,   512,  1061,  1262,  1361,\n",
      "             1532,\n",
      "            ...\n",
      "            35353, 35473, 35539, 35582, 35594, 35668, 35818, 35819, 35959,\n",
      "            36279],\n",
      "           dtype='int64', length=299)\n"
     ]
    }
   ],
   "source": [
    "outlier_index19 = get_outlier(df=vote_df, column='QsE', weight=1.5)\n",
    "print(\"이상치 데이터 인덱스:\", outlier_index19)\n",
    "vote_df.drop(outlier_index19, axis = 0, inplace = True)"
   ]
  },
  {
   "cell_type": "code",
   "execution_count": 27,
   "id": "f1591405",
   "metadata": {},
   "outputs": [
    {
     "name": "stdout",
     "output_type": "stream",
     "text": [
      "이상치 데이터 인덱스: Int64Index([   52,   151,   229,   335,   438,   564,  1163,  1416,  1502,\n",
      "             1700,\n",
      "            ...\n",
      "            35250, 35278, 35321, 35345, 35376, 35489, 35651, 35790, 36305,\n",
      "            36335],\n",
      "           dtype='int64', length=295)\n"
     ]
    }
   ],
   "source": [
    "outlier_index20 = get_outlier(df=vote_df, column='QtE', weight=1.5)\n",
    "print(\"이상치 데이터 인덱스:\", outlier_index20)\n",
    "vote_df.drop(outlier_index20, axis = 0, inplace = True)"
   ]
  },
  {
   "cell_type": "code",
   "execution_count": 37,
   "id": "1e27b865",
   "metadata": {},
   "outputs": [],
   "source": [
    "col_name = ['QaE', 'QbE', 'QcE', 'QdE','QeE','QfE','QgE','QhE','QiE','QjE','QkE','QlE','QmE','QnE','QoE','QpE','QqE','QrE','QsE','QtE']"
   ]
  },
  {
   "cell_type": "code",
   "execution_count": 38,
   "id": "f26047fb",
   "metadata": {},
   "outputs": [],
   "source": [
    "from sklearn.preprocessing import MinMaxScaler\n",
    "\n",
    "scaler = MinMaxScaler()\n",
    "vote_df_QE = vote_df[col_name]\n",
    "scaler.fit(vote_df_QE)\n",
    "vote_scaled = scaler.transform(vote_df_QE)"
   ]
  },
  {
   "cell_type": "code",
   "execution_count": 39,
   "id": "d7cddd92",
   "metadata": {},
   "outputs": [
    {
     "data": {
      "text/html": [
       "<div>\n",
       "<style scoped>\n",
       "    .dataframe tbody tr th:only-of-type {\n",
       "        vertical-align: middle;\n",
       "    }\n",
       "\n",
       "    .dataframe tbody tr th {\n",
       "        vertical-align: top;\n",
       "    }\n",
       "\n",
       "    .dataframe thead th {\n",
       "        text-align: right;\n",
       "    }\n",
       "</style>\n",
       "<table border=\"1\" class=\"dataframe\">\n",
       "  <thead>\n",
       "    <tr style=\"text-align: right;\">\n",
       "      <th></th>\n",
       "      <th>QaE</th>\n",
       "      <th>QbE</th>\n",
       "      <th>QcE</th>\n",
       "      <th>QdE</th>\n",
       "      <th>QeE</th>\n",
       "      <th>QfE</th>\n",
       "      <th>QgE</th>\n",
       "      <th>QhE</th>\n",
       "      <th>QiE</th>\n",
       "      <th>QjE</th>\n",
       "      <th>QkE</th>\n",
       "      <th>QlE</th>\n",
       "      <th>QmE</th>\n",
       "      <th>QnE</th>\n",
       "      <th>QoE</th>\n",
       "      <th>QpE</th>\n",
       "      <th>QqE</th>\n",
       "      <th>QrE</th>\n",
       "      <th>QsE</th>\n",
       "      <th>QtE</th>\n",
       "    </tr>\n",
       "  </thead>\n",
       "  <tbody>\n",
       "    <tr>\n",
       "      <th>count</th>\n",
       "      <td>24623.000000</td>\n",
       "      <td>24623.000000</td>\n",
       "      <td>24623.000000</td>\n",
       "      <td>24623.000000</td>\n",
       "      <td>24623.000000</td>\n",
       "      <td>24623.000000</td>\n",
       "      <td>24623.000000</td>\n",
       "      <td>24623.000000</td>\n",
       "      <td>24623.000000</td>\n",
       "      <td>24623.000000</td>\n",
       "      <td>24623.000000</td>\n",
       "      <td>24623.000000</td>\n",
       "      <td>24623.000000</td>\n",
       "      <td>24623.000000</td>\n",
       "      <td>24623.000000</td>\n",
       "      <td>24623.000000</td>\n",
       "      <td>24623.000000</td>\n",
       "      <td>24623.000000</td>\n",
       "      <td>24623.000000</td>\n",
       "      <td>24623.000000</td>\n",
       "    </tr>\n",
       "    <tr>\n",
       "      <th>mean</th>\n",
       "      <td>0.000350</td>\n",
       "      <td>0.000585</td>\n",
       "      <td>0.002818</td>\n",
       "      <td>0.000874</td>\n",
       "      <td>0.000984</td>\n",
       "      <td>0.000182</td>\n",
       "      <td>0.001099</td>\n",
       "      <td>0.002894</td>\n",
       "      <td>0.000206</td>\n",
       "      <td>0.000474</td>\n",
       "      <td>0.000574</td>\n",
       "      <td>0.000424</td>\n",
       "      <td>0.000305</td>\n",
       "      <td>0.001374</td>\n",
       "      <td>0.001480</td>\n",
       "      <td>0.000345</td>\n",
       "      <td>0.000250</td>\n",
       "      <td>0.000089</td>\n",
       "      <td>0.003765</td>\n",
       "      <td>0.000275</td>\n",
       "    </tr>\n",
       "    <tr>\n",
       "      <th>std</th>\n",
       "      <td>0.006640</td>\n",
       "      <td>0.007135</td>\n",
       "      <td>0.012448</td>\n",
       "      <td>0.007943</td>\n",
       "      <td>0.009222</td>\n",
       "      <td>0.008475</td>\n",
       "      <td>0.009900</td>\n",
       "      <td>0.014557</td>\n",
       "      <td>0.006678</td>\n",
       "      <td>0.007447</td>\n",
       "      <td>0.007359</td>\n",
       "      <td>0.007828</td>\n",
       "      <td>0.006696</td>\n",
       "      <td>0.008694</td>\n",
       "      <td>0.010862</td>\n",
       "      <td>0.006821</td>\n",
       "      <td>0.006457</td>\n",
       "      <td>0.006378</td>\n",
       "      <td>0.009461</td>\n",
       "      <td>0.006702</td>\n",
       "    </tr>\n",
       "    <tr>\n",
       "      <th>min</th>\n",
       "      <td>0.000000</td>\n",
       "      <td>0.000000</td>\n",
       "      <td>0.000000</td>\n",
       "      <td>0.000000</td>\n",
       "      <td>0.000000</td>\n",
       "      <td>0.000000</td>\n",
       "      <td>0.000000</td>\n",
       "      <td>0.000000</td>\n",
       "      <td>0.000000</td>\n",
       "      <td>0.000000</td>\n",
       "      <td>0.000000</td>\n",
       "      <td>0.000000</td>\n",
       "      <td>0.000000</td>\n",
       "      <td>0.000000</td>\n",
       "      <td>0.000000</td>\n",
       "      <td>0.000000</td>\n",
       "      <td>0.000000</td>\n",
       "      <td>0.000000</td>\n",
       "      <td>0.000000</td>\n",
       "      <td>0.000000</td>\n",
       "    </tr>\n",
       "    <tr>\n",
       "      <th>25%</th>\n",
       "      <td>0.000148</td>\n",
       "      <td>0.000248</td>\n",
       "      <td>0.001334</td>\n",
       "      <td>0.000396</td>\n",
       "      <td>0.000428</td>\n",
       "      <td>0.000038</td>\n",
       "      <td>0.000462</td>\n",
       "      <td>0.001441</td>\n",
       "      <td>0.000068</td>\n",
       "      <td>0.000178</td>\n",
       "      <td>0.000265</td>\n",
       "      <td>0.000176</td>\n",
       "      <td>0.000119</td>\n",
       "      <td>0.000630</td>\n",
       "      <td>0.000672</td>\n",
       "      <td>0.000143</td>\n",
       "      <td>0.000102</td>\n",
       "      <td>0.000023</td>\n",
       "      <td>0.001804</td>\n",
       "      <td>0.000101</td>\n",
       "    </tr>\n",
       "    <tr>\n",
       "      <th>50%</th>\n",
       "      <td>0.000204</td>\n",
       "      <td>0.000344</td>\n",
       "      <td>0.001841</td>\n",
       "      <td>0.000545</td>\n",
       "      <td>0.000593</td>\n",
       "      <td>0.000054</td>\n",
       "      <td>0.000646</td>\n",
       "      <td>0.001962</td>\n",
       "      <td>0.000097</td>\n",
       "      <td>0.000246</td>\n",
       "      <td>0.000359</td>\n",
       "      <td>0.000247</td>\n",
       "      <td>0.000166</td>\n",
       "      <td>0.000877</td>\n",
       "      <td>0.000934</td>\n",
       "      <td>0.000196</td>\n",
       "      <td>0.000141</td>\n",
       "      <td>0.000032</td>\n",
       "      <td>0.002571</td>\n",
       "      <td>0.000140</td>\n",
       "    </tr>\n",
       "    <tr>\n",
       "      <th>75%</th>\n",
       "      <td>0.000303</td>\n",
       "      <td>0.000514</td>\n",
       "      <td>0.002703</td>\n",
       "      <td>0.000790</td>\n",
       "      <td>0.000846</td>\n",
       "      <td>0.000082</td>\n",
       "      <td>0.000963</td>\n",
       "      <td>0.002768</td>\n",
       "      <td>0.000147</td>\n",
       "      <td>0.000365</td>\n",
       "      <td>0.000518</td>\n",
       "      <td>0.000357</td>\n",
       "      <td>0.000244</td>\n",
       "      <td>0.001301</td>\n",
       "      <td>0.001362</td>\n",
       "      <td>0.000279</td>\n",
       "      <td>0.000210</td>\n",
       "      <td>0.000047</td>\n",
       "      <td>0.003804</td>\n",
       "      <td>0.000206</td>\n",
       "    </tr>\n",
       "    <tr>\n",
       "      <th>max</th>\n",
       "      <td>1.000000</td>\n",
       "      <td>1.000000</td>\n",
       "      <td>1.000000</td>\n",
       "      <td>1.000000</td>\n",
       "      <td>1.000000</td>\n",
       "      <td>1.000000</td>\n",
       "      <td>1.000000</td>\n",
       "      <td>1.000000</td>\n",
       "      <td>1.000000</td>\n",
       "      <td>1.000000</td>\n",
       "      <td>1.000000</td>\n",
       "      <td>1.000000</td>\n",
       "      <td>1.000000</td>\n",
       "      <td>1.000000</td>\n",
       "      <td>1.000000</td>\n",
       "      <td>1.000000</td>\n",
       "      <td>1.000000</td>\n",
       "      <td>1.000000</td>\n",
       "      <td>1.000000</td>\n",
       "      <td>1.000000</td>\n",
       "    </tr>\n",
       "  </tbody>\n",
       "</table>\n",
       "</div>"
      ],
      "text/plain": [
       "                QaE           QbE           QcE           QdE           QeE  \\\n",
       "count  24623.000000  24623.000000  24623.000000  24623.000000  24623.000000   \n",
       "mean       0.000350      0.000585      0.002818      0.000874      0.000984   \n",
       "std        0.006640      0.007135      0.012448      0.007943      0.009222   \n",
       "min        0.000000      0.000000      0.000000      0.000000      0.000000   \n",
       "25%        0.000148      0.000248      0.001334      0.000396      0.000428   \n",
       "50%        0.000204      0.000344      0.001841      0.000545      0.000593   \n",
       "75%        0.000303      0.000514      0.002703      0.000790      0.000846   \n",
       "max        1.000000      1.000000      1.000000      1.000000      1.000000   \n",
       "\n",
       "                QfE           QgE           QhE           QiE           QjE  \\\n",
       "count  24623.000000  24623.000000  24623.000000  24623.000000  24623.000000   \n",
       "mean       0.000182      0.001099      0.002894      0.000206      0.000474   \n",
       "std        0.008475      0.009900      0.014557      0.006678      0.007447   \n",
       "min        0.000000      0.000000      0.000000      0.000000      0.000000   \n",
       "25%        0.000038      0.000462      0.001441      0.000068      0.000178   \n",
       "50%        0.000054      0.000646      0.001962      0.000097      0.000246   \n",
       "75%        0.000082      0.000963      0.002768      0.000147      0.000365   \n",
       "max        1.000000      1.000000      1.000000      1.000000      1.000000   \n",
       "\n",
       "                QkE           QlE           QmE           QnE           QoE  \\\n",
       "count  24623.000000  24623.000000  24623.000000  24623.000000  24623.000000   \n",
       "mean       0.000574      0.000424      0.000305      0.001374      0.001480   \n",
       "std        0.007359      0.007828      0.006696      0.008694      0.010862   \n",
       "min        0.000000      0.000000      0.000000      0.000000      0.000000   \n",
       "25%        0.000265      0.000176      0.000119      0.000630      0.000672   \n",
       "50%        0.000359      0.000247      0.000166      0.000877      0.000934   \n",
       "75%        0.000518      0.000357      0.000244      0.001301      0.001362   \n",
       "max        1.000000      1.000000      1.000000      1.000000      1.000000   \n",
       "\n",
       "                QpE           QqE           QrE           QsE           QtE  \n",
       "count  24623.000000  24623.000000  24623.000000  24623.000000  24623.000000  \n",
       "mean       0.000345      0.000250      0.000089      0.003765      0.000275  \n",
       "std        0.006821      0.006457      0.006378      0.009461      0.006702  \n",
       "min        0.000000      0.000000      0.000000      0.000000      0.000000  \n",
       "25%        0.000143      0.000102      0.000023      0.001804      0.000101  \n",
       "50%        0.000196      0.000141      0.000032      0.002571      0.000140  \n",
       "75%        0.000279      0.000210      0.000047      0.003804      0.000206  \n",
       "max        1.000000      1.000000      1.000000      1.000000      1.000000  "
      ]
     },
     "execution_count": 39,
     "metadata": {},
     "output_type": "execute_result"
    }
   ],
   "source": [
    "vote_df_scaled = pd.DataFrame(data = vote_scaled)\n",
    "vote_df_scaled.columns = col_name\n",
    "vote_df_scaled.describe()"
   ]
  },
  {
   "cell_type": "code",
   "execution_count": 40,
   "id": "b630e2fc",
   "metadata": {},
   "outputs": [
    {
     "name": "stdout",
     "output_type": "stream",
     "text": [
      "feature들의 최소 값\n",
      "QaE    0.0\n",
      "QbE    0.0\n",
      "QcE    0.0\n",
      "QdE    0.0\n",
      "QeE    0.0\n",
      "QfE    0.0\n",
      "QgE    0.0\n",
      "QhE    0.0\n",
      "QiE    0.0\n",
      "QjE    0.0\n",
      "QkE    0.0\n",
      "QlE    0.0\n",
      "QmE    0.0\n",
      "QnE    0.0\n",
      "QoE    0.0\n",
      "QpE    0.0\n",
      "QqE    0.0\n",
      "QrE    0.0\n",
      "QsE    0.0\n",
      "QtE    0.0\n",
      "dtype: float64\n",
      "\n",
      "feature들의 최대 값\n",
      "QaE    1.0\n",
      "QbE    1.0\n",
      "QcE    1.0\n",
      "QdE    1.0\n",
      "QeE    1.0\n",
      "QfE    1.0\n",
      "QgE    1.0\n",
      "QhE    1.0\n",
      "QiE    1.0\n",
      "QjE    1.0\n",
      "QkE    1.0\n",
      "QlE    1.0\n",
      "QmE    1.0\n",
      "QnE    1.0\n",
      "QoE    1.0\n",
      "QpE    1.0\n",
      "QqE    1.0\n",
      "QrE    1.0\n",
      "QsE    1.0\n",
      "QtE    1.0\n",
      "dtype: float64\n"
     ]
    }
   ],
   "source": [
    "print('feature들의 최소 값')\n",
    "print(vote_df_scaled.min())\n",
    "print('\\nfeature들의 최대 값')\n",
    "print(vote_df_scaled.max())"
   ]
  },
  {
   "cell_type": "code",
   "execution_count": 41,
   "id": "b1217745",
   "metadata": {},
   "outputs": [
    {
     "name": "stdout",
     "output_type": "stream",
     "text": [
      "투표한 사람들 중 5.0 비율: 0.055\n",
      "투표한 사람들 중 4.0 비율: 0.1256\n",
      "투표한 사람들 중 2.0 비율: 0.2959\n",
      "투표한 사람들 중 1.0 비율: 0.3749\n",
      "투표한 사람들 중 3.0 비율: 0.1486\n",
      "\n",
      "QaA 컬럼 중 5.0 의 비율: 0.0478\n",
      "QaA 컬럼 중 4.0 의 비율: 0.1058\n",
      "QaA 컬럼 중 2.0 의 비율: 0.2828\n",
      "QaA 컬럼 중 1.0 의 비율: 0.4051\n",
      "QaA 컬럼 중 3.0 의 비율: 0.1585\n",
      "\n",
      "5.0 중 투표를 한 비율:  0.2201\n",
      "4.0 중 투표를 한 비율:  0.2268\n",
      "2.0 중 투표를 한 비율:  0.1999\n",
      "1.0 중 투표를 한 비율:  0.1768\n",
      "3.0 중 투표를 한 비율:  0.1791\n"
     ]
    },
    {
     "data": {
      "image/png": "[encoded data removed]",
      "text/plain": [
       "<Figure size 432x288 with 1 Axes>"
      ]
     },
     "metadata": {
      "needs_background": "light"
     },
     "output_type": "display_data"
    }
   ],
   "source": [
    "sns.barplot(x='QaA', y='voted', data=vote_df)\n",
    "voted_prob(df=vote_df, column='QaA')"
   ]
  },
  {
   "cell_type": "code",
   "execution_count": 42,
   "id": "dfc10da7",
   "metadata": {},
   "outputs": [
    {
     "name": "stdout",
     "output_type": "stream",
     "text": [
      "투표한 사람들 중 1.0 비율: 0.264\n",
      "투표한 사람들 중 2.0 비율: 0.1855\n",
      "투표한 사람들 중 5.0 비율: 0.2189\n",
      "투표한 사람들 중 4.0 비율: 0.2385\n",
      "투표한 사람들 중 3.0 비율: 0.0931\n",
      "\n",
      "QbA 컬럼 중 1.0 의 비율: 0.2659\n",
      "QbA 컬럼 중 2.0 의 비율: 0.1664\n",
      "QbA 컬럼 중 5.0 의 비율: 0.2481\n",
      "QbA 컬럼 중 4.0 의 비율: 0.2273\n",
      "QbA 컬럼 중 3.0 의 비율: 0.0924\n",
      "\n",
      "1.0 중 투표를 한 비율:  0.1897\n",
      "2.0 중 투표를 한 비율:  0.2131\n",
      "5.0 중 투표를 한 비율:  0.1686\n",
      "4.0 중 투표를 한 비율:  0.2005\n",
      "3.0 중 투표를 한 비율:  0.1925\n"
     ]
    },
    {
     "data": {
      "image/png": "[encoded data removed]",
      "text/plain": [
       "<Figure size 432x288 with 1 Axes>"
      ]
     },
     "metadata": {
      "needs_background": "light"
     },
     "output_type": "display_data"
    }
   ],
   "source": [
    "sns.barplot(x='QbA', y='voted', data=vote_df)\n",
    "voted_prob(df=vote_df, column='QbA')"
   ]
  },
  {
   "cell_type": "code",
   "execution_count": null,
   "id": "c5ea136a",
   "metadata": {},
   "outputs": [],
   "source": []
  }
 ],
 "metadata": {
  "kernelspec": {
   "display_name": "Python [conda env:ssu] *",
   "language": "python",
   "name": "conda-env-ssu-py"
  },
  "language_info": {
   "codemirror_mode": {
    "name": "ipython",
    "version": 3
   },
   "file_extension": ".py",
   "mimetype": "text/x-python",
   "name": "python",
   "nbconvert_exporter": "python",
   "pygments_lexer": "ipython3",
   "version": "3.6.13"
  }
 },
 "nbformat": 4,
 "nbformat_minor": 5
}
