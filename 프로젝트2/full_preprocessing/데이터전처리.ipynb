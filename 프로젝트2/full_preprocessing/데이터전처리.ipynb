{
 "cells": [
  {
   "cell_type": "markdown",
   "metadata": {},
   "source": [
    "Import"
   ]
  },
  {
   "cell_type": "code",
   "execution_count": 2,
   "metadata": {},
   "outputs": [
    {
     "data": {
      "text/html": [
       "<div>\n",
       "<style scoped>\n",
       "    .dataframe tbody tr th:only-of-type {\n",
       "        vertical-align: middle;\n",
       "    }\n",
       "\n",
       "    .dataframe tbody tr th {\n",
       "        vertical-align: top;\n",
       "    }\n",
       "\n",
       "    .dataframe thead th {\n",
       "        text-align: right;\n",
       "    }\n",
       "</style>\n",
       "<table border=\"1\" class=\"dataframe\">\n",
       "  <thead>\n",
       "    <tr style=\"text-align: right;\">\n",
       "      <th></th>\n",
       "      <th>index</th>\n",
       "      <th>QaA</th>\n",
       "      <th>QaE</th>\n",
       "      <th>QbA</th>\n",
       "      <th>QbE</th>\n",
       "      <th>QcA</th>\n",
       "      <th>QcE</th>\n",
       "      <th>QdA</th>\n",
       "      <th>QdE</th>\n",
       "      <th>QeA</th>\n",
       "      <th>...</th>\n",
       "      <th>wr_04</th>\n",
       "      <th>wr_05</th>\n",
       "      <th>wr_06</th>\n",
       "      <th>wr_07</th>\n",
       "      <th>wr_08</th>\n",
       "      <th>wr_09</th>\n",
       "      <th>wr_10</th>\n",
       "      <th>wr_11</th>\n",
       "      <th>wr_12</th>\n",
       "      <th>wr_13</th>\n",
       "    </tr>\n",
       "  </thead>\n",
       "  <tbody>\n",
       "    <tr>\n",
       "      <th>0</th>\n",
       "      <td>43375</td>\n",
       "      <td>1.0</td>\n",
       "      <td>324</td>\n",
       "      <td>5.0</td>\n",
       "      <td>1067</td>\n",
       "      <td>5.0</td>\n",
       "      <td>359</td>\n",
       "      <td>1.0</td>\n",
       "      <td>709</td>\n",
       "      <td>1.0</td>\n",
       "      <td>...</td>\n",
       "      <td>1</td>\n",
       "      <td>1</td>\n",
       "      <td>1</td>\n",
       "      <td>1</td>\n",
       "      <td>1</td>\n",
       "      <td>0</td>\n",
       "      <td>1</td>\n",
       "      <td>0</td>\n",
       "      <td>1</td>\n",
       "      <td>1</td>\n",
       "    </tr>\n",
       "    <tr>\n",
       "      <th>1</th>\n",
       "      <td>4486</td>\n",
       "      <td>1.0</td>\n",
       "      <td>534</td>\n",
       "      <td>5.0</td>\n",
       "      <td>1555</td>\n",
       "      <td>5.0</td>\n",
       "      <td>2024</td>\n",
       "      <td>1.0</td>\n",
       "      <td>1097</td>\n",
       "      <td>1.0</td>\n",
       "      <td>...</td>\n",
       "      <td>1</td>\n",
       "      <td>1</td>\n",
       "      <td>1</td>\n",
       "      <td>1</td>\n",
       "      <td>1</td>\n",
       "      <td>0</td>\n",
       "      <td>1</td>\n",
       "      <td>0</td>\n",
       "      <td>1</td>\n",
       "      <td>1</td>\n",
       "    </tr>\n",
       "    <tr>\n",
       "      <th>2</th>\n",
       "      <td>10262</td>\n",
       "      <td>5.0</td>\n",
       "      <td>609</td>\n",
       "      <td>1.0</td>\n",
       "      <td>749</td>\n",
       "      <td>2.0</td>\n",
       "      <td>624</td>\n",
       "      <td>1.0</td>\n",
       "      <td>1833</td>\n",
       "      <td>3.0</td>\n",
       "      <td>...</td>\n",
       "      <td>1</td>\n",
       "      <td>1</td>\n",
       "      <td>0</td>\n",
       "      <td>1</td>\n",
       "      <td>1</td>\n",
       "      <td>0</td>\n",
       "      <td>1</td>\n",
       "      <td>0</td>\n",
       "      <td>1</td>\n",
       "      <td>0</td>\n",
       "    </tr>\n",
       "  </tbody>\n",
       "</table>\n",
       "<p>3 rows × 78 columns</p>\n",
       "</div>"
      ],
      "text/plain": [
       "   index  QaA  QaE  QbA   QbE  QcA   QcE  QdA   QdE  QeA  ...  wr_04  wr_05  \\\n",
       "0  43375  1.0  324  5.0  1067  5.0   359  1.0   709  1.0  ...      1      1   \n",
       "1   4486  1.0  534  5.0  1555  5.0  2024  1.0  1097  1.0  ...      1      1   \n",
       "2  10262  5.0  609  1.0   749  2.0   624  1.0  1833  3.0  ...      1      1   \n",
       "\n",
       "   wr_06  wr_07  wr_08  wr_09  wr_10  wr_11  wr_12  wr_13  \n",
       "0      1      1      1      0      1      0      1      1  \n",
       "1      1      1      1      0      1      0      1      1  \n",
       "2      0      1      1      0      1      0      1      0  \n",
       "\n",
       "[3 rows x 78 columns]"
      ]
     },
     "execution_count": 2,
     "metadata": {},
     "output_type": "execute_result"
    }
   ],
   "source": [
    "import numpy as np\n",
    "import pandas as pd\n",
    "import seaborn as sns\n",
    "import matplotlib.pyplot as plt\n",
    "import warnings\n",
    "\n",
    "from sklearn.preprocessing import LabelEncoder\n",
    "from sklearn.preprocessing import OneHotEncoder\n",
    "from sklearn.preprocessing import MinMaxScaler\n",
    "\n",
    "warnings.filterwarnings(\"ignore\")\n",
    "%matplotlib inline\n",
    "\n",
    "vote_df = pd.read_csv('../train.csv')\n",
    "vote_df.head(3)"
   ]
  },
  {
   "cell_type": "code",
   "execution_count": 4,
   "metadata": {},
   "outputs": [
    {
     "name": "stdout",
     "output_type": "stream",
     "text": [
      "0    19918\n",
      "1    16507\n",
      "Name: voted, dtype: int64\n"
     ]
    }
   ],
   "source": [
    "vote_df = pd.read_csv('../train.csv')\n",
    "\n",
    "#투표 여부 비율 확인\n",
    "print(vote_df.voted.value_counts())"
   ]
  },
  {
   "cell_type": "code",
   "execution_count": 5,
   "metadata": {},
   "outputs": [],
   "source": [
    "#머신러닝 알고리즘에 불필요한 속성 제거\n",
    "def drop_features(df):\n",
    "    vote_df.drop(['urban', 'gender', 'race', 'engnat', 'tp01','tp02', 'tp03','tp04','tp05','tp06','tp07','tp08','tp09','tp10',\n",
    "            'wr_01','wr_02','wr_03','wr_04','wr_05','wr_06','wr_07','wr_08','wr_09',\n",
    "            'wr_10','wr_11','wr_12','wr_13',\n",
    "            'wf_01', 'wf_02', 'wf_03','hand'], axis = 1, inplace=True) \n",
    "    return df"
   ]
  },
  {
   "cell_type": "code",
   "execution_count": 6,
   "metadata": {},
   "outputs": [],
   "source": [
    "def outlier_iqr(df=None, column= None, weight=1.5):\n",
    "    data = df[df['voted']==1][column]\n",
    "    q25, q75 = np.percentile(data.values, 25), np.percentile(data.values, 75)\n",
    "    iqr = q75 - q25\n",
    "    iqr_weight = iqr * weight\n",
    "    lower = q25 - iqr_weight\n",
    "    upper = q75 + iqr_weight\n",
    "    outlier_index = data[(data < lower) | (data > upper)].index\n",
    "    return outlier_index"
   ]
  },
  {
   "cell_type": "code",
   "execution_count": 7,
   "metadata": {},
   "outputs": [],
   "source": [
    "#Q_E 함수\n",
    "def replace_feature_Q(df):\n",
    "    col_name = ['QaE', 'QbE', 'QcE', 'QdE','QeE','QfE','QgE','QhE','QiE','QjE','QkE','QlE','QmE','QnE','QoE','QpE','QqE','QrE','QsE','QtE']\n",
    "    for col in col_name:\n",
    "        outlier_index = outlier_iqr(vote_df, column = col)\n",
    "        for i in outlier_index:\n",
    "            vote_df[col].replace(vote_df.loc[i, col], vote_df[col].mean())\n",
    "    \n",
    "    scaler = MinMaxScaler()\n",
    "    vote_df_QE = vote_df[col_name]\n",
    "    scaler.fit(vote_df_QE)\n",
    "    vote_df[col_name] = scaler.transform(vote_df_QE)\n",
    "    return df"
   ]
  },
  {
   "cell_type": "code",
   "execution_count": 8,
   "metadata": {},
   "outputs": [],
   "source": [
    "# age_group 함수\n",
    "def replace_feature_age(df):\n",
    "    vote_df['age_group'].replace('+70s', '60s',inplace=True)\n",
    "    #age_group 레이블 인코딩 수행:\n",
    "    feature = ['age_group']\n",
    "    le = LabelEncoder()\n",
    "    le = le.fit(df[feature])\n",
    "    vote_df[feature] = le.transform(df[feature])\n",
    "    return df"
   ]
  },
  {
   "cell_type": "code",
   "execution_count": 9,
   "metadata": {},
   "outputs": [],
   "source": [
    "#familysize 함수\n",
    "def fs_incodidng(df):\n",
    "    def fs_labeling(df):\n",
    "        label_list=[]\n",
    "        for i in range(len(df)):\n",
    "            if df.iloc[i]['familysize']==[2]:\n",
    "                 label_list.append(7)\n",
    "            elif df.iloc[i]['familysize']==[3]:\n",
    "                 label_list.append(2)\n",
    "            elif df.iloc[i]['familysize']==[1]:\n",
    "                 label_list.append(5)\n",
    "            elif df.iloc[i]['familysize']==[4]:\n",
    "                 label_list.append(4)\n",
    "            elif df.iloc[i]['familysize']==[5]:\n",
    "                 label_list.append(3)\n",
    "            elif df.iloc[i]['familysize']==[0]:\n",
    "                 label_list.append(2)\n",
    "            elif df.iloc[i]['familysize']==[6]:\n",
    "                 label_list.append(1)\n",
    "            else:\n",
    "                label_list.append(0)\n",
    "        return label_list\n",
    "    vote_df['familysize'] = fs_labeling(vote_df)\n",
    "    # 라벨링 후 0인 컬럼을 7로 변환(7이 가장 많은 비율을 차지하는 컬럼)\n",
    "    vote_df['familysize'].replace(0,7,inplace=True)\n",
    "    return df"
   ]
  },
  {
   "cell_type": "code",
   "execution_count": 10,
   "metadata": {},
   "outputs": [],
   "source": [
    "# 0값 대체함수\n",
    "def replace_feature(df):\n",
    "    vote_df['education'].replace(0,2,inplace=True)\n",
    "    vote_df['married'].replace(0,1,inplace=True)\n",
    "    vote_df['familysize'].replace(0,7,inplace=True) \n",
    "    return df"
   ]
  },
  {
   "cell_type": "code",
   "execution_count": 11,
   "metadata": {},
   "outputs": [],
   "source": [
    "# 원핫인코딩 함수\n",
    "def OH_incording(df):\n",
    "    pd.get_dummies(vote_df, columns=['education', 'married','religion'])\n",
    "    return df"
   ]
  },
  {
   "cell_type": "code",
   "execution_count": 12,
   "metadata": {},
   "outputs": [],
   "source": [
    "def transform_features(df):\n",
    "    df = replace_feature_Q(df)\n",
    "    df = replace_feature_age(df)\n",
    "    df = drop_features(df)\n",
    "    df = replace_feature(df)\n",
    "    df = fs_incodidng(df)\n",
    "    df = OH_incording(df)\n",
    "    return df"
   ]
  },
  {
   "cell_type": "code",
   "execution_count": 13,
   "metadata": {
    "scrolled": true
   },
   "outputs": [],
   "source": [
    "# 원본데이터를 재로딩하고, 함수적용\n",
    "vote_df = pd.read_csv('../train.csv')\n",
    "y_vote_df = vote_df['voted']\n",
    "X_vote_df = vote_df.drop('voted',axis=1)\n",
    "\n",
    "X_vote_df = transform_features(X_vote_df)"
   ]
  },
  {
   "cell_type": "code",
   "execution_count": 12,
   "metadata": {},
   "outputs": [],
   "source": [
    "from sklearn.model_selection import train_test_split\n",
    "X_train, X_test, y_train, y_test = train_test_split(X_vote_df, y_vote_df, test_size=0.2, random_state = 11)"
   ]
  }
 ],
 "metadata": {
  "kernelspec": {
   "display_name": "ssu",
   "language": "python",
   "name": "ssu"
  },
  "language_info": {
   "codemirror_mode": {
    "name": "ipython",
    "version": 3
   },
   "file_extension": ".py",
   "mimetype": "text/x-python",
   "name": "python",
   "nbconvert_exporter": "python",
   "pygments_lexer": "ipython3",
   "version": "3.6.13"
  }
 },
 "nbformat": 4,
 "nbformat_minor": 4
}
